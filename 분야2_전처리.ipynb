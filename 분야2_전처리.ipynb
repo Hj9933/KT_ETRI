{
 "cells": [
  {
   "cell_type": "code",
   "execution_count": 1,
   "metadata": {},
   "outputs": [],
   "source": [
    "import numpy as np\n",
    "import pandas as pd\n",
    "import matplotlib.pyplot as plt"
   ]
  },
  {
   "cell_type": "code",
   "execution_count": 26,
   "metadata": {},
   "outputs": [],
   "source": [
    "q2_train = pd.read_csv('../통신망 해커톤/data/Q2_data/Q2_train.csv')\n",
    "q2_test = pd.read_csv('../통신망 해커톤/data/Q2_data/Q2_test.csv')"
   ]
  },
  {
   "cell_type": "code",
   "execution_count": 27,
   "metadata": {},
   "outputs": [],
   "source": [
    "# slot이 결측치이면 1, 아니면 0 인 변수 생성 -> powerfail일 가능성 높음\n",
    "q2_train['slotna'] = q2_train['slot'].isna().astype(int)\n",
    "q2_test['slotna'] = q2_test['slot'].isna().astype(int)"
   ]
  },
  {
   "cell_type": "code",
   "execution_count": 28,
   "metadata": {},
   "outputs": [
    {
     "name": "stdout",
     "output_type": "stream",
     "text": [
      "0    8957\n",
      "1     365\n",
      "Name: slotna, dtype: int64\n",
      "0    34890\n",
      "1     2781\n",
      "Name: slotna, dtype: int64\n"
     ]
    }
   ],
   "source": [
    "print(q2_train['slotna'].value_counts())\n",
    "print(q2_test['slotna'].value_counts())\n"
   ]
  },
  {
   "cell_type": "code",
   "execution_count": 29,
   "metadata": {},
   "outputs": [],
   "source": [
    "q2_train.drop(labels = ['alarmno', 'slot', 'port', 'sva', 'root_cause_domain'], axis = 1, inplace = True)\n",
    "q2_test.drop(labels = ['alarmno', 'slot', 'port', 'sva', 'root_cause_domain'], axis = 1, inplace = True)"
   ]
  },
  {
   "cell_type": "code",
   "execution_count": 30,
   "metadata": {},
   "outputs": [
    {
     "name": "stdout",
     "output_type": "stream",
     "text": [
      "Index(['ticketno', 'alarmtime', 'alarmlevel', 'alarmmsg_original', 'site',\n",
      "       'sysname', 'unit', 'root_cause_type', 'slotna'],\n",
      "      dtype='object')\n",
      "Index(['ticketno', 'alarmtime', 'alarmlevel', 'alarmmsg_original', 'site',\n",
      "       'sysname', 'unit', 'slotna'],\n",
      "      dtype='object')\n"
     ]
    }
   ],
   "source": [
    "print(q2_train.columns)\n",
    "print(q2_test.columns)"
   ]
  },
  {
   "cell_type": "code",
   "execution_count": 31,
   "metadata": {},
   "outputs": [
    {
     "name": "stdout",
     "output_type": "stream",
     "text": [
      "<class 'pandas.core.frame.DataFrame'>\n",
      "RangeIndex: 9322 entries, 0 to 9321\n",
      "Data columns (total 9 columns):\n",
      " #   Column             Non-Null Count  Dtype  \n",
      "---  ------             --------------  -----  \n",
      " 0   ticketno           9322 non-null   float64\n",
      " 1   alarmtime          9322 non-null   object \n",
      " 2   alarmlevel         9322 non-null   int64  \n",
      " 3   alarmmsg_original  9322 non-null   object \n",
      " 4   site               9322 non-null   object \n",
      " 5   sysname            9322 non-null   object \n",
      " 6   unit               9322 non-null   object \n",
      " 7   slotna             9322 non-null   int32  \n",
      " 8   root_cause_type    9322 non-null   object \n",
      "dtypes: float64(1), int32(1), int64(1), object(6)\n",
      "memory usage: 619.2+ KB\n"
     ]
    }
   ],
   "source": [
    "col = q2_train.columns.to_numpy()\n",
    "col = col[[0, 1, 2, 3, 4, 5, 6, 8, 7]]\n",
    "q2_train = q2_train[col]\n",
    "q2_train.info()"
   ]
  }
 ],
 "metadata": {
  "kernelspec": {
   "display_name": "venv",
   "language": "python",
   "name": "python3"
  },
  "language_info": {
   "codemirror_mode": {
    "name": "ipython",
    "version": 3
   },
   "file_extension": ".py",
   "mimetype": "text/x-python",
   "name": "python",
   "nbconvert_exporter": "python",
   "pygments_lexer": "ipython3",
   "version": "3.8.15"
  },
  "orig_nbformat": 4
 },
 "nbformat": 4,
 "nbformat_minor": 2
}
