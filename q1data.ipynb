{
 "cells": [
  {
   "cell_type": "code",
   "execution_count": 1,
   "metadata": {},
   "outputs": [],
   "source": [
    "import numpy as np\n",
    "import pandas as pd\n",
    "import matplotlib.pyplot as plt"
   ]
  },
  {
   "cell_type": "code",
   "execution_count": 2,
   "metadata": {},
   "outputs": [],
   "source": [
    "q1_train = pd.read_csv('../통신망 해커톤/data/Q1_data/Q1_train.csv')\n",
    "q1_test = pd.read_csv('../통신망 해커톤/data/Q1_data/Q1_test.csv')\n",
    "q1_test.drop(labels = ['Unnamed: 0'], axis = 1, inplace = True)"
   ]
  },
  {
   "cell_type": "code",
   "execution_count": 3,
   "metadata": {},
   "outputs": [
    {
     "name": "stdout",
     "output_type": "stream",
     "text": [
      "(137445, 39)\n",
      "(34362, 38)\n"
     ]
    }
   ],
   "source": [
    "print(q1_train.shape)\n",
    "print(q1_test.shape)"
   ]
  },
  {
   "cell_type": "markdown",
   "metadata": {},
   "source": [
    "#### 데이터 전처리"
   ]
  },
  {
   "cell_type": "markdown",
   "metadata": {},
   "source": [
    "##### 1. dtype 맞게 전처리"
   ]
  },
  {
   "cell_type": "code",
   "execution_count": 4,
   "metadata": {},
   "outputs": [],
   "source": [
    "from datetime import datetime\n",
    "q1_train['datetime'] = pd.to_datetime(q1_train['datetime'])\n",
    "q1_test['datetime'] = pd.to_datetime(q1_test['datetime'])"
   ]
  },
  {
   "cell_type": "code",
   "execution_count": 5,
   "metadata": {},
   "outputs": [],
   "source": [
    "q1_train['reestabatt'] = q1_train['reestabatt'].astype(int)\n",
    "q1_train['reestabsucc'] = q1_train['reestabsucc'].astype(int)\n",
    "q1_test['reestabatt'] = q1_test['reestabatt'].astype(int)\n",
    "q1_test['reestabsucc'] = q1_test['reestabsucc'].astype(int)"
   ]
  },
  {
   "cell_type": "code",
   "execution_count": 6,
   "metadata": {},
   "outputs": [
    {
     "data": {
      "text/plain": [
       "Index(['datetime', 'ru_id', 'scgfail', 'scgfailratio', 'erabaddatt',\n",
       "       'erabaddsucc', 'endcaddatt', 'endcaddsucc', 'endcmodbymenbatt',\n",
       "       'endcmodbymenbsucc', 'endcmodbysgnbatt', 'endcmodbysgnbsucc',\n",
       "       'connestabatt', 'connestabsucc', 'redirectiontolte_coverageout',\n",
       "       'redirectiontolte_epsfallback', 'redirectiontolte_emergencyfallback',\n",
       "       'handoveratt', 'handoversucc', 'reestabatt', 'reestabsucc', 'rlculbyte',\n",
       "       'rlcdlbyte', 'totprbulavg', 'totprbdlavg', 'dlreceivedriavg',\n",
       "       'dltransmittedmcsavg', 'airmaculbyte', 'airmacdlbyte', 'bler_ul',\n",
       "       'bler_dl', 'rachpreamblea', 'numrar', 'nummsg3', 'attpaging',\n",
       "       'rssipathavg', 'dlreceivedcqiavg', 'endcrelbymenb', 'uenomax'],\n",
       "      dtype='object')"
      ]
     },
     "execution_count": 6,
     "metadata": {},
     "output_type": "execute_result"
    }
   ],
   "source": [
    "q1_train.columns"
   ]
  },
  {
   "cell_type": "markdown",
   "metadata": {},
   "source": [
    "##### 2. ratio 변수"
   ]
  },
  {
   "cell_type": "code",
   "execution_count": 7,
   "metadata": {},
   "outputs": [],
   "source": [
    "q1_train['erabaddratio'] = q1_train['erabaddsucc']/q1_train['erabaddatt']\n",
    "q1_train['endcaddratio'] = q1_train['endcaddsucc']/q1_train['endcaddatt']\n",
    "q1_train['endcmodbymenbratio'] = q1_train['endcmodbymenbsucc']/q1_train['endcmodbymenbatt']\n",
    "q1_train['endcmodbysgnbratio'] = q1_train['endcmodbysgnbsucc']/q1_train['endcmodbysgnbatt']\n",
    "q1_train['connestabratio'] = q1_train['connestabsucc']/q1_train['connestabatt']\n",
    "q1_train['handoverratio'] = q1_train['handoversucc']/q1_train['handoveratt']\n",
    "q1_train['reestabratio'] = q1_train['reestabsucc']/q1_train['reestabatt']"
   ]
  },
  {
   "cell_type": "code",
   "execution_count": 8,
   "metadata": {},
   "outputs": [],
   "source": [
    "q1_train.drop(labels=['scgfail', 'erabaddsucc', 'endcaddsucc', 'endcmodbymenbsucc', 'endcmodbysgnbsucc', 'connestabsucc', 'handoversucc', 'reestabsucc'], axis = 1, inplace = True)"
   ]
  },
  {
   "cell_type": "code",
   "execution_count": 9,
   "metadata": {},
   "outputs": [],
   "source": [
    "q1_test['erabaddratio'] = q1_test['erabaddsucc']/q1_test['erabaddatt']\n",
    "q1_test['endcaddratio'] = q1_test['endcaddsucc']/q1_test['endcaddatt']\n",
    "q1_test['endcmodbymenbratio'] = q1_test['endcmodbymenbsucc']/q1_test['endcmodbymenbatt']\n",
    "q1_test['endcmodbysgnbratio'] = q1_test['endcmodbysgnbsucc']/q1_test['endcmodbysgnbatt']\n",
    "q1_test['connestabratio'] = q1_test['connestabsucc']/q1_test['connestabatt']\n",
    "q1_test['handoverratio'] = q1_test['handoversucc']/q1_test['handoveratt']\n",
    "q1_test['reestabratio'] = q1_test['reestabsucc']/q1_test['reestabatt']"
   ]
  },
  {
   "cell_type": "code",
   "execution_count": 10,
   "metadata": {},
   "outputs": [],
   "source": [
    "q1_test.drop(labels=['scgfail', 'erabaddsucc', 'endcaddsucc', 'endcmodbymenbsucc', 'endcmodbysgnbsucc', 'connestabsucc', 'handoversucc', 'reestabsucc'], axis = 1, inplace = True)"
   ]
  },
  {
   "cell_type": "code",
   "execution_count": 11,
   "metadata": {},
   "outputs": [
    {
     "data": {
      "text/html": [
       "<div>\n",
       "<style scoped>\n",
       "    .dataframe tbody tr th:only-of-type {\n",
       "        vertical-align: middle;\n",
       "    }\n",
       "\n",
       "    .dataframe tbody tr th {\n",
       "        vertical-align: top;\n",
       "    }\n",
       "\n",
       "    .dataframe thead th {\n",
       "        text-align: right;\n",
       "    }\n",
       "</style>\n",
       "<table border=\"1\" class=\"dataframe\">\n",
       "  <thead>\n",
       "    <tr style=\"text-align: right;\">\n",
       "      <th></th>\n",
       "      <th>datetime</th>\n",
       "      <th>ru_id</th>\n",
       "      <th>scgfailratio</th>\n",
       "      <th>erabaddatt</th>\n",
       "      <th>endcaddatt</th>\n",
       "      <th>endcmodbymenbatt</th>\n",
       "      <th>endcmodbysgnbatt</th>\n",
       "      <th>connestabatt</th>\n",
       "      <th>redirectiontolte_coverageout</th>\n",
       "      <th>redirectiontolte_epsfallback</th>\n",
       "      <th>...</th>\n",
       "      <th>rssipathavg</th>\n",
       "      <th>dlreceivedcqiavg</th>\n",
       "      <th>endcrelbymenb</th>\n",
       "      <th>erabaddratio</th>\n",
       "      <th>endcaddratio</th>\n",
       "      <th>endcmodbymenbratio</th>\n",
       "      <th>endcmodbysgnbratio</th>\n",
       "      <th>connestabratio</th>\n",
       "      <th>handoverratio</th>\n",
       "      <th>reestabratio</th>\n",
       "    </tr>\n",
       "  </thead>\n",
       "  <tbody>\n",
       "    <tr>\n",
       "      <th>0</th>\n",
       "      <td>2023-05-19 00:00:00</td>\n",
       "      <td>BaseStationJ</td>\n",
       "      <td>0.0</td>\n",
       "      <td>5</td>\n",
       "      <td>5</td>\n",
       "      <td>0</td>\n",
       "      <td>1</td>\n",
       "      <td>1</td>\n",
       "      <td>0</td>\n",
       "      <td>0</td>\n",
       "      <td>...</td>\n",
       "      <td>-93.0</td>\n",
       "      <td>9.8</td>\n",
       "      <td>0</td>\n",
       "      <td>1.0</td>\n",
       "      <td>1.0</td>\n",
       "      <td>NaN</td>\n",
       "      <td>1.0</td>\n",
       "      <td>1.0</td>\n",
       "      <td>1.0</td>\n",
       "      <td>NaN</td>\n",
       "    </tr>\n",
       "    <tr>\n",
       "      <th>1</th>\n",
       "      <td>2023-05-19 00:00:00</td>\n",
       "      <td>BaseStationB</td>\n",
       "      <td>0.0</td>\n",
       "      <td>3</td>\n",
       "      <td>3</td>\n",
       "      <td>0</td>\n",
       "      <td>2</td>\n",
       "      <td>0</td>\n",
       "      <td>0</td>\n",
       "      <td>0</td>\n",
       "      <td>...</td>\n",
       "      <td>-92.8</td>\n",
       "      <td>5.9</td>\n",
       "      <td>4</td>\n",
       "      <td>1.0</td>\n",
       "      <td>1.0</td>\n",
       "      <td>NaN</td>\n",
       "      <td>1.0</td>\n",
       "      <td>NaN</td>\n",
       "      <td>NaN</td>\n",
       "      <td>NaN</td>\n",
       "    </tr>\n",
       "    <tr>\n",
       "      <th>2</th>\n",
       "      <td>2023-05-19 00:05:00</td>\n",
       "      <td>BaseStationJ</td>\n",
       "      <td>0.0</td>\n",
       "      <td>3</td>\n",
       "      <td>2</td>\n",
       "      <td>0</td>\n",
       "      <td>4</td>\n",
       "      <td>1</td>\n",
       "      <td>0</td>\n",
       "      <td>0</td>\n",
       "      <td>...</td>\n",
       "      <td>-93.1</td>\n",
       "      <td>11.7</td>\n",
       "      <td>0</td>\n",
       "      <td>1.0</td>\n",
       "      <td>1.0</td>\n",
       "      <td>NaN</td>\n",
       "      <td>1.0</td>\n",
       "      <td>1.0</td>\n",
       "      <td>NaN</td>\n",
       "      <td>NaN</td>\n",
       "    </tr>\n",
       "    <tr>\n",
       "      <th>3</th>\n",
       "      <td>2023-05-19 00:05:00</td>\n",
       "      <td>BaseStationB</td>\n",
       "      <td>0.0</td>\n",
       "      <td>16</td>\n",
       "      <td>16</td>\n",
       "      <td>0</td>\n",
       "      <td>13</td>\n",
       "      <td>0</td>\n",
       "      <td>0</td>\n",
       "      <td>0</td>\n",
       "      <td>...</td>\n",
       "      <td>-92.8</td>\n",
       "      <td>7.4</td>\n",
       "      <td>14</td>\n",
       "      <td>1.0</td>\n",
       "      <td>1.0</td>\n",
       "      <td>NaN</td>\n",
       "      <td>1.0</td>\n",
       "      <td>NaN</td>\n",
       "      <td>NaN</td>\n",
       "      <td>NaN</td>\n",
       "    </tr>\n",
       "    <tr>\n",
       "      <th>4</th>\n",
       "      <td>2023-05-19 00:10:00</td>\n",
       "      <td>BaseStationJ</td>\n",
       "      <td>0.0</td>\n",
       "      <td>4</td>\n",
       "      <td>4</td>\n",
       "      <td>0</td>\n",
       "      <td>2</td>\n",
       "      <td>2</td>\n",
       "      <td>0</td>\n",
       "      <td>0</td>\n",
       "      <td>...</td>\n",
       "      <td>-93.1</td>\n",
       "      <td>11.1</td>\n",
       "      <td>0</td>\n",
       "      <td>1.0</td>\n",
       "      <td>1.0</td>\n",
       "      <td>NaN</td>\n",
       "      <td>1.0</td>\n",
       "      <td>1.0</td>\n",
       "      <td>NaN</td>\n",
       "      <td>NaN</td>\n",
       "    </tr>\n",
       "  </tbody>\n",
       "</table>\n",
       "<p>5 rows × 37 columns</p>\n",
       "</div>"
      ],
      "text/plain": [
       "             datetime         ru_id  scgfailratio  erabaddatt  endcaddatt  \\\n",
       "0 2023-05-19 00:00:00  BaseStationJ           0.0           5           5   \n",
       "1 2023-05-19 00:00:00  BaseStationB           0.0           3           3   \n",
       "2 2023-05-19 00:05:00  BaseStationJ           0.0           3           2   \n",
       "3 2023-05-19 00:05:00  BaseStationB           0.0          16          16   \n",
       "4 2023-05-19 00:10:00  BaseStationJ           0.0           4           4   \n",
       "\n",
       "   endcmodbymenbatt  endcmodbysgnbatt  connestabatt  \\\n",
       "0                 0                 1             1   \n",
       "1                 0                 2             0   \n",
       "2                 0                 4             1   \n",
       "3                 0                13             0   \n",
       "4                 0                 2             2   \n",
       "\n",
       "   redirectiontolte_coverageout  redirectiontolte_epsfallback  ...  \\\n",
       "0                             0                             0  ...   \n",
       "1                             0                             0  ...   \n",
       "2                             0                             0  ...   \n",
       "3                             0                             0  ...   \n",
       "4                             0                             0  ...   \n",
       "\n",
       "   rssipathavg  dlreceivedcqiavg  endcrelbymenb  erabaddratio  endcaddratio  \\\n",
       "0        -93.0               9.8              0           1.0           1.0   \n",
       "1        -92.8               5.9              4           1.0           1.0   \n",
       "2        -93.1              11.7              0           1.0           1.0   \n",
       "3        -92.8               7.4             14           1.0           1.0   \n",
       "4        -93.1              11.1              0           1.0           1.0   \n",
       "\n",
       "   endcmodbymenbratio  endcmodbysgnbratio  connestabratio  handoverratio  \\\n",
       "0                 NaN                 1.0             1.0            1.0   \n",
       "1                 NaN                 1.0             NaN            NaN   \n",
       "2                 NaN                 1.0             1.0            NaN   \n",
       "3                 NaN                 1.0             NaN            NaN   \n",
       "4                 NaN                 1.0             1.0            NaN   \n",
       "\n",
       "   reestabratio  \n",
       "0           NaN  \n",
       "1           NaN  \n",
       "2           NaN  \n",
       "3           NaN  \n",
       "4           NaN  \n",
       "\n",
       "[5 rows x 37 columns]"
      ]
     },
     "execution_count": 11,
     "metadata": {},
     "output_type": "execute_result"
    }
   ],
   "source": [
    "q1_test.head()"
   ]
  },
  {
   "cell_type": "markdown",
   "metadata": {},
   "source": [
    "##### 3. 변수 drop\n",
    "###### redirectiontolte_emergencyfallback은 y와 상관계수(셋다)가 0이므로 빼도 될듯\n",
    "###### rachpreamblea, numrar 데이터 동일 → 둘 중 하나 drop"
   ]
  },
  {
   "cell_type": "code",
   "execution_count": 12,
   "metadata": {},
   "outputs": [],
   "source": [
    "q1_train.drop(labels = ['redirectiontolte_emergencyfallback', 'numrar'], axis = 1, inplace = True)\n",
    "q1_test.drop(labels = ['redirectiontolte_emergencyfallback', 'numrar'], axis = 1, inplace = True)"
   ]
  },
  {
   "cell_type": "code",
   "execution_count": 13,
   "metadata": {},
   "outputs": [
    {
     "name": "stdout",
     "output_type": "stream",
     "text": [
      "(137445, 36)\n",
      "(34362, 35)\n"
     ]
    }
   ],
   "source": [
    "print(q1_train.shape)\n",
    "print(q1_test.shape)"
   ]
  },
  {
   "cell_type": "markdown",
   "metadata": {},
   "source": [
    "##### 4. 결측치 처리\n",
    "###### 결측치 포함된 행 제거 (9개)"
   ]
  },
  {
   "cell_type": "code",
   "execution_count": 14,
   "metadata": {},
   "outputs": [],
   "source": [
    "q1_train.dropna(axis=0, inplace = True)"
   ]
  }
 ],
 "metadata": {
  "kernelspec": {
   "display_name": "venv",
   "language": "python",
   "name": "python3"
  },
  "language_info": {
   "codemirror_mode": {
    "name": "ipython",
    "version": 3
   },
   "file_extension": ".py",
   "mimetype": "text/x-python",
   "name": "python",
   "nbconvert_exporter": "python",
   "pygments_lexer": "ipython3",
   "version": "3.8.15"
  },
  "orig_nbformat": 4
 },
 "nbformat": 4,
 "nbformat_minor": 2
}
