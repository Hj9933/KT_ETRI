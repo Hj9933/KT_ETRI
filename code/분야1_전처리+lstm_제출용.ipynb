{
  "nbformat": 4,
  "nbformat_minor": 0,
  "metadata": {
    "colab": {
      "provenance": []
    },
    "kernelspec": {
      "name": "python3",
      "display_name": "Python 3"
    },
    "language_info": {
      "name": "python"
    }
  },
  "cells": [
    {
      "cell_type": "code",
      "execution_count": 1,
      "metadata": {
        "colab": {
          "base_uri": "https://localhost:8080/"
        },
        "id": "4OaFfJsOvaEG",
        "outputId": "3cb662f6-5bba-4caa-b392-08100858bc5b"
      },
      "outputs": [
        {
          "output_type": "stream",
          "name": "stdout",
          "text": [
            "Mounted at /content/drive\n"
          ]
        }
      ],
      "source": [
        "from google.colab import drive\n",
        "drive.mount('/content/drive')"
      ]
    },
    {
      "cell_type": "code",
      "source": [
        "%cd /content/drive/MyDrive/KT_ETRI/"
      ],
      "metadata": {
        "id": "HmPCKy-vvjIV",
        "colab": {
          "base_uri": "https://localhost:8080/"
        },
        "outputId": "8780814b-bf82-45f8-c4b4-7ce1d841f54e"
      },
      "execution_count": 2,
      "outputs": [
        {
          "output_type": "stream",
          "name": "stdout",
          "text": [
            "/content/drive/MyDrive/KT_ETRI\n"
          ]
        }
      ]
    },
    {
      "cell_type": "code",
      "source": [
        "import torch\n",
        "import torch.nn as nn\n",
        "import torchvision.transforms as transforms\n",
        "import torchvision.datasets as dataset\n",
        "from torch.autograd import Variable\n",
        "from torch.nn import Parameter\n",
        "from torch import Tensor\n",
        "import torch.nn.functional as F\n",
        "from torch.utils.data import DataLoader\n",
        "import torchtext\n",
        "import time\n",
        "import seaborn as sns\n",
        "import matplotlib.pyplot as plt\n",
        "import math\n",
        "\n",
        "import os\n",
        "import random\n",
        "import time\n",
        "\n",
        "import numpy as np\n",
        "import pandas as pd\n",
        "import matplotlib.pyplot as plt\n",
        "\n",
        "import torch\n",
        "import torch.nn as nn\n",
        "from torch.utils.data import TensorDataset, DataLoader\n",
        "from torch.autograd import Variable\n",
        "from tqdm import tqdm_notebook\n",
        "from sklearn.preprocessing import StandardScaler, MinMaxScaler\n",
        "from sklearn.model_selection import train_test_split"
      ],
      "metadata": {
        "id": "5Ur6CuMpZud-"
      },
      "execution_count": 3,
      "outputs": []
    },
    {
      "cell_type": "code",
      "source": [
        "def seed_everything(seed):\n",
        "    random.seed(seed)\n",
        "    os.environ['PYTHONHASHSEED'] = str(seed)\n",
        "    np.random.seed(seed)\n",
        "    torch.manual_seed(seed)\n",
        "    torch.cuda.manual_seed(seed)\n",
        "    torch.backends.cudnn.deterministic = True\n",
        "    torch.backends.cudnn.benchmark = True\n",
        "\n",
        "seed_everything(42) # Seed 고정"
      ],
      "metadata": {
        "id": "-ZwAJZ05Zm2I"
      },
      "execution_count": 4,
      "outputs": []
    },
    {
      "cell_type": "code",
      "source": [
        "import pandas as pd\n",
        "import numpy as np"
      ],
      "metadata": {
        "id": "5IdLUZbOv2qc"
      },
      "execution_count": 5,
      "outputs": []
    },
    {
      "cell_type": "code",
      "source": [
        "q1_data = pd.read_csv('Q1_train.csv')\n",
        "q1_test = pd.read_csv('Q1_test.csv', index_col = 0)\n",
        "q1_data.head()"
      ],
      "metadata": {
        "colab": {
          "base_uri": "https://localhost:8080/",
          "height": 429
        },
        "id": "nr4Rp133v1Bj",
        "outputId": "718428d0-116e-493e-89f5-c79df2818ea6"
      },
      "execution_count": 6,
      "outputs": [
        {
          "output_type": "execute_result",
          "data": {
            "text/plain": [
              "              datetime         ru_id  scgfail  scgfailratio  erabaddatt  \\\n",
              "0  2023-05-19 00:00:00  BaseStationG        0           0.0          12   \n",
              "1  2023-05-19 00:00:00  BaseStationE        0           0.0          28   \n",
              "2  2023-05-19 00:00:00  BaseStationF        1           3.7          27   \n",
              "3  2023-05-19 00:00:00  BaseStationI        0           0.0           1   \n",
              "4  2023-05-19 00:00:00  BaseStationD        0           0.0          29   \n",
              "\n",
              "   erabaddsucc  endcaddatt  endcaddsucc  endcmodbymenbatt  endcmodbymenbsucc  \\\n",
              "0           12          10           10                 0                  0   \n",
              "1           28          27           27                11                 11   \n",
              "2           27          17           17                 8                  8   \n",
              "3            1           1            1                 0                  0   \n",
              "4           29          29           29                 1                  1   \n",
              "\n",
              "   ...  bler_ul  bler_dl  rachpreamblea  numrar  nummsg3  attpaging  \\\n",
              "0  ...     10.5     22.4           47.0    47.0     17.0     2243.0   \n",
              "1  ...     19.4      8.8          174.0   174.0     39.0     2240.0   \n",
              "2  ...     15.5      6.0          137.0   137.0     53.0     1337.0   \n",
              "3  ...      8.5      5.7          259.0   259.0      5.0     1401.0   \n",
              "4  ...     18.3      9.2           51.0    51.0     35.0     2083.0   \n",
              "\n",
              "   rssipathavg  dlreceivedcqiavg  endcrelbymenb  uenomax  \n",
              "0        -93.3              11.1              0        1  \n",
              "1        -93.5              10.2              4        5  \n",
              "2        -92.7              11.3              2        6  \n",
              "3        -92.8              13.6              0        1  \n",
              "4        -92.7              12.4             28        4  \n",
              "\n",
              "[5 rows x 39 columns]"
            ],
            "text/html": [
              "\n",
              "  <div id=\"df-63f1eac7-f818-43d2-ad46-ed4bbe86f3dc\" class=\"colab-df-container\">\n",
              "    <div>\n",
              "<style scoped>\n",
              "    .dataframe tbody tr th:only-of-type {\n",
              "        vertical-align: middle;\n",
              "    }\n",
              "\n",
              "    .dataframe tbody tr th {\n",
              "        vertical-align: top;\n",
              "    }\n",
              "\n",
              "    .dataframe thead th {\n",
              "        text-align: right;\n",
              "    }\n",
              "</style>\n",
              "<table border=\"1\" class=\"dataframe\">\n",
              "  <thead>\n",
              "    <tr style=\"text-align: right;\">\n",
              "      <th></th>\n",
              "      <th>datetime</th>\n",
              "      <th>ru_id</th>\n",
              "      <th>scgfail</th>\n",
              "      <th>scgfailratio</th>\n",
              "      <th>erabaddatt</th>\n",
              "      <th>erabaddsucc</th>\n",
              "      <th>endcaddatt</th>\n",
              "      <th>endcaddsucc</th>\n",
              "      <th>endcmodbymenbatt</th>\n",
              "      <th>endcmodbymenbsucc</th>\n",
              "      <th>...</th>\n",
              "      <th>bler_ul</th>\n",
              "      <th>bler_dl</th>\n",
              "      <th>rachpreamblea</th>\n",
              "      <th>numrar</th>\n",
              "      <th>nummsg3</th>\n",
              "      <th>attpaging</th>\n",
              "      <th>rssipathavg</th>\n",
              "      <th>dlreceivedcqiavg</th>\n",
              "      <th>endcrelbymenb</th>\n",
              "      <th>uenomax</th>\n",
              "    </tr>\n",
              "  </thead>\n",
              "  <tbody>\n",
              "    <tr>\n",
              "      <th>0</th>\n",
              "      <td>2023-05-19 00:00:00</td>\n",
              "      <td>BaseStationG</td>\n",
              "      <td>0</td>\n",
              "      <td>0.0</td>\n",
              "      <td>12</td>\n",
              "      <td>12</td>\n",
              "      <td>10</td>\n",
              "      <td>10</td>\n",
              "      <td>0</td>\n",
              "      <td>0</td>\n",
              "      <td>...</td>\n",
              "      <td>10.5</td>\n",
              "      <td>22.4</td>\n",
              "      <td>47.0</td>\n",
              "      <td>47.0</td>\n",
              "      <td>17.0</td>\n",
              "      <td>2243.0</td>\n",
              "      <td>-93.3</td>\n",
              "      <td>11.1</td>\n",
              "      <td>0</td>\n",
              "      <td>1</td>\n",
              "    </tr>\n",
              "    <tr>\n",
              "      <th>1</th>\n",
              "      <td>2023-05-19 00:00:00</td>\n",
              "      <td>BaseStationE</td>\n",
              "      <td>0</td>\n",
              "      <td>0.0</td>\n",
              "      <td>28</td>\n",
              "      <td>28</td>\n",
              "      <td>27</td>\n",
              "      <td>27</td>\n",
              "      <td>11</td>\n",
              "      <td>11</td>\n",
              "      <td>...</td>\n",
              "      <td>19.4</td>\n",
              "      <td>8.8</td>\n",
              "      <td>174.0</td>\n",
              "      <td>174.0</td>\n",
              "      <td>39.0</td>\n",
              "      <td>2240.0</td>\n",
              "      <td>-93.5</td>\n",
              "      <td>10.2</td>\n",
              "      <td>4</td>\n",
              "      <td>5</td>\n",
              "    </tr>\n",
              "    <tr>\n",
              "      <th>2</th>\n",
              "      <td>2023-05-19 00:00:00</td>\n",
              "      <td>BaseStationF</td>\n",
              "      <td>1</td>\n",
              "      <td>3.7</td>\n",
              "      <td>27</td>\n",
              "      <td>27</td>\n",
              "      <td>17</td>\n",
              "      <td>17</td>\n",
              "      <td>8</td>\n",
              "      <td>8</td>\n",
              "      <td>...</td>\n",
              "      <td>15.5</td>\n",
              "      <td>6.0</td>\n",
              "      <td>137.0</td>\n",
              "      <td>137.0</td>\n",
              "      <td>53.0</td>\n",
              "      <td>1337.0</td>\n",
              "      <td>-92.7</td>\n",
              "      <td>11.3</td>\n",
              "      <td>2</td>\n",
              "      <td>6</td>\n",
              "    </tr>\n",
              "    <tr>\n",
              "      <th>3</th>\n",
              "      <td>2023-05-19 00:00:00</td>\n",
              "      <td>BaseStationI</td>\n",
              "      <td>0</td>\n",
              "      <td>0.0</td>\n",
              "      <td>1</td>\n",
              "      <td>1</td>\n",
              "      <td>1</td>\n",
              "      <td>1</td>\n",
              "      <td>0</td>\n",
              "      <td>0</td>\n",
              "      <td>...</td>\n",
              "      <td>8.5</td>\n",
              "      <td>5.7</td>\n",
              "      <td>259.0</td>\n",
              "      <td>259.0</td>\n",
              "      <td>5.0</td>\n",
              "      <td>1401.0</td>\n",
              "      <td>-92.8</td>\n",
              "      <td>13.6</td>\n",
              "      <td>0</td>\n",
              "      <td>1</td>\n",
              "    </tr>\n",
              "    <tr>\n",
              "      <th>4</th>\n",
              "      <td>2023-05-19 00:00:00</td>\n",
              "      <td>BaseStationD</td>\n",
              "      <td>0</td>\n",
              "      <td>0.0</td>\n",
              "      <td>29</td>\n",
              "      <td>29</td>\n",
              "      <td>29</td>\n",
              "      <td>29</td>\n",
              "      <td>1</td>\n",
              "      <td>1</td>\n",
              "      <td>...</td>\n",
              "      <td>18.3</td>\n",
              "      <td>9.2</td>\n",
              "      <td>51.0</td>\n",
              "      <td>51.0</td>\n",
              "      <td>35.0</td>\n",
              "      <td>2083.0</td>\n",
              "      <td>-92.7</td>\n",
              "      <td>12.4</td>\n",
              "      <td>28</td>\n",
              "      <td>4</td>\n",
              "    </tr>\n",
              "  </tbody>\n",
              "</table>\n",
              "<p>5 rows × 39 columns</p>\n",
              "</div>\n",
              "    <div class=\"colab-df-buttons\">\n",
              "\n",
              "  <div class=\"colab-df-container\">\n",
              "    <button class=\"colab-df-convert\" onclick=\"convertToInteractive('df-63f1eac7-f818-43d2-ad46-ed4bbe86f3dc')\"\n",
              "            title=\"Convert this dataframe to an interactive table.\"\n",
              "            style=\"display:none;\">\n",
              "\n",
              "  <svg xmlns=\"http://www.w3.org/2000/svg\" height=\"24px\" viewBox=\"0 -960 960 960\">\n",
              "    <path d=\"M120-120v-720h720v720H120Zm60-500h600v-160H180v160Zm220 220h160v-160H400v160Zm0 220h160v-160H400v160ZM180-400h160v-160H180v160Zm440 0h160v-160H620v160ZM180-180h160v-160H180v160Zm440 0h160v-160H620v160Z\"/>\n",
              "  </svg>\n",
              "    </button>\n",
              "\n",
              "  <style>\n",
              "    .colab-df-container {\n",
              "      display:flex;\n",
              "      gap: 12px;\n",
              "    }\n",
              "\n",
              "    .colab-df-convert {\n",
              "      background-color: #E8F0FE;\n",
              "      border: none;\n",
              "      border-radius: 50%;\n",
              "      cursor: pointer;\n",
              "      display: none;\n",
              "      fill: #1967D2;\n",
              "      height: 32px;\n",
              "      padding: 0 0 0 0;\n",
              "      width: 32px;\n",
              "    }\n",
              "\n",
              "    .colab-df-convert:hover {\n",
              "      background-color: #E2EBFA;\n",
              "      box-shadow: 0px 1px 2px rgba(60, 64, 67, 0.3), 0px 1px 3px 1px rgba(60, 64, 67, 0.15);\n",
              "      fill: #174EA6;\n",
              "    }\n",
              "\n",
              "    .colab-df-buttons div {\n",
              "      margin-bottom: 4px;\n",
              "    }\n",
              "\n",
              "    [theme=dark] .colab-df-convert {\n",
              "      background-color: #3B4455;\n",
              "      fill: #D2E3FC;\n",
              "    }\n",
              "\n",
              "    [theme=dark] .colab-df-convert:hover {\n",
              "      background-color: #434B5C;\n",
              "      box-shadow: 0px 1px 3px 1px rgba(0, 0, 0, 0.15);\n",
              "      filter: drop-shadow(0px 1px 2px rgba(0, 0, 0, 0.3));\n",
              "      fill: #FFFFFF;\n",
              "    }\n",
              "  </style>\n",
              "\n",
              "    <script>\n",
              "      const buttonEl =\n",
              "        document.querySelector('#df-63f1eac7-f818-43d2-ad46-ed4bbe86f3dc button.colab-df-convert');\n",
              "      buttonEl.style.display =\n",
              "        google.colab.kernel.accessAllowed ? 'block' : 'none';\n",
              "\n",
              "      async function convertToInteractive(key) {\n",
              "        const element = document.querySelector('#df-63f1eac7-f818-43d2-ad46-ed4bbe86f3dc');\n",
              "        const dataTable =\n",
              "          await google.colab.kernel.invokeFunction('convertToInteractive',\n",
              "                                                    [key], {});\n",
              "        if (!dataTable) return;\n",
              "\n",
              "        const docLinkHtml = 'Like what you see? Visit the ' +\n",
              "          '<a target=\"_blank\" href=https://colab.research.google.com/notebooks/data_table.ipynb>data table notebook</a>'\n",
              "          + ' to learn more about interactive tables.';\n",
              "        element.innerHTML = '';\n",
              "        dataTable['output_type'] = 'display_data';\n",
              "        await google.colab.output.renderOutput(dataTable, element);\n",
              "        const docLink = document.createElement('div');\n",
              "        docLink.innerHTML = docLinkHtml;\n",
              "        element.appendChild(docLink);\n",
              "      }\n",
              "    </script>\n",
              "  </div>\n",
              "\n",
              "\n",
              "<div id=\"df-742d76ce-c104-410c-8ca3-c984dde5dd72\">\n",
              "  <button class=\"colab-df-quickchart\" onclick=\"quickchart('df-742d76ce-c104-410c-8ca3-c984dde5dd72')\"\n",
              "            title=\"Suggest charts.\"\n",
              "            style=\"display:none;\">\n",
              "\n",
              "<svg xmlns=\"http://www.w3.org/2000/svg\" height=\"24px\"viewBox=\"0 0 24 24\"\n",
              "     width=\"24px\">\n",
              "    <g>\n",
              "        <path d=\"M19 3H5c-1.1 0-2 .9-2 2v14c0 1.1.9 2 2 2h14c1.1 0 2-.9 2-2V5c0-1.1-.9-2-2-2zM9 17H7v-7h2v7zm4 0h-2V7h2v10zm4 0h-2v-4h2v4z\"/>\n",
              "    </g>\n",
              "</svg>\n",
              "  </button>\n",
              "\n",
              "<style>\n",
              "  .colab-df-quickchart {\n",
              "    background-color: #E8F0FE;\n",
              "    border: none;\n",
              "    border-radius: 50%;\n",
              "    cursor: pointer;\n",
              "    display: none;\n",
              "    fill: #1967D2;\n",
              "    height: 32px;\n",
              "    padding: 0 0 0 0;\n",
              "    width: 32px;\n",
              "  }\n",
              "\n",
              "  .colab-df-quickchart:hover {\n",
              "    background-color: #E2EBFA;\n",
              "    box-shadow: 0px 1px 2px rgba(60, 64, 67, 0.3), 0px 1px 3px 1px rgba(60, 64, 67, 0.15);\n",
              "    fill: #174EA6;\n",
              "  }\n",
              "\n",
              "  [theme=dark] .colab-df-quickchart {\n",
              "    background-color: #3B4455;\n",
              "    fill: #D2E3FC;\n",
              "  }\n",
              "\n",
              "  [theme=dark] .colab-df-quickchart:hover {\n",
              "    background-color: #434B5C;\n",
              "    box-shadow: 0px 1px 3px 1px rgba(0, 0, 0, 0.15);\n",
              "    filter: drop-shadow(0px 1px 2px rgba(0, 0, 0, 0.3));\n",
              "    fill: #FFFFFF;\n",
              "  }\n",
              "</style>\n",
              "\n",
              "  <script>\n",
              "    async function quickchart(key) {\n",
              "      const charts = await google.colab.kernel.invokeFunction(\n",
              "          'suggestCharts', [key], {});\n",
              "    }\n",
              "    (() => {\n",
              "      let quickchartButtonEl =\n",
              "        document.querySelector('#df-742d76ce-c104-410c-8ca3-c984dde5dd72 button');\n",
              "      quickchartButtonEl.style.display =\n",
              "        google.colab.kernel.accessAllowed ? 'block' : 'none';\n",
              "    })();\n",
              "  </script>\n",
              "</div>\n",
              "    </div>\n",
              "  </div>\n"
            ]
          },
          "metadata": {},
          "execution_count": 6
        }
      ]
    },
    {
      "cell_type": "code",
      "source": [
        "q1_test.head()"
      ],
      "metadata": {
        "colab": {
          "base_uri": "https://localhost:8080/",
          "height": 429
        },
        "id": "ypMbwY8slq9Z",
        "outputId": "2f054b09-eb63-48a5-bddc-cf53038e1d78"
      },
      "execution_count": 7,
      "outputs": [
        {
          "output_type": "execute_result",
          "data": {
            "text/plain": [
              "              datetime         ru_id  scgfail  scgfailratio  erabaddatt  \\\n",
              "0  2023-05-19 00:00:00  BaseStationJ        0           0.0           5   \n",
              "1  2023-05-19 00:00:00  BaseStationB        0           0.0           3   \n",
              "2  2023-05-19 00:05:00  BaseStationJ        0           0.0           3   \n",
              "3  2023-05-19 00:05:00  BaseStationB        0           0.0          16   \n",
              "4  2023-05-19 00:10:00  BaseStationJ        0           0.0           4   \n",
              "\n",
              "   erabaddsucc  endcaddatt  endcaddsucc  endcmodbymenbatt  endcmodbymenbsucc  \\\n",
              "0            5           5            5                 0                  0   \n",
              "1            3           3            3                 0                  0   \n",
              "2            3           2            2                 0                  0   \n",
              "3           16          16           16                 0                  0   \n",
              "4            4           4            4                 0                  0   \n",
              "\n",
              "   ...  airmacdlbyte  bler_ul  bler_dl  rachpreamblea  numrar  nummsg3  \\\n",
              "0  ...         412.0     13.3     22.4           73.0    73.0      7.0   \n",
              "1  ...           1.0      0.0      0.0            5.0     5.0      4.0   \n",
              "2  ...         418.0     45.6      5.2           33.0    33.0     14.0   \n",
              "3  ...         680.0     12.6      0.7           19.0    19.0     16.0   \n",
              "4  ...         184.0     12.9      2.8           52.0    52.0      6.0   \n",
              "\n",
              "   attpaging  rssipathavg  dlreceivedcqiavg  endcrelbymenb  \n",
              "0     1401.0        -93.0               9.8              0  \n",
              "1     2083.0        -92.8               5.9              4  \n",
              "2     1312.0        -93.1              11.7              0  \n",
              "3     1936.0        -92.8               7.4             14  \n",
              "4     1217.0        -93.1              11.1              0  \n",
              "\n",
              "[5 rows x 38 columns]"
            ],
            "text/html": [
              "\n",
              "  <div id=\"df-de6da895-f4f5-4cac-a486-2e75a59ed220\" class=\"colab-df-container\">\n",
              "    <div>\n",
              "<style scoped>\n",
              "    .dataframe tbody tr th:only-of-type {\n",
              "        vertical-align: middle;\n",
              "    }\n",
              "\n",
              "    .dataframe tbody tr th {\n",
              "        vertical-align: top;\n",
              "    }\n",
              "\n",
              "    .dataframe thead th {\n",
              "        text-align: right;\n",
              "    }\n",
              "</style>\n",
              "<table border=\"1\" class=\"dataframe\">\n",
              "  <thead>\n",
              "    <tr style=\"text-align: right;\">\n",
              "      <th></th>\n",
              "      <th>datetime</th>\n",
              "      <th>ru_id</th>\n",
              "      <th>scgfail</th>\n",
              "      <th>scgfailratio</th>\n",
              "      <th>erabaddatt</th>\n",
              "      <th>erabaddsucc</th>\n",
              "      <th>endcaddatt</th>\n",
              "      <th>endcaddsucc</th>\n",
              "      <th>endcmodbymenbatt</th>\n",
              "      <th>endcmodbymenbsucc</th>\n",
              "      <th>...</th>\n",
              "      <th>airmacdlbyte</th>\n",
              "      <th>bler_ul</th>\n",
              "      <th>bler_dl</th>\n",
              "      <th>rachpreamblea</th>\n",
              "      <th>numrar</th>\n",
              "      <th>nummsg3</th>\n",
              "      <th>attpaging</th>\n",
              "      <th>rssipathavg</th>\n",
              "      <th>dlreceivedcqiavg</th>\n",
              "      <th>endcrelbymenb</th>\n",
              "    </tr>\n",
              "  </thead>\n",
              "  <tbody>\n",
              "    <tr>\n",
              "      <th>0</th>\n",
              "      <td>2023-05-19 00:00:00</td>\n",
              "      <td>BaseStationJ</td>\n",
              "      <td>0</td>\n",
              "      <td>0.0</td>\n",
              "      <td>5</td>\n",
              "      <td>5</td>\n",
              "      <td>5</td>\n",
              "      <td>5</td>\n",
              "      <td>0</td>\n",
              "      <td>0</td>\n",
              "      <td>...</td>\n",
              "      <td>412.0</td>\n",
              "      <td>13.3</td>\n",
              "      <td>22.4</td>\n",
              "      <td>73.0</td>\n",
              "      <td>73.0</td>\n",
              "      <td>7.0</td>\n",
              "      <td>1401.0</td>\n",
              "      <td>-93.0</td>\n",
              "      <td>9.8</td>\n",
              "      <td>0</td>\n",
              "    </tr>\n",
              "    <tr>\n",
              "      <th>1</th>\n",
              "      <td>2023-05-19 00:00:00</td>\n",
              "      <td>BaseStationB</td>\n",
              "      <td>0</td>\n",
              "      <td>0.0</td>\n",
              "      <td>3</td>\n",
              "      <td>3</td>\n",
              "      <td>3</td>\n",
              "      <td>3</td>\n",
              "      <td>0</td>\n",
              "      <td>0</td>\n",
              "      <td>...</td>\n",
              "      <td>1.0</td>\n",
              "      <td>0.0</td>\n",
              "      <td>0.0</td>\n",
              "      <td>5.0</td>\n",
              "      <td>5.0</td>\n",
              "      <td>4.0</td>\n",
              "      <td>2083.0</td>\n",
              "      <td>-92.8</td>\n",
              "      <td>5.9</td>\n",
              "      <td>4</td>\n",
              "    </tr>\n",
              "    <tr>\n",
              "      <th>2</th>\n",
              "      <td>2023-05-19 00:05:00</td>\n",
              "      <td>BaseStationJ</td>\n",
              "      <td>0</td>\n",
              "      <td>0.0</td>\n",
              "      <td>3</td>\n",
              "      <td>3</td>\n",
              "      <td>2</td>\n",
              "      <td>2</td>\n",
              "      <td>0</td>\n",
              "      <td>0</td>\n",
              "      <td>...</td>\n",
              "      <td>418.0</td>\n",
              "      <td>45.6</td>\n",
              "      <td>5.2</td>\n",
              "      <td>33.0</td>\n",
              "      <td>33.0</td>\n",
              "      <td>14.0</td>\n",
              "      <td>1312.0</td>\n",
              "      <td>-93.1</td>\n",
              "      <td>11.7</td>\n",
              "      <td>0</td>\n",
              "    </tr>\n",
              "    <tr>\n",
              "      <th>3</th>\n",
              "      <td>2023-05-19 00:05:00</td>\n",
              "      <td>BaseStationB</td>\n",
              "      <td>0</td>\n",
              "      <td>0.0</td>\n",
              "      <td>16</td>\n",
              "      <td>16</td>\n",
              "      <td>16</td>\n",
              "      <td>16</td>\n",
              "      <td>0</td>\n",
              "      <td>0</td>\n",
              "      <td>...</td>\n",
              "      <td>680.0</td>\n",
              "      <td>12.6</td>\n",
              "      <td>0.7</td>\n",
              "      <td>19.0</td>\n",
              "      <td>19.0</td>\n",
              "      <td>16.0</td>\n",
              "      <td>1936.0</td>\n",
              "      <td>-92.8</td>\n",
              "      <td>7.4</td>\n",
              "      <td>14</td>\n",
              "    </tr>\n",
              "    <tr>\n",
              "      <th>4</th>\n",
              "      <td>2023-05-19 00:10:00</td>\n",
              "      <td>BaseStationJ</td>\n",
              "      <td>0</td>\n",
              "      <td>0.0</td>\n",
              "      <td>4</td>\n",
              "      <td>4</td>\n",
              "      <td>4</td>\n",
              "      <td>4</td>\n",
              "      <td>0</td>\n",
              "      <td>0</td>\n",
              "      <td>...</td>\n",
              "      <td>184.0</td>\n",
              "      <td>12.9</td>\n",
              "      <td>2.8</td>\n",
              "      <td>52.0</td>\n",
              "      <td>52.0</td>\n",
              "      <td>6.0</td>\n",
              "      <td>1217.0</td>\n",
              "      <td>-93.1</td>\n",
              "      <td>11.1</td>\n",
              "      <td>0</td>\n",
              "    </tr>\n",
              "  </tbody>\n",
              "</table>\n",
              "<p>5 rows × 38 columns</p>\n",
              "</div>\n",
              "    <div class=\"colab-df-buttons\">\n",
              "\n",
              "  <div class=\"colab-df-container\">\n",
              "    <button class=\"colab-df-convert\" onclick=\"convertToInteractive('df-de6da895-f4f5-4cac-a486-2e75a59ed220')\"\n",
              "            title=\"Convert this dataframe to an interactive table.\"\n",
              "            style=\"display:none;\">\n",
              "\n",
              "  <svg xmlns=\"http://www.w3.org/2000/svg\" height=\"24px\" viewBox=\"0 -960 960 960\">\n",
              "    <path d=\"M120-120v-720h720v720H120Zm60-500h600v-160H180v160Zm220 220h160v-160H400v160Zm0 220h160v-160H400v160ZM180-400h160v-160H180v160Zm440 0h160v-160H620v160ZM180-180h160v-160H180v160Zm440 0h160v-160H620v160Z\"/>\n",
              "  </svg>\n",
              "    </button>\n",
              "\n",
              "  <style>\n",
              "    .colab-df-container {\n",
              "      display:flex;\n",
              "      gap: 12px;\n",
              "    }\n",
              "\n",
              "    .colab-df-convert {\n",
              "      background-color: #E8F0FE;\n",
              "      border: none;\n",
              "      border-radius: 50%;\n",
              "      cursor: pointer;\n",
              "      display: none;\n",
              "      fill: #1967D2;\n",
              "      height: 32px;\n",
              "      padding: 0 0 0 0;\n",
              "      width: 32px;\n",
              "    }\n",
              "\n",
              "    .colab-df-convert:hover {\n",
              "      background-color: #E2EBFA;\n",
              "      box-shadow: 0px 1px 2px rgba(60, 64, 67, 0.3), 0px 1px 3px 1px rgba(60, 64, 67, 0.15);\n",
              "      fill: #174EA6;\n",
              "    }\n",
              "\n",
              "    .colab-df-buttons div {\n",
              "      margin-bottom: 4px;\n",
              "    }\n",
              "\n",
              "    [theme=dark] .colab-df-convert {\n",
              "      background-color: #3B4455;\n",
              "      fill: #D2E3FC;\n",
              "    }\n",
              "\n",
              "    [theme=dark] .colab-df-convert:hover {\n",
              "      background-color: #434B5C;\n",
              "      box-shadow: 0px 1px 3px 1px rgba(0, 0, 0, 0.15);\n",
              "      filter: drop-shadow(0px 1px 2px rgba(0, 0, 0, 0.3));\n",
              "      fill: #FFFFFF;\n",
              "    }\n",
              "  </style>\n",
              "\n",
              "    <script>\n",
              "      const buttonEl =\n",
              "        document.querySelector('#df-de6da895-f4f5-4cac-a486-2e75a59ed220 button.colab-df-convert');\n",
              "      buttonEl.style.display =\n",
              "        google.colab.kernel.accessAllowed ? 'block' : 'none';\n",
              "\n",
              "      async function convertToInteractive(key) {\n",
              "        const element = document.querySelector('#df-de6da895-f4f5-4cac-a486-2e75a59ed220');\n",
              "        const dataTable =\n",
              "          await google.colab.kernel.invokeFunction('convertToInteractive',\n",
              "                                                    [key], {});\n",
              "        if (!dataTable) return;\n",
              "\n",
              "        const docLinkHtml = 'Like what you see? Visit the ' +\n",
              "          '<a target=\"_blank\" href=https://colab.research.google.com/notebooks/data_table.ipynb>data table notebook</a>'\n",
              "          + ' to learn more about interactive tables.';\n",
              "        element.innerHTML = '';\n",
              "        dataTable['output_type'] = 'display_data';\n",
              "        await google.colab.output.renderOutput(dataTable, element);\n",
              "        const docLink = document.createElement('div');\n",
              "        docLink.innerHTML = docLinkHtml;\n",
              "        element.appendChild(docLink);\n",
              "      }\n",
              "    </script>\n",
              "  </div>\n",
              "\n",
              "\n",
              "<div id=\"df-40ee17a8-dfc7-4af0-8011-5f717efdfe82\">\n",
              "  <button class=\"colab-df-quickchart\" onclick=\"quickchart('df-40ee17a8-dfc7-4af0-8011-5f717efdfe82')\"\n",
              "            title=\"Suggest charts.\"\n",
              "            style=\"display:none;\">\n",
              "\n",
              "<svg xmlns=\"http://www.w3.org/2000/svg\" height=\"24px\"viewBox=\"0 0 24 24\"\n",
              "     width=\"24px\">\n",
              "    <g>\n",
              "        <path d=\"M19 3H5c-1.1 0-2 .9-2 2v14c0 1.1.9 2 2 2h14c1.1 0 2-.9 2-2V5c0-1.1-.9-2-2-2zM9 17H7v-7h2v7zm4 0h-2V7h2v10zm4 0h-2v-4h2v4z\"/>\n",
              "    </g>\n",
              "</svg>\n",
              "  </button>\n",
              "\n",
              "<style>\n",
              "  .colab-df-quickchart {\n",
              "    background-color: #E8F0FE;\n",
              "    border: none;\n",
              "    border-radius: 50%;\n",
              "    cursor: pointer;\n",
              "    display: none;\n",
              "    fill: #1967D2;\n",
              "    height: 32px;\n",
              "    padding: 0 0 0 0;\n",
              "    width: 32px;\n",
              "  }\n",
              "\n",
              "  .colab-df-quickchart:hover {\n",
              "    background-color: #E2EBFA;\n",
              "    box-shadow: 0px 1px 2px rgba(60, 64, 67, 0.3), 0px 1px 3px 1px rgba(60, 64, 67, 0.15);\n",
              "    fill: #174EA6;\n",
              "  }\n",
              "\n",
              "  [theme=dark] .colab-df-quickchart {\n",
              "    background-color: #3B4455;\n",
              "    fill: #D2E3FC;\n",
              "  }\n",
              "\n",
              "  [theme=dark] .colab-df-quickchart:hover {\n",
              "    background-color: #434B5C;\n",
              "    box-shadow: 0px 1px 3px 1px rgba(0, 0, 0, 0.15);\n",
              "    filter: drop-shadow(0px 1px 2px rgba(0, 0, 0, 0.3));\n",
              "    fill: #FFFFFF;\n",
              "  }\n",
              "</style>\n",
              "\n",
              "  <script>\n",
              "    async function quickchart(key) {\n",
              "      const charts = await google.colab.kernel.invokeFunction(\n",
              "          'suggestCharts', [key], {});\n",
              "    }\n",
              "    (() => {\n",
              "      let quickchartButtonEl =\n",
              "        document.querySelector('#df-40ee17a8-dfc7-4af0-8011-5f717efdfe82 button');\n",
              "      quickchartButtonEl.style.display =\n",
              "        google.colab.kernel.accessAllowed ? 'block' : 'none';\n",
              "    })();\n",
              "  </script>\n",
              "</div>\n",
              "    </div>\n",
              "  </div>\n"
            ]
          },
          "metadata": {},
          "execution_count": 7
        }
      ]
    },
    {
      "cell_type": "code",
      "source": [
        "q1_data.dtypes"
      ],
      "metadata": {
        "colab": {
          "base_uri": "https://localhost:8080/"
        },
        "id": "6njuOzxjv5zO",
        "outputId": "5ba7ec1a-7402-4c4f-9596-9a48a5ccfe9d"
      },
      "execution_count": 8,
      "outputs": [
        {
          "output_type": "execute_result",
          "data": {
            "text/plain": [
              "datetime                               object\n",
              "ru_id                                  object\n",
              "scgfail                                 int64\n",
              "scgfailratio                          float64\n",
              "erabaddatt                              int64\n",
              "erabaddsucc                             int64\n",
              "endcaddatt                              int64\n",
              "endcaddsucc                             int64\n",
              "endcmodbymenbatt                        int64\n",
              "endcmodbymenbsucc                       int64\n",
              "endcmodbysgnbatt                        int64\n",
              "endcmodbysgnbsucc                       int64\n",
              "connestabatt                            int64\n",
              "connestabsucc                           int64\n",
              "redirectiontolte_coverageout            int64\n",
              "redirectiontolte_epsfallback            int64\n",
              "redirectiontolte_emergencyfallback      int64\n",
              "handoveratt                             int64\n",
              "handoversucc                            int64\n",
              "reestabatt                              int64\n",
              "reestabsucc                             int64\n",
              "rlculbyte                             float64\n",
              "rlcdlbyte                             float64\n",
              "totprbulavg                           float64\n",
              "totprbdlavg                           float64\n",
              "dlreceivedriavg                       float64\n",
              "dltransmittedmcsavg                   float64\n",
              "airmaculbyte                          float64\n",
              "airmacdlbyte                          float64\n",
              "bler_ul                               float64\n",
              "bler_dl                               float64\n",
              "rachpreamblea                         float64\n",
              "numrar                                float64\n",
              "nummsg3                               float64\n",
              "attpaging                             float64\n",
              "rssipathavg                           float64\n",
              "dlreceivedcqiavg                      float64\n",
              "endcrelbymenb                           int64\n",
              "uenomax                                 int64\n",
              "dtype: object"
            ]
          },
          "metadata": {},
          "execution_count": 8
        }
      ]
    },
    {
      "cell_type": "code",
      "source": [
        "q1_test.dtypes"
      ],
      "metadata": {
        "colab": {
          "base_uri": "https://localhost:8080/"
        },
        "id": "JgrTv4H-l8_y",
        "outputId": "f9e90dd7-6b7b-44de-8b89-5242d3b19080"
      },
      "execution_count": 9,
      "outputs": [
        {
          "output_type": "execute_result",
          "data": {
            "text/plain": [
              "datetime                               object\n",
              "ru_id                                  object\n",
              "scgfail                                 int64\n",
              "scgfailratio                          float64\n",
              "erabaddatt                              int64\n",
              "erabaddsucc                             int64\n",
              "endcaddatt                              int64\n",
              "endcaddsucc                             int64\n",
              "endcmodbymenbatt                        int64\n",
              "endcmodbymenbsucc                       int64\n",
              "endcmodbysgnbatt                        int64\n",
              "endcmodbysgnbsucc                       int64\n",
              "connestabatt                            int64\n",
              "connestabsucc                           int64\n",
              "redirectiontolte_coverageout            int64\n",
              "redirectiontolte_epsfallback            int64\n",
              "redirectiontolte_emergencyfallback      int64\n",
              "handoveratt                             int64\n",
              "handoversucc                            int64\n",
              "reestabatt                              int64\n",
              "reestabsucc                             int64\n",
              "rlculbyte                             float64\n",
              "rlcdlbyte                             float64\n",
              "totprbulavg                           float64\n",
              "totprbdlavg                           float64\n",
              "dlreceivedriavg                       float64\n",
              "dltransmittedmcsavg                   float64\n",
              "airmaculbyte                          float64\n",
              "airmacdlbyte                          float64\n",
              "bler_ul                               float64\n",
              "bler_dl                               float64\n",
              "rachpreamblea                         float64\n",
              "numrar                                float64\n",
              "nummsg3                               float64\n",
              "attpaging                             float64\n",
              "rssipathavg                           float64\n",
              "dlreceivedcqiavg                      float64\n",
              "endcrelbymenb                           int64\n",
              "dtype: object"
            ]
          },
          "metadata": {},
          "execution_count": 9
        }
      ]
    },
    {
      "cell_type": "markdown",
      "source": [
        "#### dtype 맞게 전처리\n",
        "\n",
        "datetime : object &rightarrow; datetime"
      ],
      "metadata": {
        "id": "j9NBgOzhxQXT"
      }
    },
    {
      "cell_type": "code",
      "source": [
        "q1_data['datetime'] = pd.to_datetime(q1_data['datetime'])\n",
        "q1_test['datetime'] = pd.to_datetime(q1_test['datetime'])"
      ],
      "metadata": {
        "id": "knRb0SNBv-gm"
      },
      "execution_count": 10,
      "outputs": []
    },
    {
      "cell_type": "markdown",
      "source": [
        "#### ratio 변수 통일 + 변수 drop\n",
        "\n",
        "연결 성공한 횟수 &rightarrow; 연결 성공 백분율로 변경"
      ],
      "metadata": {
        "id": "Cv8H2adOxYOh"
      }
    },
    {
      "cell_type": "code",
      "source": [
        "# 연결 성공한 횟수 -> 연결 성공 백분율로 변경\n",
        "q1_data['erabaddratio'] = (q1_data['erabaddsucc'] / q1_data['erabaddatt']) * 100\n",
        "q1_data['endcaddratio'] = (q1_data['endcaddsucc'] / q1_data['endcaddatt']) * 100\n",
        "q1_data['endcmodbymenbratio'] = (q1_data['endcmodbymenbsucc'] / q1_data['endcmodbymenbatt']) * 100\n",
        "q1_data['endcmodbysgnbratio'] = (q1_data['endcmodbysgnbsucc'] / q1_data['endcmodbysgnbatt']) * 100\n",
        "q1_data['connestabratio'] = (q1_data['connestabsucc'] / q1_data['connestabatt']) * 100\n",
        "q1_data['handoverratio'] = (q1_data['handoversucc'] / q1_data['handoveratt']) * 100\n",
        "q1_data['reestabratio'] = (q1_data['reestabsucc'] / q1_data['reestabatt']) * 100"
      ],
      "metadata": {
        "id": "P422rRxRx-0h"
      },
      "execution_count": 11,
      "outputs": []
    },
    {
      "cell_type": "code",
      "source": [
        "# 연결 성공한 횟수 -> 연결 성공 백분율로 변경\n",
        "q1_test['erabaddratio'] = (q1_test['erabaddsucc'] / q1_test['erabaddatt']) * 100\n",
        "q1_test['endcaddratio'] = (q1_test['endcaddsucc'] / q1_test['endcaddatt']) * 100\n",
        "q1_test['endcmodbymenbratio'] = (q1_test['endcmodbymenbsucc'] / q1_test['endcmodbymenbatt']) * 100\n",
        "q1_test['endcmodbysgnbratio'] = (q1_test['endcmodbysgnbsucc'] / q1_test['endcmodbysgnbatt']) * 100\n",
        "q1_test['connestabratio'] = (q1_test['connestabsucc'] / q1_test['connestabatt']) * 100\n",
        "q1_test['handoverratio'] = (q1_test['handoversucc'] / q1_test['handoveratt']) * 100\n",
        "q1_test['reestabratio'] = (q1_test['reestabsucc'] / q1_test['reestabatt']) * 100"
      ],
      "metadata": {
        "id": "2cLg2ViKmDAZ"
      },
      "execution_count": 12,
      "outputs": []
    },
    {
      "cell_type": "code",
      "source": [
        "# 연결 시도한 횟수가 0이어서 성공 백분율이 nan이 된 값들을 0으로 바꿔주기\n",
        "ratios = ['erabaddratio', 'endcaddratio', 'endcmodbymenbratio', 'endcmodbysgnbratio', 'connestabratio', 'handoverratio', 'reestabratio']\n",
        "for i in ratios :\n",
        "  q1_data[i] = q1_data[i].replace(np.nan, 0)"
      ],
      "metadata": {
        "id": "RbL6k12Z3qQv"
      },
      "execution_count": 13,
      "outputs": []
    },
    {
      "cell_type": "code",
      "source": [
        "# 연결 시도한 횟수가 0이어서 성공 백분율이 nan이 된 값들을 0으로 바꿔주기\n",
        "for i in ratios :\n",
        "  q1_test[i] = q1_test[i].replace(np.nan, 0)"
      ],
      "metadata": {
        "id": "1RWVlfObmLs8"
      },
      "execution_count": 14,
      "outputs": []
    },
    {
      "cell_type": "code",
      "source": [
        "list = ['erabaddsucc', 'endcaddsucc', 'endcmodbymenbsucc', 'endcmodbysgnbsucc', 'connestabsucc', 'handoversucc', 'reestabsucc']\n",
        "q1_data = q1_data.drop(list, axis = 1)"
      ],
      "metadata": {
        "id": "n7WVipNazPZm"
      },
      "execution_count": 15,
      "outputs": []
    },
    {
      "cell_type": "code",
      "source": [
        "q1_test = q1_test.drop(list, axis = 1)"
      ],
      "metadata": {
        "id": "g656g7q8moMI"
      },
      "execution_count": 16,
      "outputs": []
    },
    {
      "cell_type": "code",
      "source": [
        "# 순서 재배치 + scgfail, redirectiontolte_emergencyfallback, numrar drop\n",
        "col = q1_data.columns.to_numpy()\n",
        "col = col[[0,1,3,4,32,5,33,6,34,7,35,8,36,9,10,12,37,13,38,14,15,16,17,18,19,20,21,22,23,24,26,27,28,29,30,31]]\n",
        "q1_data = q1_data[col]\n",
        "q1_data.info()"
      ],
      "metadata": {
        "colab": {
          "base_uri": "https://localhost:8080/"
        },
        "id": "oA6Z18ukzdN-",
        "outputId": "e69e0683-5fef-4e87-dd36-f307fa6d310f"
      },
      "execution_count": 17,
      "outputs": [
        {
          "output_type": "stream",
          "name": "stdout",
          "text": [
            "<class 'pandas.core.frame.DataFrame'>\n",
            "RangeIndex: 137445 entries, 0 to 137444\n",
            "Data columns (total 36 columns):\n",
            " #   Column                        Non-Null Count   Dtype         \n",
            "---  ------                        --------------   -----         \n",
            " 0   datetime                      137445 non-null  datetime64[ns]\n",
            " 1   ru_id                         137445 non-null  object        \n",
            " 2   scgfailratio                  137445 non-null  float64       \n",
            " 3   erabaddatt                    137445 non-null  int64         \n",
            " 4   erabaddratio                  137445 non-null  float64       \n",
            " 5   endcaddatt                    137445 non-null  int64         \n",
            " 6   endcaddratio                  137445 non-null  float64       \n",
            " 7   endcmodbymenbatt              137445 non-null  int64         \n",
            " 8   endcmodbymenbratio            137445 non-null  float64       \n",
            " 9   endcmodbysgnbatt              137445 non-null  int64         \n",
            " 10  endcmodbysgnbratio            137445 non-null  float64       \n",
            " 11  connestabatt                  137445 non-null  int64         \n",
            " 12  connestabratio                137445 non-null  float64       \n",
            " 13  redirectiontolte_coverageout  137445 non-null  int64         \n",
            " 14  redirectiontolte_epsfallback  137445 non-null  int64         \n",
            " 15  handoveratt                   137445 non-null  int64         \n",
            " 16  handoverratio                 137445 non-null  float64       \n",
            " 17  reestabatt                    137445 non-null  int64         \n",
            " 18  reestabratio                  137445 non-null  float64       \n",
            " 19  rlculbyte                     137436 non-null  float64       \n",
            " 20  rlcdlbyte                     137436 non-null  float64       \n",
            " 21  totprbulavg                   137436 non-null  float64       \n",
            " 22  totprbdlavg                   137436 non-null  float64       \n",
            " 23  dlreceivedriavg               137436 non-null  float64       \n",
            " 24  dltransmittedmcsavg           137436 non-null  float64       \n",
            " 25  airmaculbyte                  137436 non-null  float64       \n",
            " 26  airmacdlbyte                  137436 non-null  float64       \n",
            " 27  bler_ul                       137436 non-null  float64       \n",
            " 28  bler_dl                       137436 non-null  float64       \n",
            " 29  rachpreamblea                 137436 non-null  float64       \n",
            " 30  nummsg3                       137436 non-null  float64       \n",
            " 31  attpaging                     137436 non-null  float64       \n",
            " 32  rssipathavg                   137436 non-null  float64       \n",
            " 33  dlreceivedcqiavg              137436 non-null  float64       \n",
            " 34  endcrelbymenb                 137445 non-null  int64         \n",
            " 35  uenomax                       137445 non-null  int64         \n",
            "dtypes: datetime64[ns](1), float64(23), int64(11), object(1)\n",
            "memory usage: 37.8+ MB\n"
          ]
        }
      ]
    },
    {
      "cell_type": "code",
      "source": [
        "col = q1_test.columns.to_numpy()\n",
        "col = col[[0,1,3,4,31,5,32,6,33,7,34,8,35,9,10,12,36,13,37,14,15,16,17,18,19,20,21,22,23,24,26,27,28,29,30]]\n",
        "q1_test = q1_test[col]\n",
        "q1_test.info()\n"
      ],
      "metadata": {
        "colab": {
          "base_uri": "https://localhost:8080/"
        },
        "id": "IIkBEsrpmsT_",
        "outputId": "8cb218f6-5c99-419a-9aa0-92c7720af492"
      },
      "execution_count": 18,
      "outputs": [
        {
          "output_type": "stream",
          "name": "stdout",
          "text": [
            "<class 'pandas.core.frame.DataFrame'>\n",
            "Int64Index: 34362 entries, 0 to 34361\n",
            "Data columns (total 35 columns):\n",
            " #   Column                        Non-Null Count  Dtype         \n",
            "---  ------                        --------------  -----         \n",
            " 0   datetime                      34362 non-null  datetime64[ns]\n",
            " 1   ru_id                         34362 non-null  object        \n",
            " 2   scgfailratio                  34362 non-null  float64       \n",
            " 3   erabaddatt                    34362 non-null  int64         \n",
            " 4   erabaddratio                  34362 non-null  float64       \n",
            " 5   endcaddatt                    34362 non-null  int64         \n",
            " 6   endcaddratio                  34362 non-null  float64       \n",
            " 7   endcmodbymenbatt              34362 non-null  int64         \n",
            " 8   endcmodbymenbratio            34362 non-null  float64       \n",
            " 9   endcmodbysgnbatt              34362 non-null  int64         \n",
            " 10  endcmodbysgnbratio            34362 non-null  float64       \n",
            " 11  connestabatt                  34362 non-null  int64         \n",
            " 12  connestabratio                34362 non-null  float64       \n",
            " 13  redirectiontolte_coverageout  34362 non-null  int64         \n",
            " 14  redirectiontolte_epsfallback  34362 non-null  int64         \n",
            " 15  handoveratt                   34362 non-null  int64         \n",
            " 16  handoverratio                 34362 non-null  float64       \n",
            " 17  reestabatt                    34362 non-null  int64         \n",
            " 18  reestabratio                  34362 non-null  float64       \n",
            " 19  rlculbyte                     34362 non-null  float64       \n",
            " 20  rlcdlbyte                     34362 non-null  float64       \n",
            " 21  totprbulavg                   34362 non-null  float64       \n",
            " 22  totprbdlavg                   34362 non-null  float64       \n",
            " 23  dlreceivedriavg               34362 non-null  float64       \n",
            " 24  dltransmittedmcsavg           34362 non-null  float64       \n",
            " 25  airmaculbyte                  34362 non-null  float64       \n",
            " 26  airmacdlbyte                  34362 non-null  float64       \n",
            " 27  bler_ul                       34362 non-null  float64       \n",
            " 28  bler_dl                       34362 non-null  float64       \n",
            " 29  rachpreamblea                 34362 non-null  float64       \n",
            " 30  nummsg3                       34362 non-null  float64       \n",
            " 31  attpaging                     34362 non-null  float64       \n",
            " 32  rssipathavg                   34362 non-null  float64       \n",
            " 33  dlreceivedcqiavg              34362 non-null  float64       \n",
            " 34  endcrelbymenb                 34362 non-null  int64         \n",
            "dtypes: datetime64[ns](1), float64(23), int64(10), object(1)\n",
            "memory usage: 9.4+ MB\n"
          ]
        }
      ]
    },
    {
      "cell_type": "markdown",
      "source": [
        "#### 결측치\n",
        "\n",
        "test 데이터에는 결측치 없음"
      ],
      "metadata": {
        "id": "3XCEwqvJ8j-S"
      }
    },
    {
      "cell_type": "code",
      "source": [
        "q1_data.isna().sum()"
      ],
      "metadata": {
        "colab": {
          "base_uri": "https://localhost:8080/"
        },
        "id": "M6EvaHyFhr5Z",
        "outputId": "7285ab0f-3226-492f-fde3-3b99fc1931f3"
      },
      "execution_count": 19,
      "outputs": [
        {
          "output_type": "execute_result",
          "data": {
            "text/plain": [
              "datetime                        0\n",
              "ru_id                           0\n",
              "scgfailratio                    0\n",
              "erabaddatt                      0\n",
              "erabaddratio                    0\n",
              "endcaddatt                      0\n",
              "endcaddratio                    0\n",
              "endcmodbymenbatt                0\n",
              "endcmodbymenbratio              0\n",
              "endcmodbysgnbatt                0\n",
              "endcmodbysgnbratio              0\n",
              "connestabatt                    0\n",
              "connestabratio                  0\n",
              "redirectiontolte_coverageout    0\n",
              "redirectiontolte_epsfallback    0\n",
              "handoveratt                     0\n",
              "handoverratio                   0\n",
              "reestabatt                      0\n",
              "reestabratio                    0\n",
              "rlculbyte                       9\n",
              "rlcdlbyte                       9\n",
              "totprbulavg                     9\n",
              "totprbdlavg                     9\n",
              "dlreceivedriavg                 9\n",
              "dltransmittedmcsavg             9\n",
              "airmaculbyte                    9\n",
              "airmacdlbyte                    9\n",
              "bler_ul                         9\n",
              "bler_dl                         9\n",
              "rachpreamblea                   9\n",
              "nummsg3                         9\n",
              "attpaging                       9\n",
              "rssipathavg                     9\n",
              "dlreceivedcqiavg                9\n",
              "endcrelbymenb                   0\n",
              "uenomax                         0\n",
              "dtype: int64"
            ]
          },
          "metadata": {},
          "execution_count": 19
        }
      ]
    },
    {
      "cell_type": "markdown",
      "source": [
        "**선형 보간법**"
      ],
      "metadata": {
        "id": "INm4VgBGK3Gi"
      }
    },
    {
      "cell_type": "code",
      "source": [
        "# 결측치 전후의 패턴이 변화하는 구간인 경우에는\n",
        "# 직전값, 직후값, 평균/중앙값 같은 방식으로 처리할 경우 문제가 발생\n",
        "# 선형 보간법 사용해보겠음!"
      ],
      "metadata": {
        "id": "T7WW3iaFFqaz"
      },
      "execution_count": 20,
      "outputs": []
    },
    {
      "cell_type": "code",
      "source": [
        "from scipy import interpolate"
      ],
      "metadata": {
        "id": "NoyxVsHxFqcr"
      },
      "execution_count": 21,
      "outputs": []
    },
    {
      "cell_type": "code",
      "source": [
        "q1_data['rlculbyte'] = q1_data['rlculbyte'].interpolate(method='linear')\n",
        "q1_data['rlcdlbyte'] = q1_data['rlcdlbyte'].interpolate(method='linear')\n",
        "q1_data['totprbulavg'] = q1_data['totprbulavg'].interpolate(method='linear')\n",
        "q1_data['totprbdlavg'] = q1_data['totprbdlavg'].interpolate(method='linear')\n",
        "q1_data['dlreceivedriavg'] = q1_data['dlreceivedriavg'].interpolate(method='linear')\n",
        "q1_data['dltransmittedmcsavg'] = q1_data['dltransmittedmcsavg'].interpolate(method='linear')\n",
        "q1_data['airmaculbyte'] = q1_data['airmaculbyte'].interpolate(method='linear')\n",
        "q1_data['airmacdlbyte'] = q1_data['airmacdlbyte'].interpolate(method='linear')\n",
        "q1_data['bler_ul'] = q1_data['bler_ul'].interpolate(method='linear')\n",
        "q1_data['bler_dl'] = q1_data['bler_dl'].interpolate(method='linear')\n",
        "q1_data['rachpreamblea'] = q1_data['rachpreamblea'].interpolate(method='linear')\n",
        "q1_data['nummsg3'] = q1_data['nummsg3'].interpolate(method='linear')\n",
        "q1_data['attpaging'] = q1_data['attpaging'].interpolate(method='linear')\n",
        "q1_data['rssipathavg'] = q1_data['rssipathavg'].interpolate(method='linear')\n",
        "q1_data['dlreceivedcqiavg'] = q1_data['dlreceivedcqiavg'].interpolate(method='linear')"
      ],
      "metadata": {
        "id": "R2vk1LiBFqjN"
      },
      "execution_count": 22,
      "outputs": []
    },
    {
      "cell_type": "code",
      "source": [
        "#B,J와 유사한 기지국을 찾기 위해서 데이터 합침\n",
        "q1_data_a=q1_data.iloc[:,:-1]\n",
        "q1_all = pd.concat([q1_data_a,q1_test])"
      ],
      "metadata": {
        "id": "f6veaFlBcAnl"
      },
      "execution_count": 23,
      "outputs": []
    },
    {
      "cell_type": "code",
      "source": [
        "q1_all.tail()"
      ],
      "metadata": {
        "colab": {
          "base_uri": "https://localhost:8080/",
          "height": 429
        },
        "id": "eueCulFDfzVk",
        "outputId": "ffd2c16f-a2b8-483d-ae88-eb55c487c694"
      },
      "execution_count": 24,
      "outputs": [
        {
          "output_type": "execute_result",
          "data": {
            "text/plain": [
              "                 datetime         ru_id  scgfailratio  erabaddatt  \\\n",
              "34357 2023-07-17 15:40:00  BaseStationB           6.7          15   \n",
              "34358 2023-07-17 15:45:00  BaseStationJ           0.0           7   \n",
              "34359 2023-07-17 15:45:00  BaseStationB           0.0          17   \n",
              "34360 2023-07-17 15:50:00  BaseStationJ           0.0          13   \n",
              "34361 2023-07-17 15:50:00  BaseStationB           0.0          21   \n",
              "\n",
              "       erabaddratio  endcaddatt  endcaddratio  endcmodbymenbatt  \\\n",
              "34357         100.0          14         100.0                 2   \n",
              "34358         100.0           7         100.0                 0   \n",
              "34359         100.0          15         100.0                 3   \n",
              "34360         100.0          12         100.0                 0   \n",
              "34361         100.0          21         100.0                 1   \n",
              "\n",
              "       endcmodbymenbratio  endcmodbysgnbatt  ...  airmaculbyte  airmacdlbyte  \\\n",
              "34357               100.0                16  ...         120.0         820.0   \n",
              "34358                 0.0                 1  ...          43.0         389.0   \n",
              "34359               100.0                26  ...         122.0       26171.0   \n",
              "34360                 0.0                 6  ...          67.0          53.0   \n",
              "34361               100.0                23  ...          78.0       22267.0   \n",
              "\n",
              "       bler_ul  bler_dl  rachpreamblea  nummsg3  attpaging  rssipathavg  \\\n",
              "34357     20.1      3.4           21.0     18.0     8687.0        -92.4   \n",
              "34358     23.4      3.5           98.0      7.0     5441.0        -92.7   \n",
              "34359     15.8     14.9           21.0     18.0     8706.0        -91.7   \n",
              "34360     17.1      4.6           56.0     15.0     5751.0        -92.6   \n",
              "34361      5.7      8.8           37.0     26.0     9040.0        -92.2   \n",
              "\n",
              "       dlreceivedcqiavg  endcrelbymenb  \n",
              "34357               7.1             13  \n",
              "34358              11.0              0  \n",
              "34359               7.0             14  \n",
              "34360              11.3              0  \n",
              "34361               7.6             22  \n",
              "\n",
              "[5 rows x 35 columns]"
            ],
            "text/html": [
              "\n",
              "  <div id=\"df-a03c9f49-b692-4cf4-b6f9-1bdfe557030b\" class=\"colab-df-container\">\n",
              "    <div>\n",
              "<style scoped>\n",
              "    .dataframe tbody tr th:only-of-type {\n",
              "        vertical-align: middle;\n",
              "    }\n",
              "\n",
              "    .dataframe tbody tr th {\n",
              "        vertical-align: top;\n",
              "    }\n",
              "\n",
              "    .dataframe thead th {\n",
              "        text-align: right;\n",
              "    }\n",
              "</style>\n",
              "<table border=\"1\" class=\"dataframe\">\n",
              "  <thead>\n",
              "    <tr style=\"text-align: right;\">\n",
              "      <th></th>\n",
              "      <th>datetime</th>\n",
              "      <th>ru_id</th>\n",
              "      <th>scgfailratio</th>\n",
              "      <th>erabaddatt</th>\n",
              "      <th>erabaddratio</th>\n",
              "      <th>endcaddatt</th>\n",
              "      <th>endcaddratio</th>\n",
              "      <th>endcmodbymenbatt</th>\n",
              "      <th>endcmodbymenbratio</th>\n",
              "      <th>endcmodbysgnbatt</th>\n",
              "      <th>...</th>\n",
              "      <th>airmaculbyte</th>\n",
              "      <th>airmacdlbyte</th>\n",
              "      <th>bler_ul</th>\n",
              "      <th>bler_dl</th>\n",
              "      <th>rachpreamblea</th>\n",
              "      <th>nummsg3</th>\n",
              "      <th>attpaging</th>\n",
              "      <th>rssipathavg</th>\n",
              "      <th>dlreceivedcqiavg</th>\n",
              "      <th>endcrelbymenb</th>\n",
              "    </tr>\n",
              "  </thead>\n",
              "  <tbody>\n",
              "    <tr>\n",
              "      <th>34357</th>\n",
              "      <td>2023-07-17 15:40:00</td>\n",
              "      <td>BaseStationB</td>\n",
              "      <td>6.7</td>\n",
              "      <td>15</td>\n",
              "      <td>100.0</td>\n",
              "      <td>14</td>\n",
              "      <td>100.0</td>\n",
              "      <td>2</td>\n",
              "      <td>100.0</td>\n",
              "      <td>16</td>\n",
              "      <td>...</td>\n",
              "      <td>120.0</td>\n",
              "      <td>820.0</td>\n",
              "      <td>20.1</td>\n",
              "      <td>3.4</td>\n",
              "      <td>21.0</td>\n",
              "      <td>18.0</td>\n",
              "      <td>8687.0</td>\n",
              "      <td>-92.4</td>\n",
              "      <td>7.1</td>\n",
              "      <td>13</td>\n",
              "    </tr>\n",
              "    <tr>\n",
              "      <th>34358</th>\n",
              "      <td>2023-07-17 15:45:00</td>\n",
              "      <td>BaseStationJ</td>\n",
              "      <td>0.0</td>\n",
              "      <td>7</td>\n",
              "      <td>100.0</td>\n",
              "      <td>7</td>\n",
              "      <td>100.0</td>\n",
              "      <td>0</td>\n",
              "      <td>0.0</td>\n",
              "      <td>1</td>\n",
              "      <td>...</td>\n",
              "      <td>43.0</td>\n",
              "      <td>389.0</td>\n",
              "      <td>23.4</td>\n",
              "      <td>3.5</td>\n",
              "      <td>98.0</td>\n",
              "      <td>7.0</td>\n",
              "      <td>5441.0</td>\n",
              "      <td>-92.7</td>\n",
              "      <td>11.0</td>\n",
              "      <td>0</td>\n",
              "    </tr>\n",
              "    <tr>\n",
              "      <th>34359</th>\n",
              "      <td>2023-07-17 15:45:00</td>\n",
              "      <td>BaseStationB</td>\n",
              "      <td>0.0</td>\n",
              "      <td>17</td>\n",
              "      <td>100.0</td>\n",
              "      <td>15</td>\n",
              "      <td>100.0</td>\n",
              "      <td>3</td>\n",
              "      <td>100.0</td>\n",
              "      <td>26</td>\n",
              "      <td>...</td>\n",
              "      <td>122.0</td>\n",
              "      <td>26171.0</td>\n",
              "      <td>15.8</td>\n",
              "      <td>14.9</td>\n",
              "      <td>21.0</td>\n",
              "      <td>18.0</td>\n",
              "      <td>8706.0</td>\n",
              "      <td>-91.7</td>\n",
              "      <td>7.0</td>\n",
              "      <td>14</td>\n",
              "    </tr>\n",
              "    <tr>\n",
              "      <th>34360</th>\n",
              "      <td>2023-07-17 15:50:00</td>\n",
              "      <td>BaseStationJ</td>\n",
              "      <td>0.0</td>\n",
              "      <td>13</td>\n",
              "      <td>100.0</td>\n",
              "      <td>12</td>\n",
              "      <td>100.0</td>\n",
              "      <td>0</td>\n",
              "      <td>0.0</td>\n",
              "      <td>6</td>\n",
              "      <td>...</td>\n",
              "      <td>67.0</td>\n",
              "      <td>53.0</td>\n",
              "      <td>17.1</td>\n",
              "      <td>4.6</td>\n",
              "      <td>56.0</td>\n",
              "      <td>15.0</td>\n",
              "      <td>5751.0</td>\n",
              "      <td>-92.6</td>\n",
              "      <td>11.3</td>\n",
              "      <td>0</td>\n",
              "    </tr>\n",
              "    <tr>\n",
              "      <th>34361</th>\n",
              "      <td>2023-07-17 15:50:00</td>\n",
              "      <td>BaseStationB</td>\n",
              "      <td>0.0</td>\n",
              "      <td>21</td>\n",
              "      <td>100.0</td>\n",
              "      <td>21</td>\n",
              "      <td>100.0</td>\n",
              "      <td>1</td>\n",
              "      <td>100.0</td>\n",
              "      <td>23</td>\n",
              "      <td>...</td>\n",
              "      <td>78.0</td>\n",
              "      <td>22267.0</td>\n",
              "      <td>5.7</td>\n",
              "      <td>8.8</td>\n",
              "      <td>37.0</td>\n",
              "      <td>26.0</td>\n",
              "      <td>9040.0</td>\n",
              "      <td>-92.2</td>\n",
              "      <td>7.6</td>\n",
              "      <td>22</td>\n",
              "    </tr>\n",
              "  </tbody>\n",
              "</table>\n",
              "<p>5 rows × 35 columns</p>\n",
              "</div>\n",
              "    <div class=\"colab-df-buttons\">\n",
              "\n",
              "  <div class=\"colab-df-container\">\n",
              "    <button class=\"colab-df-convert\" onclick=\"convertToInteractive('df-a03c9f49-b692-4cf4-b6f9-1bdfe557030b')\"\n",
              "            title=\"Convert this dataframe to an interactive table.\"\n",
              "            style=\"display:none;\">\n",
              "\n",
              "  <svg xmlns=\"http://www.w3.org/2000/svg\" height=\"24px\" viewBox=\"0 -960 960 960\">\n",
              "    <path d=\"M120-120v-720h720v720H120Zm60-500h600v-160H180v160Zm220 220h160v-160H400v160Zm0 220h160v-160H400v160ZM180-400h160v-160H180v160Zm440 0h160v-160H620v160ZM180-180h160v-160H180v160Zm440 0h160v-160H620v160Z\"/>\n",
              "  </svg>\n",
              "    </button>\n",
              "\n",
              "  <style>\n",
              "    .colab-df-container {\n",
              "      display:flex;\n",
              "      gap: 12px;\n",
              "    }\n",
              "\n",
              "    .colab-df-convert {\n",
              "      background-color: #E8F0FE;\n",
              "      border: none;\n",
              "      border-radius: 50%;\n",
              "      cursor: pointer;\n",
              "      display: none;\n",
              "      fill: #1967D2;\n",
              "      height: 32px;\n",
              "      padding: 0 0 0 0;\n",
              "      width: 32px;\n",
              "    }\n",
              "\n",
              "    .colab-df-convert:hover {\n",
              "      background-color: #E2EBFA;\n",
              "      box-shadow: 0px 1px 2px rgba(60, 64, 67, 0.3), 0px 1px 3px 1px rgba(60, 64, 67, 0.15);\n",
              "      fill: #174EA6;\n",
              "    }\n",
              "\n",
              "    .colab-df-buttons div {\n",
              "      margin-bottom: 4px;\n",
              "    }\n",
              "\n",
              "    [theme=dark] .colab-df-convert {\n",
              "      background-color: #3B4455;\n",
              "      fill: #D2E3FC;\n",
              "    }\n",
              "\n",
              "    [theme=dark] .colab-df-convert:hover {\n",
              "      background-color: #434B5C;\n",
              "      box-shadow: 0px 1px 3px 1px rgba(0, 0, 0, 0.15);\n",
              "      filter: drop-shadow(0px 1px 2px rgba(0, 0, 0, 0.3));\n",
              "      fill: #FFFFFF;\n",
              "    }\n",
              "  </style>\n",
              "\n",
              "    <script>\n",
              "      const buttonEl =\n",
              "        document.querySelector('#df-a03c9f49-b692-4cf4-b6f9-1bdfe557030b button.colab-df-convert');\n",
              "      buttonEl.style.display =\n",
              "        google.colab.kernel.accessAllowed ? 'block' : 'none';\n",
              "\n",
              "      async function convertToInteractive(key) {\n",
              "        const element = document.querySelector('#df-a03c9f49-b692-4cf4-b6f9-1bdfe557030b');\n",
              "        const dataTable =\n",
              "          await google.colab.kernel.invokeFunction('convertToInteractive',\n",
              "                                                    [key], {});\n",
              "        if (!dataTable) return;\n",
              "\n",
              "        const docLinkHtml = 'Like what you see? Visit the ' +\n",
              "          '<a target=\"_blank\" href=https://colab.research.google.com/notebooks/data_table.ipynb>data table notebook</a>'\n",
              "          + ' to learn more about interactive tables.';\n",
              "        element.innerHTML = '';\n",
              "        dataTable['output_type'] = 'display_data';\n",
              "        await google.colab.output.renderOutput(dataTable, element);\n",
              "        const docLink = document.createElement('div');\n",
              "        docLink.innerHTML = docLinkHtml;\n",
              "        element.appendChild(docLink);\n",
              "      }\n",
              "    </script>\n",
              "  </div>\n",
              "\n",
              "\n",
              "<div id=\"df-80d40f72-a95c-4b69-bd1d-935795a49ca5\">\n",
              "  <button class=\"colab-df-quickchart\" onclick=\"quickchart('df-80d40f72-a95c-4b69-bd1d-935795a49ca5')\"\n",
              "            title=\"Suggest charts.\"\n",
              "            style=\"display:none;\">\n",
              "\n",
              "<svg xmlns=\"http://www.w3.org/2000/svg\" height=\"24px\"viewBox=\"0 0 24 24\"\n",
              "     width=\"24px\">\n",
              "    <g>\n",
              "        <path d=\"M19 3H5c-1.1 0-2 .9-2 2v14c0 1.1.9 2 2 2h14c1.1 0 2-.9 2-2V5c0-1.1-.9-2-2-2zM9 17H7v-7h2v7zm4 0h-2V7h2v10zm4 0h-2v-4h2v4z\"/>\n",
              "    </g>\n",
              "</svg>\n",
              "  </button>\n",
              "\n",
              "<style>\n",
              "  .colab-df-quickchart {\n",
              "    background-color: #E8F0FE;\n",
              "    border: none;\n",
              "    border-radius: 50%;\n",
              "    cursor: pointer;\n",
              "    display: none;\n",
              "    fill: #1967D2;\n",
              "    height: 32px;\n",
              "    padding: 0 0 0 0;\n",
              "    width: 32px;\n",
              "  }\n",
              "\n",
              "  .colab-df-quickchart:hover {\n",
              "    background-color: #E2EBFA;\n",
              "    box-shadow: 0px 1px 2px rgba(60, 64, 67, 0.3), 0px 1px 3px 1px rgba(60, 64, 67, 0.15);\n",
              "    fill: #174EA6;\n",
              "  }\n",
              "\n",
              "  [theme=dark] .colab-df-quickchart {\n",
              "    background-color: #3B4455;\n",
              "    fill: #D2E3FC;\n",
              "  }\n",
              "\n",
              "  [theme=dark] .colab-df-quickchart:hover {\n",
              "    background-color: #434B5C;\n",
              "    box-shadow: 0px 1px 3px 1px rgba(0, 0, 0, 0.15);\n",
              "    filter: drop-shadow(0px 1px 2px rgba(0, 0, 0, 0.3));\n",
              "    fill: #FFFFFF;\n",
              "  }\n",
              "</style>\n",
              "\n",
              "  <script>\n",
              "    async function quickchart(key) {\n",
              "      const charts = await google.colab.kernel.invokeFunction(\n",
              "          'suggestCharts', [key], {});\n",
              "    }\n",
              "    (() => {\n",
              "      let quickchartButtonEl =\n",
              "        document.querySelector('#df-80d40f72-a95c-4b69-bd1d-935795a49ca5 button');\n",
              "      quickchartButtonEl.style.display =\n",
              "        google.colab.kernel.accessAllowed ? 'block' : 'none';\n",
              "    })();\n",
              "  </script>\n",
              "</div>\n",
              "    </div>\n",
              "  </div>\n"
            ]
          },
          "metadata": {},
          "execution_count": 24
        }
      ]
    },
    {
      "cell_type": "code",
      "source": [],
      "metadata": {
        "id": "yg3X8-0baUlq"
      },
      "execution_count": 24,
      "outputs": []
    },
    {
      "cell_type": "code",
      "source": [
        "#int 타입 -> float 타입으로 바꿔주기\n",
        "indx=[3,5,7,9,11,13,14,15,17,34]\n",
        "\n",
        "for i in indx:\n",
        "  q1_data.iloc[:, i]=q1_data.iloc[:, i].astype(float)\n",
        "\n",
        "for i in indx:\n",
        "  q1_test.iloc[:, i]=q1_test.iloc[:, i].astype(float)\n",
        "\n",
        "q1_data.info()"
      ],
      "metadata": {
        "colab": {
          "base_uri": "https://localhost:8080/"
        },
        "id": "sglWEx0pmcCH",
        "outputId": "f23bc982-97ef-4cc8-f7c7-45afe4d8acc7"
      },
      "execution_count": 25,
      "outputs": [
        {
          "output_type": "stream",
          "name": "stdout",
          "text": [
            "<class 'pandas.core.frame.DataFrame'>\n",
            "RangeIndex: 137445 entries, 0 to 137444\n",
            "Data columns (total 36 columns):\n",
            " #   Column                        Non-Null Count   Dtype         \n",
            "---  ------                        --------------   -----         \n",
            " 0   datetime                      137445 non-null  datetime64[ns]\n",
            " 1   ru_id                         137445 non-null  object        \n",
            " 2   scgfailratio                  137445 non-null  float64       \n",
            " 3   erabaddatt                    137445 non-null  float64       \n",
            " 4   erabaddratio                  137445 non-null  float64       \n",
            " 5   endcaddatt                    137445 non-null  float64       \n",
            " 6   endcaddratio                  137445 non-null  float64       \n",
            " 7   endcmodbymenbatt              137445 non-null  float64       \n",
            " 8   endcmodbymenbratio            137445 non-null  float64       \n",
            " 9   endcmodbysgnbatt              137445 non-null  float64       \n",
            " 10  endcmodbysgnbratio            137445 non-null  float64       \n",
            " 11  connestabatt                  137445 non-null  float64       \n",
            " 12  connestabratio                137445 non-null  float64       \n",
            " 13  redirectiontolte_coverageout  137445 non-null  float64       \n",
            " 14  redirectiontolte_epsfallback  137445 non-null  float64       \n",
            " 15  handoveratt                   137445 non-null  float64       \n",
            " 16  handoverratio                 137445 non-null  float64       \n",
            " 17  reestabatt                    137445 non-null  float64       \n",
            " 18  reestabratio                  137445 non-null  float64       \n",
            " 19  rlculbyte                     137445 non-null  float64       \n",
            " 20  rlcdlbyte                     137445 non-null  float64       \n",
            " 21  totprbulavg                   137445 non-null  float64       \n",
            " 22  totprbdlavg                   137445 non-null  float64       \n",
            " 23  dlreceivedriavg               137445 non-null  float64       \n",
            " 24  dltransmittedmcsavg           137445 non-null  float64       \n",
            " 25  airmaculbyte                  137445 non-null  float64       \n",
            " 26  airmacdlbyte                  137445 non-null  float64       \n",
            " 27  bler_ul                       137445 non-null  float64       \n",
            " 28  bler_dl                       137445 non-null  float64       \n",
            " 29  rachpreamblea                 137445 non-null  float64       \n",
            " 30  nummsg3                       137445 non-null  float64       \n",
            " 31  attpaging                     137445 non-null  float64       \n",
            " 32  rssipathavg                   137445 non-null  float64       \n",
            " 33  dlreceivedcqiavg              137445 non-null  float64       \n",
            " 34  endcrelbymenb                 137445 non-null  float64       \n",
            " 35  uenomax                       137445 non-null  int64         \n",
            "dtypes: datetime64[ns](1), float64(33), int64(1), object(1)\n",
            "memory usage: 37.8+ MB\n"
          ]
        },
        {
          "output_type": "stream",
          "name": "stderr",
          "text": [
            "<ipython-input-25-0301b5bf7aab>:5: DeprecationWarning: In a future version, `df.iloc[:, i] = newvals` will attempt to set the values inplace instead of always setting a new array. To retain the old behavior, use either `df[df.columns[i]] = newvals` or, if columns are non-unique, `df.isetitem(i, newvals)`\n",
            "  q1_data.iloc[:, i]=q1_data.iloc[:, i].astype(float)\n",
            "<ipython-input-25-0301b5bf7aab>:8: DeprecationWarning: In a future version, `df.iloc[:, i] = newvals` will attempt to set the values inplace instead of always setting a new array. To retain the old behavior, use either `df[df.columns[i]] = newvals` or, if columns are non-unique, `df.isetitem(i, newvals)`\n",
            "  q1_test.iloc[:, i]=q1_test.iloc[:, i].astype(float)\n"
          ]
        }
      ]
    },
    {
      "cell_type": "markdown",
      "source": [
        "# **시계열 모델링**"
      ],
      "metadata": {
        "id": "TPH8HSEZkdde"
      }
    },
    {
      "cell_type": "code",
      "source": [],
      "metadata": {
        "id": "UybKkpa0MKGs"
      },
      "execution_count": 25,
      "outputs": []
    },
    {
      "cell_type": "markdown",
      "source": [
        "# **데이터 분리**"
      ],
      "metadata": {
        "id": "LNC35nDyN5vz"
      }
    },
    {
      "cell_type": "code",
      "source": [
        "Q1_B=q1_test[q1_test['ru_id']=='BaseStationB']\n",
        "Q1_C=q1_data[q1_data['ru_id']=='BaseStationC']\n",
        "Q1_D=q1_data[q1_data['ru_id']=='BaseStationD']\n",
        "Q1_J=q1_test[q1_test['ru_id']=='BaseStationJ']"
      ],
      "metadata": {
        "id": "Xh7Gf1rajIu-"
      },
      "execution_count": 82,
      "outputs": []
    },
    {
      "cell_type": "markdown",
      "source": [
        "# **StationC**"
      ],
      "metadata": {
        "id": "Xl1Bw92canEy"
      }
    },
    {
      "cell_type": "code",
      "source": [
        "Q1_C['datetime'] = pd.to_datetime(Q1_C['datetime'])\n",
        "Q1_C.set_index('datetime', inplace=True)\n",
        "\n",
        "# 훈련과 레이블 분리\n",
        "Q1_C = Q1_C.drop('ru_id', axis=1)\n",
        "X=Q1_C.iloc[:,:-1]\n",
        "y=Q1_C.iloc[:, [-1]]\n",
        "print(X)\n",
        "print(y)"
      ],
      "metadata": {
        "colab": {
          "base_uri": "https://localhost:8080/"
        },
        "outputId": "9e0b126b-dbb7-42d8-c5c2-f6650c35991f",
        "id": "AwyaWY_P4h8i"
      },
      "execution_count": 83,
      "outputs": [
        {
          "output_type": "stream",
          "name": "stdout",
          "text": [
            "                     scgfailratio  erabaddatt  erabaddratio  endcaddatt  \\\n",
            "datetime                                                                  \n",
            "2023-05-19 00:00:00           0.0        13.0         100.0         9.0   \n",
            "2023-05-19 00:05:00           7.7        13.0         100.0        12.0   \n",
            "2023-05-19 00:10:00           0.0        20.0         100.0        17.0   \n",
            "2023-05-19 00:15:00           0.0        11.0         100.0         8.0   \n",
            "2023-05-19 00:20:00           0.0         4.0         100.0         4.0   \n",
            "...                           ...         ...           ...         ...   \n",
            "2023-07-17 15:30:00           0.0        14.0         100.0        13.0   \n",
            "2023-07-17 15:35:00           0.0        18.0         100.0        16.0   \n",
            "2023-07-17 15:40:00           0.0        17.0         100.0        15.0   \n",
            "2023-07-17 15:45:00           0.0        10.0         100.0         8.0   \n",
            "2023-07-17 15:50:00           0.0        22.0         100.0        19.0   \n",
            "\n",
            "                     endcaddratio  endcmodbymenbatt  endcmodbymenbratio  \\\n",
            "datetime                                                                  \n",
            "2023-05-19 00:00:00         100.0               7.0               100.0   \n",
            "2023-05-19 00:05:00         100.0               3.0               100.0   \n",
            "2023-05-19 00:10:00         100.0               0.0                 0.0   \n",
            "2023-05-19 00:15:00         100.0               1.0               100.0   \n",
            "2023-05-19 00:20:00         100.0               0.0                 0.0   \n",
            "...                           ...               ...                 ...   \n",
            "2023-07-17 15:30:00         100.0               2.0               100.0   \n",
            "2023-07-17 15:35:00         100.0               1.0               100.0   \n",
            "2023-07-17 15:40:00         100.0               4.0               100.0   \n",
            "2023-07-17 15:45:00         100.0               2.0               100.0   \n",
            "2023-07-17 15:50:00         100.0               4.0               100.0   \n",
            "\n",
            "                     endcmodbysgnbatt  endcmodbysgnbratio  connestabatt  ...  \\\n",
            "datetime                                                                 ...   \n",
            "2023-05-19 00:00:00              18.0          100.000000          10.0  ...   \n",
            "2023-05-19 00:05:00              11.0          100.000000           5.0  ...   \n",
            "2023-05-19 00:10:00              21.0          100.000000           5.0  ...   \n",
            "2023-05-19 00:15:00              16.0          100.000000          13.0  ...   \n",
            "2023-05-19 00:20:00               6.0          100.000000           4.0  ...   \n",
            "...                               ...                 ...           ...  ...   \n",
            "2023-07-17 15:30:00              11.0           90.909091           7.0  ...   \n",
            "2023-07-17 15:35:00               9.0          100.000000           6.0  ...   \n",
            "2023-07-17 15:40:00              13.0           92.307692           5.0  ...   \n",
            "2023-07-17 15:45:00              12.0          100.000000           3.0  ...   \n",
            "2023-07-17 15:50:00              10.0           80.000000          13.0  ...   \n",
            "\n",
            "                     airmaculbyte  airmacdlbyte  bler_ul  bler_dl  \\\n",
            "datetime                                                            \n",
            "2023-05-19 00:00:00        2006.0       55524.0     15.7     16.6   \n",
            "2023-05-19 00:05:00         845.0       40370.0     16.3     10.8   \n",
            "2023-05-19 00:10:00         588.0       70084.0     15.7     12.5   \n",
            "2023-05-19 00:15:00         566.0        9995.0     16.2     21.6   \n",
            "2023-05-19 00:20:00          78.0          63.0     15.4      6.9   \n",
            "...                           ...           ...      ...      ...   \n",
            "2023-07-17 15:30:00         602.0        3077.0     12.8      7.8   \n",
            "2023-07-17 15:35:00         305.0        3217.0     17.4      5.1   \n",
            "2023-07-17 15:40:00         789.0        6137.0     12.5      7.6   \n",
            "2023-07-17 15:45:00      239434.0       29118.0     12.8      2.2   \n",
            "2023-07-17 15:50:00        1143.0       19496.0     13.6      8.7   \n",
            "\n",
            "                     rachpreamblea  nummsg3  attpaging  rssipathavg  \\\n",
            "datetime                                                              \n",
            "2023-05-19 00:00:00           47.0     25.0     2083.0        -91.7   \n",
            "2023-05-19 00:05:00           37.0     18.0     1936.0        -91.7   \n",
            "2023-05-19 00:10:00           48.0     27.0     1874.0        -91.7   \n",
            "2023-05-19 00:15:00           41.0     27.0     1815.0        -91.7   \n",
            "2023-05-19 00:20:00           30.0     11.0     1784.0        -91.7   \n",
            "...                            ...      ...        ...          ...   \n",
            "2023-07-17 15:30:00           28.0     24.0     8796.0        -91.2   \n",
            "2023-07-17 15:35:00           26.0     25.0     8741.0        -91.1   \n",
            "2023-07-17 15:40:00           35.0     30.0     8687.0        -91.1   \n",
            "2023-07-17 15:45:00           28.0     24.0     8706.0        -87.5   \n",
            "2023-07-17 15:50:00           43.0     36.0     9040.0        -90.9   \n",
            "\n",
            "                     dlreceivedcqiavg  endcrelbymenb  \n",
            "datetime                                              \n",
            "2023-05-19 00:00:00               9.4            9.0  \n",
            "2023-05-19 00:05:00               9.1            7.0  \n",
            "2023-05-19 00:10:00               9.1           20.0  \n",
            "2023-05-19 00:15:00              10.6            6.0  \n",
            "2023-05-19 00:20:00              10.5            3.0  \n",
            "...                               ...            ...  \n",
            "2023-07-17 15:30:00              10.4           13.0  \n",
            "2023-07-17 15:35:00              10.6           16.0  \n",
            "2023-07-17 15:40:00              10.7           15.0  \n",
            "2023-07-17 15:45:00              10.1            9.0  \n",
            "2023-07-17 15:50:00              10.7           21.0  \n",
            "\n",
            "[17181 rows x 33 columns]\n",
            "                     uenomax\n",
            "datetime                    \n",
            "2023-05-19 00:00:00        4\n",
            "2023-05-19 00:05:00        3\n",
            "2023-05-19 00:10:00        5\n",
            "2023-05-19 00:15:00        2\n",
            "2023-05-19 00:20:00        1\n",
            "...                      ...\n",
            "2023-07-17 15:30:00        2\n",
            "2023-07-17 15:35:00        3\n",
            "2023-07-17 15:40:00        3\n",
            "2023-07-17 15:45:00        4\n",
            "2023-07-17 15:50:00        3\n",
            "\n",
            "[17181 rows x 1 columns]\n"
          ]
        },
        {
          "output_type": "stream",
          "name": "stderr",
          "text": [
            "<ipython-input-83-4d5c76330e37>:1: SettingWithCopyWarning: \n",
            "A value is trying to be set on a copy of a slice from a DataFrame.\n",
            "Try using .loc[row_indexer,col_indexer] = value instead\n",
            "\n",
            "See the caveats in the documentation: https://pandas.pydata.org/pandas-docs/stable/user_guide/indexing.html#returning-a-view-versus-a-copy\n",
            "  Q1_C['datetime'] = pd.to_datetime(Q1_C['datetime'])\n"
          ]
        }
      ]
    },
    {
      "cell_type": "code",
      "source": [
        "device = torch.device('cuda:0' if torch.cuda.is_available() else 'cpu')\n",
        "cuda = True if torch.cuda.is_available() else False\n",
        "\n",
        "Tensor = torch.cuda.FloatTensor if cuda else torch.FloatTensor"
      ],
      "metadata": {
        "id": "L6roCLlxM63q"
      },
      "execution_count": 28,
      "outputs": []
    },
    {
      "cell_type": "markdown",
      "source": [
        "# **데이터 스케일링 및 텐서 변환**"
      ],
      "metadata": {
        "id": "omEzVwKsNd7-"
      }
    },
    {
      "cell_type": "code",
      "source": [
        "# 데이터 분포 조정\n",
        "C_scale_x=StandardScaler()\n",
        "#C_scale_y = StandardScaler()\n",
        "C_scale_y = MinMaxScaler()\n",
        "C_scale_x.fit(X)\n",
        "C_scale_y.fit(y)\n",
        "\n",
        "X_ss = C_scale_x.transform(X)\n",
        "y_ms = C_scale_y.transform(y)\n",
        "\n",
        "train_size = int(len(Q1_C)*0.8)\n",
        "X_train = X_ss[:train_size, :]\n",
        "X_test = X_ss[train_size:, :]\n",
        "\n",
        "y_train = y_ms[:train_size, :]\n",
        "y_test = y_ms[train_size:, :]\n",
        "\n",
        "print(\"Training Shape\", X_train.shape, y_train.shape)\n",
        "print(\"Testing Shape\", X_test.shape, y_test.shape)\n",
        "\n",
        "# 데이터셋 형태 및 크기 조정\n",
        "\n",
        "#Variable로 감싸진 텐서는 .backward()가 호출될 때 자동으로 기울기가 계산\n",
        "X_train_tensors = Variable(torch.Tensor(X_train))\n",
        "X_test_tensors = Variable(torch.Tensor(X_test))\n",
        "\n",
        "y_train_tensors = Variable(torch.Tensor(y_train))\n",
        "y_test_tensors = Variable(torch.Tensor(y_test))\n",
        "\n",
        "X_train_tensors_f = torch.reshape(X_train_tensors, (X_train_tensors.shape[0], 1, X_train_tensors.shape[1]))\n",
        "X_test_tensors_f = torch.reshape(X_test_tensors, (X_test_tensors.shape[0], 1, X_test_tensors.shape[1]))\n",
        "\n",
        "print(\"Training Shape\", X_train_tensors_f.shape, y_train_tensors.shape)\n",
        "print(\"Testing Shape\", X_test_tensors_f.shape, y_test_tensors.shape)\n",
        "\n",
        "#-----------------------------------------------------\n",
        "#torch.reshape: 텐서의 형태를 바꿀 때 사용 (200,5)->(200,1,5)"
      ],
      "metadata": {
        "colab": {
          "base_uri": "https://localhost:8080/"
        },
        "outputId": "68f3fcfc-14a9-4963-846b-4a415887b3c4",
        "id": "bA0kSA4s4h8j"
      },
      "execution_count": 84,
      "outputs": [
        {
          "output_type": "stream",
          "name": "stdout",
          "text": [
            "Training Shape (13744, 33) (13744, 1)\n",
            "Testing Shape (3437, 33) (3437, 1)\n",
            "Training Shape torch.Size([13744, 1, 33]) torch.Size([13744, 1])\n",
            "Testing Shape torch.Size([3437, 1, 33]) torch.Size([3437, 1])\n"
          ]
        }
      ]
    },
    {
      "cell_type": "markdown",
      "source": [
        "# **LSTM 함수 정의**"
      ],
      "metadata": {
        "id": "SPXITT1SNHus"
      }
    },
    {
      "cell_type": "code",
      "source": [
        "class LSTM(nn.Module):\n",
        "    def __init__(self, num_classes, input_size, hidden_size, num_layers, seq_length):\n",
        "        super(LSTM, self).__init__()\n",
        "        self.num_classes = num_classes  # 클래스 개수\n",
        "        self.num_layers = num_layers    # LSTM 계층의 개수\n",
        "        self.input_size = input_size    # 입력 크기로 훈련 데이터셋의 칼럼 개수 의미\n",
        "        self.hidden_size = hidden_size  # 은닉층의 뉴런 개수\n",
        "        self.seq_length = seq_length    # 시퀀스 길이\n",
        "\n",
        "        self.lstm = nn.LSTM(input_size=input_size, hidden_size=hidden_size,\n",
        "                          num_layers=num_layers, batch_first=True) # LSTM 계층\n",
        "        self.fc_1 =  nn.Linear(hidden_size, 128)                   # 완전연결층\n",
        "\n",
        "        self.relu = nn.ReLU()\n",
        "        #self.dropout = nn.Dropout(0.2) #드롭아웃\n",
        "\n",
        "        self.fc = nn.Linear(128, num_classes)                      # 출력층\n",
        "\n",
        "    def forward(self,x):\n",
        "        h_0 = Variable(torch.zeros(self.num_layers, x.size(0), self.hidden_size)) #은닉 상태를 0으로 초기화\n",
        "        c_0 = Variable(torch.zeros(self.num_layers, x.size(0), self.hidden_size)) #셀 상태를 0으로 초기화\n",
        "\n",
        "        output, (hn, cn) = self.lstm(x, (h_0, c_0)) #LSTM 계층에 은닉, 셀 상태 적용\n",
        "        hn = hn.view(-1, self.hidden_size)        #완전연결층 적용을 위해 데이터의 형태 조정(1차원으로 조정)\n",
        "        out = self.relu(hn)\n",
        "        out = self.fc_1(out)\n",
        "        #out = self.dropout(out)\n",
        "        out = self.relu(out)\n",
        "        out = self.fc(out) #출력층\n",
        "        return out"
      ],
      "metadata": {
        "id": "fOKcAdQDNEP3"
      },
      "execution_count": 85,
      "outputs": []
    },
    {
      "cell_type": "markdown",
      "source": [
        "# **파라미터 및 손실함수 지정**"
      ],
      "metadata": {
        "id": "AoQiDaSXNNzz"
      }
    },
    {
      "cell_type": "code",
      "source": [
        "num_epochs = 2000\n",
        "learning_rate = 0.01\n",
        "\n",
        "input_size = 33\n",
        "hidden_size = 10\n",
        "num_layers = 1\n",
        "\n",
        "num_classes = 1\n",
        "model_C = LSTM(num_classes, input_size, hidden_size, num_layers, X_train_tensors_f.shape[1])\n",
        "\n",
        "criterion = torch.nn.L1Loss()\n",
        "optimizer = torch.optim.Adam(model_C.parameters(), lr=learning_rate)"
      ],
      "metadata": {
        "id": "RRn8IJeK48_C"
      },
      "execution_count": 86,
      "outputs": []
    },
    {
      "cell_type": "code",
      "source": [
        "for epoch in range(num_epochs):\n",
        "    outputs = model_C.forward(X_train_tensors_f)\n",
        "    optimizer.zero_grad()\n",
        "    #y_train_tensors=y_train_tensors.repeat(2,1)\n",
        "    loss = criterion(outputs, y_train_tensors)\n",
        "    loss.backward()\n",
        "    optimizer.step()\n",
        "    if epoch % 100 == 0:\n",
        "        print(\"Epoch: %d, loss: %1.5f\" % (epoch, loss.item()))"
      ],
      "metadata": {
        "colab": {
          "base_uri": "https://localhost:8080/"
        },
        "id": "oLnUS3TpNWHa",
        "outputId": "6fad14b5-1dc4-4473-87cc-e3edfe618095"
      },
      "execution_count": 87,
      "outputs": [
        {
          "output_type": "stream",
          "name": "stdout",
          "text": [
            "Epoch: 0, loss: 0.24275\n",
            "Epoch: 100, loss: 0.05253\n",
            "Epoch: 200, loss: 0.04952\n",
            "Epoch: 300, loss: 0.04848\n",
            "Epoch: 400, loss: 0.04771\n",
            "Epoch: 500, loss: 0.04699\n",
            "Epoch: 600, loss: 0.04702\n",
            "Epoch: 700, loss: 0.04648\n",
            "Epoch: 800, loss: 0.04575\n",
            "Epoch: 900, loss: 0.04607\n",
            "Epoch: 1000, loss: 0.04522\n",
            "Epoch: 1100, loss: 0.04531\n",
            "Epoch: 1200, loss: 0.04488\n",
            "Epoch: 1300, loss: 0.04465\n",
            "Epoch: 1400, loss: 0.04501\n",
            "Epoch: 1500, loss: 0.04542\n",
            "Epoch: 1600, loss: 0.04513\n",
            "Epoch: 1700, loss: 0.04528\n",
            "Epoch: 1800, loss: 0.04529\n",
            "Epoch: 1900, loss: 0.04396\n"
          ]
        }
      ]
    },
    {
      "cell_type": "markdown",
      "source": [
        "# **모델 예측**"
      ],
      "metadata": {
        "id": "CtC05SpjNYPX"
      }
    },
    {
      "cell_type": "code",
      "source": [
        "# 모델 예측 결과 출력\n",
        "train_predict = model_C(X_test_tensors_f)\n",
        "predicted = train_predict.data.numpy()\n",
        "label_y = y_test_tensors.data.numpy()\n",
        "\n",
        "predicted_inverse= C_scale_y.inverse_transform(predicted) # 정규화 해제, 그래프 본래값 출력위함\n",
        "label_y_inverse = C_scale_y.inverse_transform(label_y)\n",
        "plt.figure(figsize=(10,6))\n",
        "\n",
        "def MAE(true, pred):\n",
        "    return np.mean(np.abs(true-pred))\n",
        "\n",
        "print('MAE SCORE : ', MAE(label_y_inverse, predicted_inverse))\n",
        "\n",
        "plt.plot(label_y, label='Actual Data')\n",
        "plt.plot(predicted, label='Predicted Data')\n",
        "plt.title('Time-Series Prediction')\n",
        "plt.legend()\n",
        "plt.show()"
      ],
      "metadata": {
        "colab": {
          "base_uri": "https://localhost:8080/",
          "height": 563
        },
        "id": "C-nKHzxJ49Em",
        "outputId": "2eb26bd4-a4ac-4b93-f591-714fd90f1de1"
      },
      "execution_count": 88,
      "outputs": [
        {
          "output_type": "stream",
          "name": "stdout",
          "text": [
            "MAE SCORE :  0.71803415\n"
          ]
        },
        {
          "output_type": "display_data",
          "data": {
            "text/plain": [
              "<Figure size 1000x600 with 1 Axes>"
            ],
            "image/png": "[encoded data removed]"
          },
          "metadata": {}
        }
      ]
    },
    {
      "cell_type": "markdown",
      "source": [
        "# **StationD**"
      ],
      "metadata": {
        "id": "I1RxwoyJa-j6"
      }
    },
    {
      "cell_type": "code",
      "source": [
        "Q1_D['datetime'] = pd.to_datetime(Q1_D['datetime'])\n",
        "Q1_D.set_index('datetime', inplace=True)\n",
        "\n",
        "# 훈련과 레이블 분리\n",
        "Q1_D = Q1_D.drop('ru_id', axis=1)\n",
        "X=Q1_D.iloc[:,:-1]\n",
        "y=Q1_D.iloc[:, [-1]]\n",
        "print(X)\n",
        "print(y)"
      ],
      "metadata": {
        "colab": {
          "base_uri": "https://localhost:8080/"
        },
        "outputId": "faf36d46-ed69-4b2d-c6e6-4733cca4d48f",
        "id": "t5a7Xfg2a-kL"
      },
      "execution_count": 36,
      "outputs": [
        {
          "output_type": "stream",
          "name": "stdout",
          "text": [
            "                     scgfailratio  erabaddatt  erabaddratio  endcaddatt  \\\n",
            "datetime                                                                  \n",
            "2023-05-19 00:00:00           0.0        29.0         100.0        29.0   \n",
            "2023-05-19 00:05:00           0.0        26.0         100.0        25.0   \n",
            "2023-05-19 00:10:00           0.0        17.0         100.0        16.0   \n",
            "2023-05-19 00:15:00           0.0        21.0         100.0        20.0   \n",
            "2023-05-19 00:20:00           0.0        24.0         100.0        23.0   \n",
            "...                           ...         ...           ...         ...   \n",
            "2023-07-17 15:30:00           7.1        28.0         100.0        20.0   \n",
            "2023-07-17 15:35:00           3.2        31.0         100.0        25.0   \n",
            "2023-07-17 15:40:00           4.3        23.0         100.0        19.0   \n",
            "2023-07-17 15:45:00           5.9        17.0         100.0        14.0   \n",
            "2023-07-17 15:50:00           5.6        18.0         100.0        12.0   \n",
            "\n",
            "                     endcaddratio  endcmodbymenbatt  endcmodbymenbratio  \\\n",
            "datetime                                                                  \n",
            "2023-05-19 00:00:00         100.0               1.0               100.0   \n",
            "2023-05-19 00:05:00         100.0               0.0                 0.0   \n",
            "2023-05-19 00:10:00         100.0               0.0                 0.0   \n",
            "2023-05-19 00:15:00         100.0               1.0               100.0   \n",
            "2023-05-19 00:20:00         100.0               0.0                 0.0   \n",
            "...                           ...               ...                 ...   \n",
            "2023-07-17 15:30:00         100.0               0.0                 0.0   \n",
            "2023-07-17 15:35:00         100.0               0.0                 0.0   \n",
            "2023-07-17 15:40:00         100.0               0.0                 0.0   \n",
            "2023-07-17 15:45:00         100.0               0.0                 0.0   \n",
            "2023-07-17 15:50:00         100.0               0.0                 0.0   \n",
            "\n",
            "                     endcmodbysgnbatt  endcmodbysgnbratio  connestabatt  ...  \\\n",
            "datetime                                                                 ...   \n",
            "2023-05-19 00:00:00              18.0          100.000000           1.0  ...   \n",
            "2023-05-19 00:05:00              18.0          100.000000           6.0  ...   \n",
            "2023-05-19 00:10:00               7.0          100.000000           2.0  ...   \n",
            "2023-05-19 00:15:00              11.0          100.000000           1.0  ...   \n",
            "2023-05-19 00:20:00              17.0           94.117647           3.0  ...   \n",
            "...                               ...                 ...           ...  ...   \n",
            "2023-07-17 15:30:00              12.0          100.000000           4.0  ...   \n",
            "2023-07-17 15:35:00              17.0          100.000000           1.0  ...   \n",
            "2023-07-17 15:40:00              17.0          100.000000           7.0  ...   \n",
            "2023-07-17 15:45:00              14.0          100.000000           5.0  ...   \n",
            "2023-07-17 15:50:00              10.0          100.000000           8.0  ...   \n",
            "\n",
            "                     airmaculbyte  airmacdlbyte  bler_ul  bler_dl  \\\n",
            "datetime                                                            \n",
            "2023-05-19 00:00:00         853.0       87264.0     18.3      9.2   \n",
            "2023-05-19 00:05:00         871.0       93512.0     16.3      5.1   \n",
            "2023-05-19 00:10:00         545.0       39760.0      9.8      9.3   \n",
            "2023-05-19 00:15:00         475.0       15007.0     13.2      6.2   \n",
            "2023-05-19 00:20:00         576.0        3654.0     13.6     11.5   \n",
            "...                           ...           ...      ...      ...   \n",
            "2023-07-17 15:30:00        3362.0       47751.0     18.6     14.7   \n",
            "2023-07-17 15:35:00        3428.0      105322.0     20.0     14.4   \n",
            "2023-07-17 15:40:00        1809.0       14802.0     19.6      8.1   \n",
            "2023-07-17 15:45:00       11433.0      148603.0     14.3     21.4   \n",
            "2023-07-17 15:50:00         542.0         876.0     25.0    154.8   \n",
            "\n",
            "                     rachpreamblea  nummsg3  attpaging  rssipathavg  \\\n",
            "datetime                                                              \n",
            "2023-05-19 00:00:00           51.0     35.0     2083.0        -92.7   \n",
            "2023-05-19 00:05:00           46.0     34.0     1936.0        -92.7   \n",
            "2023-05-19 00:10:00           31.0     22.0     1874.0        -92.7   \n",
            "2023-05-19 00:15:00           42.0     25.0     1815.0        -92.7   \n",
            "2023-05-19 00:20:00           43.0     34.0     1784.0        -92.6   \n",
            "...                            ...      ...        ...          ...   \n",
            "2023-07-17 15:30:00           48.0     35.0     8796.0        -91.3   \n",
            "2023-07-17 15:35:00           53.0     39.0     8741.0        -91.6   \n",
            "2023-07-17 15:40:00           51.0     36.0     8687.0        -91.7   \n",
            "2023-07-17 15:45:00           39.0     29.0     8706.0        -91.7   \n",
            "2023-07-17 15:50:00           46.0     29.0     9040.0        -91.7   \n",
            "\n",
            "                     dlreceivedcqiavg  endcrelbymenb  \n",
            "datetime                                              \n",
            "2023-05-19 00:00:00              12.4           28.0  \n",
            "2023-05-19 00:05:00              10.4           26.0  \n",
            "2023-05-19 00:10:00              12.7           18.0  \n",
            "2023-05-19 00:15:00               8.0           17.0  \n",
            "2023-05-19 00:20:00              10.7           20.0  \n",
            "...                               ...            ...  \n",
            "2023-07-17 15:30:00              11.1           17.0  \n",
            "2023-07-17 15:35:00              10.4           22.0  \n",
            "2023-07-17 15:40:00              11.7           19.0  \n",
            "2023-07-17 15:45:00              11.9           12.0  \n",
            "2023-07-17 15:50:00              12.2           12.0  \n",
            "\n",
            "[17181 rows x 33 columns]\n",
            "                     uenomax\n",
            "datetime                    \n",
            "2023-05-19 00:00:00        4\n",
            "2023-05-19 00:05:00        4\n",
            "2023-05-19 00:10:00        2\n",
            "2023-05-19 00:15:00        3\n",
            "2023-05-19 00:20:00        4\n",
            "...                      ...\n",
            "2023-07-17 15:30:00        5\n",
            "2023-07-17 15:35:00        5\n",
            "2023-07-17 15:40:00        4\n",
            "2023-07-17 15:45:00        3\n",
            "2023-07-17 15:50:00        2\n",
            "\n",
            "[17181 rows x 1 columns]\n"
          ]
        },
        {
          "output_type": "stream",
          "name": "stderr",
          "text": [
            "<ipython-input-36-24530ac6ce01>:1: SettingWithCopyWarning: \n",
            "A value is trying to be set on a copy of a slice from a DataFrame.\n",
            "Try using .loc[row_indexer,col_indexer] = value instead\n",
            "\n",
            "See the caveats in the documentation: https://pandas.pydata.org/pandas-docs/stable/user_guide/indexing.html#returning-a-view-versus-a-copy\n",
            "  Q1_D['datetime'] = pd.to_datetime(Q1_D['datetime'])\n"
          ]
        }
      ]
    },
    {
      "cell_type": "markdown",
      "source": [
        "# **데이터 스케일링 및 텐서 변환**"
      ],
      "metadata": {
        "id": "PxthKBUoa-kM"
      }
    },
    {
      "cell_type": "code",
      "source": [
        "# 데이터 분포 조정\n",
        "D_scale_x=StandardScaler()\n",
        "#C_scale_y = StandardScaler()\n",
        "D_scale_y = MinMaxScaler()\n",
        "D_scale_x.fit(X)\n",
        "D_scale_y.fit(y)\n",
        "\n",
        "X_ss = D_scale_x.transform(X)\n",
        "y_ms = D_scale_y.transform(y)\n",
        "\n",
        "train_size = int(len(Q1_D)*0.8)\n",
        "X_train = X_ss[:train_size, :]\n",
        "X_test = X_ss[train_size:, :]\n",
        "\n",
        "y_train = y_ms[:train_size, :]\n",
        "y_test = y_ms[train_size:, :]\n",
        "\n",
        "print(\"Training Shape\", X_train.shape, y_train.shape)\n",
        "print(\"Testing Shape\", X_test.shape, y_test.shape)\n",
        "\n",
        "# 데이터셋 형태 및 크기 조정\n",
        "\n",
        "#Variable로 감싸진 텐서는 .backward()가 호출될 때 자동으로 기울기가 계산\n",
        "X_train_tensors = Variable(torch.Tensor(X_train))\n",
        "X_test_tensors = Variable(torch.Tensor(X_test))\n",
        "\n",
        "y_train_tensors = Variable(torch.Tensor(y_train))\n",
        "y_test_tensors = Variable(torch.Tensor(y_test))\n",
        "\n",
        "X_train_tensors_f = torch.reshape(X_train_tensors, (X_train_tensors.shape[0], 1, X_train_tensors.shape[1]))\n",
        "X_test_tensors_f = torch.reshape(X_test_tensors, (X_test_tensors.shape[0], 1, X_test_tensors.shape[1]))\n",
        "\n",
        "print(\"Training Shape\", X_train_tensors_f.shape, y_train_tensors.shape)\n",
        "print(\"Testing Shape\", X_test_tensors_f.shape, y_test_tensors.shape)\n",
        "\n",
        "#-----------------------------------------------------\n",
        "#torch.reshape: 텐서의 형태를 바꿀 때 사용 (200,5)->(200,1,5)"
      ],
      "metadata": {
        "colab": {
          "base_uri": "https://localhost:8080/"
        },
        "outputId": "e5ed97b3-2351-494b-d23d-116da7070a75",
        "id": "cfyghwHAa-kM"
      },
      "execution_count": 37,
      "outputs": [
        {
          "output_type": "stream",
          "name": "stdout",
          "text": [
            "Training Shape (13744, 33) (13744, 1)\n",
            "Testing Shape (3437, 33) (3437, 1)\n",
            "Training Shape torch.Size([13744, 1, 33]) torch.Size([13744, 1])\n",
            "Testing Shape torch.Size([3437, 1, 33]) torch.Size([3437, 1])\n"
          ]
        }
      ]
    },
    {
      "cell_type": "markdown",
      "source": [
        "# **파라미터 및 손실함수 지정**"
      ],
      "metadata": {
        "id": "Yp7fwz29a-kN"
      }
    },
    {
      "cell_type": "code",
      "source": [
        "num_epochs = 2000\n",
        "learning_rate = 0.01\n",
        "\n",
        "input_size = 33\n",
        "hidden_size = 10\n",
        "num_layers = 1\n",
        "\n",
        "num_classes = 1\n",
        "model_D = LSTM(num_classes, input_size, hidden_size, num_layers, X_train_tensors_f.shape[1])\n",
        "\n",
        "criterion = torch.nn.L1Loss()\n",
        "optimizer = torch.optim.Adam(model_D.parameters(), lr=learning_rate)"
      ],
      "metadata": {
        "id": "lhCD9iXia-kO"
      },
      "execution_count": 38,
      "outputs": []
    },
    {
      "cell_type": "code",
      "source": [
        "for epoch in range(num_epochs):\n",
        "    outputs = model_D.forward(X_train_tensors_f)\n",
        "    optimizer.zero_grad()\n",
        "    loss = criterion(outputs, y_train_tensors)\n",
        "    loss.backward()\n",
        "    optimizer.step()\n",
        "    if epoch % 100 == 0:\n",
        "        print(\"Epoch: %d, loss: %1.5f\" % (epoch, loss.item()))"
      ],
      "metadata": {
        "colab": {
          "base_uri": "https://localhost:8080/"
        },
        "outputId": "d166faa4-640b-4e13-f7c2-f5933cefef2c",
        "id": "sQ2btR5Xa-kO"
      },
      "execution_count": 39,
      "outputs": [
        {
          "output_type": "stream",
          "name": "stdout",
          "text": [
            "Epoch: 0, loss: 0.23804\n",
            "Epoch: 100, loss: 0.05454\n",
            "Epoch: 200, loss: 0.05148\n",
            "Epoch: 300, loss: 0.05032\n",
            "Epoch: 400, loss: 0.05355\n",
            "Epoch: 500, loss: 0.04868\n",
            "Epoch: 600, loss: 0.04887\n",
            "Epoch: 700, loss: 0.04847\n",
            "Epoch: 800, loss: 0.04792\n",
            "Epoch: 900, loss: 0.05311\n",
            "Epoch: 1000, loss: 0.04723\n",
            "Epoch: 1100, loss: 0.04668\n",
            "Epoch: 1200, loss: 0.04664\n",
            "Epoch: 1300, loss: 0.04888\n",
            "Epoch: 1400, loss: 0.04695\n",
            "Epoch: 1500, loss: 0.04747\n",
            "Epoch: 1600, loss: 0.04498\n",
            "Epoch: 1700, loss: 0.04484\n",
            "Epoch: 1800, loss: 0.04618\n",
            "Epoch: 1900, loss: 0.04482\n"
          ]
        }
      ]
    },
    {
      "cell_type": "markdown",
      "source": [
        "# **모델 예측**"
      ],
      "metadata": {
        "id": "yppMkzw3a-kO"
      }
    },
    {
      "cell_type": "code",
      "source": [
        "# 모델 예측 결과 출력\n",
        "train_predict = model_D(X_test_tensors_f)\n",
        "predicted = train_predict.data.numpy()\n",
        "label_y = y_test_tensors.data.numpy()\n",
        "\n",
        "predicted_inverse= D_scale_y.inverse_transform(predicted) # 정규화 해제, 그래프 본래값 출력위함\n",
        "label_y_inverse = D_scale_y.inverse_transform(label_y)\n",
        "plt.figure(figsize=(10,6))\n",
        "\n",
        "def MAE(true, pred):\n",
        "    return np.mean(np.abs(true-pred))\n",
        "\n",
        "print('MAE SCORE : ', MAE(label_y_inverse,predicted_inverse))\n",
        "\n",
        "plt.plot(label_y, label='Actual Data')\n",
        "plt.plot(predicted, label='Predicted Data')\n",
        "plt.title('Time-Series Prediction')\n",
        "plt.legend()\n",
        "plt.show()"
      ],
      "metadata": {
        "colab": {
          "base_uri": "https://localhost:8080/",
          "height": 563
        },
        "id": "ax91bRTka-kP",
        "outputId": "afce9b54-bd7b-4a47-b6a5-d1be61343561"
      },
      "execution_count": 40,
      "outputs": [
        {
          "output_type": "stream",
          "name": "stdout",
          "text": [
            "MAE SCORE :  0.62926084\n"
          ]
        },
        {
          "output_type": "display_data",
          "data": {
            "text/plain": [
              "<Figure size 1000x600 with 1 Axes>"
            ],
            "image/png": "[encoded data removed]"
          },
          "metadata": {}
        }
      ]
    },
    {
      "cell_type": "markdown",
      "source": [
        "# **StationB**"
      ],
      "metadata": {
        "id": "WRCcweN-buHO"
      }
    },
    {
      "cell_type": "markdown",
      "source": [
        "##### C 모델로 예측"
      ],
      "metadata": {
        "id": "9d3VV1tNtnx_"
      }
    },
    {
      "cell_type": "code",
      "source": [
        "Q1_B['datetime'] = pd.to_datetime(Q1_B['datetime'])\n",
        "B_df = Q1_B.set_index('datetime')\n",
        "B_df = B_df.iloc[:, 1:]\n",
        "\n",
        "# StationB에 uenomax 추가(값 다 0으로)\n",
        "B_df['uenomax'] = 0"
      ],
      "metadata": {
        "id": "iBpjganEyzit",
        "colab": {
          "base_uri": "https://localhost:8080/"
        },
        "outputId": "9348885f-ed94-4068-c01b-900e8d911a0e"
      },
      "execution_count": 41,
      "outputs": [
        {
          "output_type": "stream",
          "name": "stderr",
          "text": [
            "<ipython-input-41-0b69ceb2d40c>:1: SettingWithCopyWarning: \n",
            "A value is trying to be set on a copy of a slice from a DataFrame.\n",
            "Try using .loc[row_indexer,col_indexer] = value instead\n",
            "\n",
            "See the caveats in the documentation: https://pandas.pydata.org/pandas-docs/stable/user_guide/indexing.html#returning-a-view-versus-a-copy\n",
            "  Q1_B['datetime'] = pd.to_datetime(Q1_B['datetime'])\n"
          ]
        }
      ]
    },
    {
      "cell_type": "code",
      "source": [
        "# scaling\n",
        "B_scale = B_df.copy()\n",
        "B_X = B_scale.iloc[:, :-1]\n",
        "B_y = B_scale.iloc[:, -1:]\n",
        "\n",
        "B_X = C_scale_x.transform(B_df.iloc[:, :-1])\n",
        "B_y = C_scale_y.transform(B_df.iloc[:, -1:])"
      ],
      "metadata": {
        "id": "shKX6pgkunYN"
      },
      "execution_count": 42,
      "outputs": []
    },
    {
      "cell_type": "code",
      "source": [
        "# 텐서로 변환\n",
        "testX_tensor = Variable(torch.Tensor(B_X))\n",
        "testY_tensor = Variable(torch.Tensor(B_y))\n",
        "\n",
        "X_test_tensors_f = torch.reshape(testX_tensor, (testX_tensor.shape[0], 1, testX_tensor.shape[1]))\n"
      ],
      "metadata": {
        "id": "08Ajdbi0unYN"
      },
      "execution_count": 43,
      "outputs": []
    },
    {
      "cell_type": "code",
      "source": [
        "# 예측값 출력\n",
        "with torch.no_grad(): # gradient 계산 수행 x -> 메모리 사용안하도록\n",
        "\n",
        "    train_predict = model_C(X_test_tensors_f)\n",
        "    predicted = train_predict.data.numpy()\n",
        "\n",
        "    # [INVERSE] 모델이 예측한 값을 다시 스케일 역변환하여 원래 스케일로 되돌림\n",
        "    pred_C_inverse = C_scale_y.inverse_transform(predicted)"
      ],
      "metadata": {
        "id": "HyIiwAqIunYN"
      },
      "execution_count": 44,
      "outputs": []
    },
    {
      "cell_type": "code",
      "source": [
        "print(pred_C_inverse.shape)\n",
        "pred_C_inverse"
      ],
      "metadata": {
        "colab": {
          "base_uri": "https://localhost:8080/"
        },
        "id": "eRsnVBuTvToI",
        "outputId": "66ab19e1-00da-4fe8-9d69-71d6d57b070f"
      },
      "execution_count": 45,
      "outputs": [
        {
          "output_type": "stream",
          "name": "stdout",
          "text": [
            "(17181, 1)\n"
          ]
        },
        {
          "output_type": "execute_result",
          "data": {
            "text/plain": [
              "array([[0.70699626],\n",
              "       [2.336915  ],\n",
              "       [2.501483  ],\n",
              "       ...,\n",
              "       [2.869165  ],\n",
              "       [2.1772008 ],\n",
              "       [2.2082112 ]], dtype=float32)"
            ]
          },
          "metadata": {},
          "execution_count": 45
        }
      ]
    },
    {
      "cell_type": "markdown",
      "source": [
        "# D 모델로 예측"
      ],
      "metadata": {
        "id": "cRmYC-XgghVg"
      }
    },
    {
      "cell_type": "code",
      "source": [
        "Q1_B['datetime'] = pd.to_datetime(Q1_B['datetime'])\n",
        "B_df = Q1_B.set_index('datetime')\n",
        "B_df = B_df.iloc[:, 1:]\n",
        "\n",
        "# StationB에 uenomax 추가(값 다 0으로)\n",
        "B_df['uenomax'] = 0"
      ],
      "metadata": {
        "colab": {
          "base_uri": "https://localhost:8080/"
        },
        "outputId": "60d86080-9949-4978-946d-1e39000de8ac",
        "id": "s4bflzArghVg"
      },
      "execution_count": 46,
      "outputs": [
        {
          "output_type": "stream",
          "name": "stderr",
          "text": [
            "<ipython-input-46-0b69ceb2d40c>:1: SettingWithCopyWarning: \n",
            "A value is trying to be set on a copy of a slice from a DataFrame.\n",
            "Try using .loc[row_indexer,col_indexer] = value instead\n",
            "\n",
            "See the caveats in the documentation: https://pandas.pydata.org/pandas-docs/stable/user_guide/indexing.html#returning-a-view-versus-a-copy\n",
            "  Q1_B['datetime'] = pd.to_datetime(Q1_B['datetime'])\n"
          ]
        }
      ]
    },
    {
      "cell_type": "code",
      "source": [
        "# scaling\n",
        "B_scale = B_df.copy()\n",
        "B_X = B_scale.iloc[:, :-1]\n",
        "B_y = B_scale.iloc[:, -1:]\n",
        "\n",
        "B_X = D_scale_x.transform(B_df.iloc[:, :-1])\n",
        "B_y = D_scale_y.transform(B_df.iloc[:, -1:])"
      ],
      "metadata": {
        "id": "_3E4DdPNghVg"
      },
      "execution_count": 47,
      "outputs": []
    },
    {
      "cell_type": "code",
      "source": [
        "# 텐서로 변환\n",
        "testX_tensor = Variable(torch.Tensor(B_X))\n",
        "testY_tensor = Variable(torch.Tensor(B_y))\n",
        "\n",
        "X_test_tensors_f = torch.reshape(testX_tensor, (testX_tensor.shape[0], 1, testX_tensor.shape[1]))\n"
      ],
      "metadata": {
        "id": "9segkVNfghVh"
      },
      "execution_count": 48,
      "outputs": []
    },
    {
      "cell_type": "code",
      "source": [
        "# 예측값 출력\n",
        "with torch.no_grad(): # gradient 계산 수행 x -> 메모리 사용안하도록\n",
        "\n",
        "    train_predict = model_D(X_test_tensors_f)\n",
        "    predicted = train_predict.data.numpy()\n",
        "\n",
        "    # [INVERSE] 모델이 예측한 값을 다시 스케일 역변환하여 원래 스케일로 되돌림\n",
        "    pred_D_inverse = D_scale_y.inverse_transform(predicted)"
      ],
      "metadata": {
        "id": "fRCcIUX3ghVh"
      },
      "execution_count": 49,
      "outputs": []
    },
    {
      "cell_type": "code",
      "source": [
        "print(pred_D_inverse.shape)\n",
        "pred_D_inverse"
      ],
      "metadata": {
        "id": "bmsLdeQfghVh"
      },
      "execution_count": null,
      "outputs": []
    },
    {
      "cell_type": "code",
      "source": [
        "label_sample = pd.read_csv('Q1_label_sample.csv')\n",
        "label_sample['BaseStationB'] = (pred_C_inverse + pred_D_inverse) / 2\n",
        "label_sample.head()"
      ],
      "metadata": {
        "colab": {
          "base_uri": "https://localhost:8080/",
          "height": 206
        },
        "id": "KOaWMQeVg6D-",
        "outputId": "eebe29b7-457f-4af2-c237-67edebb158e2"
      },
      "execution_count": 51,
      "outputs": [
        {
          "output_type": "execute_result",
          "data": {
            "text/plain": [
              "              datetime  BaseStationB  BaseStationJ\n",
              "0  2023-05-19 00:00:00      0.842910             0\n",
              "1  2023-05-19 00:05:00      2.167376             0\n",
              "2  2023-05-19 00:10:00      2.249155             0\n",
              "3  2023-05-19 00:15:00      1.663399             0\n",
              "4  2023-05-19 00:20:00      1.713573             0"
            ],
            "text/html": [
              "\n",
              "  <div id=\"df-4ce1287b-3e7a-4174-b05c-479923b24d6a\" class=\"colab-df-container\">\n",
              "    <div>\n",
              "<style scoped>\n",
              "    .dataframe tbody tr th:only-of-type {\n",
              "        vertical-align: middle;\n",
              "    }\n",
              "\n",
              "    .dataframe tbody tr th {\n",
              "        vertical-align: top;\n",
              "    }\n",
              "\n",
              "    .dataframe thead th {\n",
              "        text-align: right;\n",
              "    }\n",
              "</style>\n",
              "<table border=\"1\" class=\"dataframe\">\n",
              "  <thead>\n",
              "    <tr style=\"text-align: right;\">\n",
              "      <th></th>\n",
              "      <th>datetime</th>\n",
              "      <th>BaseStationB</th>\n",
              "      <th>BaseStationJ</th>\n",
              "    </tr>\n",
              "  </thead>\n",
              "  <tbody>\n",
              "    <tr>\n",
              "      <th>0</th>\n",
              "      <td>2023-05-19 00:00:00</td>\n",
              "      <td>0.842910</td>\n",
              "      <td>0</td>\n",
              "    </tr>\n",
              "    <tr>\n",
              "      <th>1</th>\n",
              "      <td>2023-05-19 00:05:00</td>\n",
              "      <td>2.167376</td>\n",
              "      <td>0</td>\n",
              "    </tr>\n",
              "    <tr>\n",
              "      <th>2</th>\n",
              "      <td>2023-05-19 00:10:00</td>\n",
              "      <td>2.249155</td>\n",
              "      <td>0</td>\n",
              "    </tr>\n",
              "    <tr>\n",
              "      <th>3</th>\n",
              "      <td>2023-05-19 00:15:00</td>\n",
              "      <td>1.663399</td>\n",
              "      <td>0</td>\n",
              "    </tr>\n",
              "    <tr>\n",
              "      <th>4</th>\n",
              "      <td>2023-05-19 00:20:00</td>\n",
              "      <td>1.713573</td>\n",
              "      <td>0</td>\n",
              "    </tr>\n",
              "  </tbody>\n",
              "</table>\n",
              "</div>\n",
              "    <div class=\"colab-df-buttons\">\n",
              "\n",
              "  <div class=\"colab-df-container\">\n",
              "    <button class=\"colab-df-convert\" onclick=\"convertToInteractive('df-4ce1287b-3e7a-4174-b05c-479923b24d6a')\"\n",
              "            title=\"Convert this dataframe to an interactive table.\"\n",
              "            style=\"display:none;\">\n",
              "\n",
              "  <svg xmlns=\"http://www.w3.org/2000/svg\" height=\"24px\" viewBox=\"0 -960 960 960\">\n",
              "    <path d=\"M120-120v-720h720v720H120Zm60-500h600v-160H180v160Zm220 220h160v-160H400v160Zm0 220h160v-160H400v160ZM180-400h160v-160H180v160Zm440 0h160v-160H620v160ZM180-180h160v-160H180v160Zm440 0h160v-160H620v160Z\"/>\n",
              "  </svg>\n",
              "    </button>\n",
              "\n",
              "  <style>\n",
              "    .colab-df-container {\n",
              "      display:flex;\n",
              "      gap: 12px;\n",
              "    }\n",
              "\n",
              "    .colab-df-convert {\n",
              "      background-color: #E8F0FE;\n",
              "      border: none;\n",
              "      border-radius: 50%;\n",
              "      cursor: pointer;\n",
              "      display: none;\n",
              "      fill: #1967D2;\n",
              "      height: 32px;\n",
              "      padding: 0 0 0 0;\n",
              "      width: 32px;\n",
              "    }\n",
              "\n",
              "    .colab-df-convert:hover {\n",
              "      background-color: #E2EBFA;\n",
              "      box-shadow: 0px 1px 2px rgba(60, 64, 67, 0.3), 0px 1px 3px 1px rgba(60, 64, 67, 0.15);\n",
              "      fill: #174EA6;\n",
              "    }\n",
              "\n",
              "    .colab-df-buttons div {\n",
              "      margin-bottom: 4px;\n",
              "    }\n",
              "\n",
              "    [theme=dark] .colab-df-convert {\n",
              "      background-color: #3B4455;\n",
              "      fill: #D2E3FC;\n",
              "    }\n",
              "\n",
              "    [theme=dark] .colab-df-convert:hover {\n",
              "      background-color: #434B5C;\n",
              "      box-shadow: 0px 1px 3px 1px rgba(0, 0, 0, 0.15);\n",
              "      filter: drop-shadow(0px 1px 2px rgba(0, 0, 0, 0.3));\n",
              "      fill: #FFFFFF;\n",
              "    }\n",
              "  </style>\n",
              "\n",
              "    <script>\n",
              "      const buttonEl =\n",
              "        document.querySelector('#df-4ce1287b-3e7a-4174-b05c-479923b24d6a button.colab-df-convert');\n",
              "      buttonEl.style.display =\n",
              "        google.colab.kernel.accessAllowed ? 'block' : 'none';\n",
              "\n",
              "      async function convertToInteractive(key) {\n",
              "        const element = document.querySelector('#df-4ce1287b-3e7a-4174-b05c-479923b24d6a');\n",
              "        const dataTable =\n",
              "          await google.colab.kernel.invokeFunction('convertToInteractive',\n",
              "                                                    [key], {});\n",
              "        if (!dataTable) return;\n",
              "\n",
              "        const docLinkHtml = 'Like what you see? Visit the ' +\n",
              "          '<a target=\"_blank\" href=https://colab.research.google.com/notebooks/data_table.ipynb>data table notebook</a>'\n",
              "          + ' to learn more about interactive tables.';\n",
              "        element.innerHTML = '';\n",
              "        dataTable['output_type'] = 'display_data';\n",
              "        await google.colab.output.renderOutput(dataTable, element);\n",
              "        const docLink = document.createElement('div');\n",
              "        docLink.innerHTML = docLinkHtml;\n",
              "        element.appendChild(docLink);\n",
              "      }\n",
              "    </script>\n",
              "  </div>\n",
              "\n",
              "\n",
              "<div id=\"df-e899fd1e-76c1-41f5-8525-c901b95c9c09\">\n",
              "  <button class=\"colab-df-quickchart\" onclick=\"quickchart('df-e899fd1e-76c1-41f5-8525-c901b95c9c09')\"\n",
              "            title=\"Suggest charts.\"\n",
              "            style=\"display:none;\">\n",
              "\n",
              "<svg xmlns=\"http://www.w3.org/2000/svg\" height=\"24px\"viewBox=\"0 0 24 24\"\n",
              "     width=\"24px\">\n",
              "    <g>\n",
              "        <path d=\"M19 3H5c-1.1 0-2 .9-2 2v14c0 1.1.9 2 2 2h14c1.1 0 2-.9 2-2V5c0-1.1-.9-2-2-2zM9 17H7v-7h2v7zm4 0h-2V7h2v10zm4 0h-2v-4h2v4z\"/>\n",
              "    </g>\n",
              "</svg>\n",
              "  </button>\n",
              "\n",
              "<style>\n",
              "  .colab-df-quickchart {\n",
              "    background-color: #E8F0FE;\n",
              "    border: none;\n",
              "    border-radius: 50%;\n",
              "    cursor: pointer;\n",
              "    display: none;\n",
              "    fill: #1967D2;\n",
              "    height: 32px;\n",
              "    padding: 0 0 0 0;\n",
              "    width: 32px;\n",
              "  }\n",
              "\n",
              "  .colab-df-quickchart:hover {\n",
              "    background-color: #E2EBFA;\n",
              "    box-shadow: 0px 1px 2px rgba(60, 64, 67, 0.3), 0px 1px 3px 1px rgba(60, 64, 67, 0.15);\n",
              "    fill: #174EA6;\n",
              "  }\n",
              "\n",
              "  [theme=dark] .colab-df-quickchart {\n",
              "    background-color: #3B4455;\n",
              "    fill: #D2E3FC;\n",
              "  }\n",
              "\n",
              "  [theme=dark] .colab-df-quickchart:hover {\n",
              "    background-color: #434B5C;\n",
              "    box-shadow: 0px 1px 3px 1px rgba(0, 0, 0, 0.15);\n",
              "    filter: drop-shadow(0px 1px 2px rgba(0, 0, 0, 0.3));\n",
              "    fill: #FFFFFF;\n",
              "  }\n",
              "</style>\n",
              "\n",
              "  <script>\n",
              "    async function quickchart(key) {\n",
              "      const charts = await google.colab.kernel.invokeFunction(\n",
              "          'suggestCharts', [key], {});\n",
              "    }\n",
              "    (() => {\n",
              "      let quickchartButtonEl =\n",
              "        document.querySelector('#df-e899fd1e-76c1-41f5-8525-c901b95c9c09 button');\n",
              "      quickchartButtonEl.style.display =\n",
              "        google.colab.kernel.accessAllowed ? 'block' : 'none';\n",
              "    })();\n",
              "  </script>\n",
              "</div>\n",
              "    </div>\n",
              "  </div>\n"
            ]
          },
          "metadata": {},
          "execution_count": 51
        }
      ]
    },
    {
      "cell_type": "markdown",
      "source": [
        "# **StationJ**"
      ],
      "metadata": {
        "id": "Da3SRkmOhr29"
      }
    },
    {
      "cell_type": "markdown",
      "source": [
        "##### C 모델로 예측"
      ],
      "metadata": {
        "id": "fJG4pR9Ghr2-"
      }
    },
    {
      "cell_type": "code",
      "source": [
        "Q1_J['datetime'] = pd.to_datetime(Q1_J['datetime'])\n",
        "J_df = Q1_J.set_index('datetime')\n",
        "J_df = J_df.iloc[:, 1:]\n",
        "\n",
        "# StationJ에 uenomax 추가(값 다 0으로)\n",
        "J_df['uenomax'] = 0"
      ],
      "metadata": {
        "colab": {
          "base_uri": "https://localhost:8080/"
        },
        "outputId": "09c82397-f681-4554-8214-95620a7cc4f8",
        "id": "Vl4EycIChr2-"
      },
      "execution_count": 52,
      "outputs": [
        {
          "output_type": "stream",
          "name": "stderr",
          "text": [
            "<ipython-input-52-1c5b0498560a>:1: SettingWithCopyWarning: \n",
            "A value is trying to be set on a copy of a slice from a DataFrame.\n",
            "Try using .loc[row_indexer,col_indexer] = value instead\n",
            "\n",
            "See the caveats in the documentation: https://pandas.pydata.org/pandas-docs/stable/user_guide/indexing.html#returning-a-view-versus-a-copy\n",
            "  Q1_J['datetime'] = pd.to_datetime(Q1_J['datetime'])\n"
          ]
        }
      ]
    },
    {
      "cell_type": "code",
      "source": [
        "# scaling\n",
        "J_scale = J_df.copy()\n",
        "J_X = J_scale.iloc[:, :-1]\n",
        "J_y = J_scale.iloc[:, -1:]\n",
        "\n",
        "J_X = C_scale_x.transform(J_df.iloc[:, :-1])\n",
        "J_y = C_scale_y.transform(J_df.iloc[:, -1:])"
      ],
      "metadata": {
        "id": "JPMZE8GDhr2_"
      },
      "execution_count": 53,
      "outputs": []
    },
    {
      "cell_type": "code",
      "source": [
        "J_scale.shape"
      ],
      "metadata": {
        "colab": {
          "base_uri": "https://localhost:8080/"
        },
        "outputId": "edf9d573-47b0-4a66-b5ad-bf736418e186",
        "id": "DoH7xhmUhr2_"
      },
      "execution_count": 55,
      "outputs": [
        {
          "output_type": "execute_result",
          "data": {
            "text/plain": [
              "(17181, 34)"
            ]
          },
          "metadata": {},
          "execution_count": 55
        }
      ]
    },
    {
      "cell_type": "code",
      "source": [
        "# 텐서로 변환\n",
        "testX_tensor = Variable(torch.Tensor(J_X))\n",
        "testY_tensor = Variable(torch.Tensor(J_y))\n",
        "\n",
        "X_test_tensors_f = torch.reshape(testX_tensor, (testX_tensor.shape[0], 1, testX_tensor.shape[1]))\n"
      ],
      "metadata": {
        "id": "wysDV4eOhr2_"
      },
      "execution_count": 54,
      "outputs": []
    },
    {
      "cell_type": "code",
      "source": [
        "# 예측값 출력\n",
        "with torch.no_grad(): # gradient 계산 수행 x -> 메모리 사용안하도록\n",
        "\n",
        "    train_predict = model_C(X_test_tensors_f)\n",
        "    predicted = train_predict.data.numpy()\n",
        "\n",
        "    # [INVERSE] 모델이 예측한 값을 다시 스케일 역변환하여 원래 스케일로 되돌림\n",
        "    pred_C_inverse = C_scale_y.inverse_transform(predicted)"
      ],
      "metadata": {
        "id": "sAL4KrR9hr3A"
      },
      "execution_count": 56,
      "outputs": []
    },
    {
      "cell_type": "code",
      "source": [
        "print(pred_C_inverse.shape)\n",
        "pred_C_inverse"
      ],
      "metadata": {
        "colab": {
          "base_uri": "https://localhost:8080/"
        },
        "outputId": "dd7fb4db-1723-42c3-bb28-069de253a2c1",
        "id": "F_dBpEs4hr3A"
      },
      "execution_count": 57,
      "outputs": [
        {
          "output_type": "stream",
          "name": "stdout",
          "text": [
            "(17181, 1)\n"
          ]
        },
        {
          "output_type": "execute_result",
          "data": {
            "text/plain": [
              "array([[1.2029295],\n",
              "       [1.293911 ],\n",
              "       [0.9651067],\n",
              "       ...,\n",
              "       [1.869666 ],\n",
              "       [1.7749969],\n",
              "       [1.7805376]], dtype=float32)"
            ]
          },
          "metadata": {},
          "execution_count": 57
        }
      ]
    },
    {
      "cell_type": "markdown",
      "source": [
        "# D 모델로 예측"
      ],
      "metadata": {
        "id": "yHS8Ov7uhr3A"
      }
    },
    {
      "cell_type": "code",
      "source": [
        "Q1_J['datetime'] = pd.to_datetime(Q1_J['datetime'])\n",
        "J_df = Q1_J.set_index('datetime')\n",
        "J_df = J_df.iloc[:, 1:]\n",
        "\n",
        "# StationB에 uenomax 추가(값 다 0으로)\n",
        "J_df['uenomax'] = 0"
      ],
      "metadata": {
        "colab": {
          "base_uri": "https://localhost:8080/"
        },
        "outputId": "35720ecd-4cfd-4846-e4a4-bec01c29ab65",
        "id": "JKwC9Fn6hr3B"
      },
      "execution_count": 58,
      "outputs": [
        {
          "output_type": "stream",
          "name": "stderr",
          "text": [
            "<ipython-input-58-9317347b77a1>:1: SettingWithCopyWarning: \n",
            "A value is trying to be set on a copy of a slice from a DataFrame.\n",
            "Try using .loc[row_indexer,col_indexer] = value instead\n",
            "\n",
            "See the caveats in the documentation: https://pandas.pydata.org/pandas-docs/stable/user_guide/indexing.html#returning-a-view-versus-a-copy\n",
            "  Q1_J['datetime'] = pd.to_datetime(Q1_J['datetime'])\n"
          ]
        }
      ]
    },
    {
      "cell_type": "code",
      "source": [
        "# scaling\n",
        "J_scale = J_df.copy()\n",
        "J_X = J_scale.iloc[:, :-1]\n",
        "J_y = J_scale.iloc[:, -1:]\n",
        "\n",
        "J_X = D_scale_x.transform(J_df.iloc[:, :-1])\n",
        "J_y = D_scale_y.transform(J_df.iloc[:, -1:])"
      ],
      "metadata": {
        "id": "kECtwjWWhr3B"
      },
      "execution_count": 59,
      "outputs": []
    },
    {
      "cell_type": "code",
      "source": [
        "# 텐서로 변환\n",
        "testX_tensor = Variable(torch.Tensor(J_X))\n",
        "testY_tensor = Variable(torch.Tensor(J_y))\n",
        "\n",
        "X_test_tensors_f = torch.reshape(testX_tensor, (testX_tensor.shape[0], 1, testX_tensor.shape[1]))\n"
      ],
      "metadata": {
        "id": "Yhu0vVwzhr3B"
      },
      "execution_count": 60,
      "outputs": []
    },
    {
      "cell_type": "code",
      "source": [
        "# 예측값 출력\n",
        "with torch.no_grad(): # gradient 계산 수행 x -> 메모리 사용안하도록\n",
        "\n",
        "    train_predict = model_D(X_test_tensors_f)\n",
        "    predicted = train_predict.data.numpy()\n",
        "\n",
        "    # [INVERSE] 모델이 예측한 값을 다시 스케일 역변환하여 원래 스케일로 되돌림\n",
        "    pred_D_inverse = D_scale_y.inverse_transform(predicted)"
      ],
      "metadata": {
        "id": "odK8xP9lhr3C"
      },
      "execution_count": 61,
      "outputs": []
    },
    {
      "cell_type": "code",
      "source": [
        "print(pred_D_inverse.shape)\n",
        "pred_D_inverse"
      ],
      "metadata": {
        "colab": {
          "base_uri": "https://localhost:8080/"
        },
        "outputId": "23eb64c1-3657-4f71-e938-f9a28b94226f",
        "id": "I8fUU8Ljhr3C"
      },
      "execution_count": 62,
      "outputs": [
        {
          "output_type": "stream",
          "name": "stdout",
          "text": [
            "(17181, 1)\n"
          ]
        },
        {
          "output_type": "execute_result",
          "data": {
            "text/plain": [
              "array([[1.0076978],\n",
              "       [2.013258 ],\n",
              "       [1.0133774],\n",
              "       ...,\n",
              "       [1.9575555],\n",
              "       [1.0465748],\n",
              "       [1.1692082]], dtype=float32)"
            ]
          },
          "metadata": {},
          "execution_count": 62
        }
      ]
    },
    {
      "cell_type": "code",
      "source": [
        "label_sample['BaseStationJ'] = (pred_C_inverse + pred_D_inverse) / 2\n",
        "label_sample.head()"
      ],
      "metadata": {
        "colab": {
          "base_uri": "https://localhost:8080/",
          "height": 206
        },
        "outputId": "4f4106eb-9514-410d-e819-f6e80f320a12",
        "id": "XOas0iCthr3C"
      },
      "execution_count": 63,
      "outputs": [
        {
          "output_type": "execute_result",
          "data": {
            "text/plain": [
              "              datetime  BaseStationB  BaseStationJ\n",
              "0  2023-05-19 00:00:00      0.842910      1.105314\n",
              "1  2023-05-19 00:05:00      2.167376      1.653584\n",
              "2  2023-05-19 00:10:00      2.249155      0.989242\n",
              "3  2023-05-19 00:15:00      1.663399      1.062795\n",
              "4  2023-05-19 00:20:00      1.713573      1.826275"
            ],
            "text/html": [
              "\n",
              "  <div id=\"df-fd9a43e1-bc01-4b41-83c8-d51b46e75c4a\" class=\"colab-df-container\">\n",
              "    <div>\n",
              "<style scoped>\n",
              "    .dataframe tbody tr th:only-of-type {\n",
              "        vertical-align: middle;\n",
              "    }\n",
              "\n",
              "    .dataframe tbody tr th {\n",
              "        vertical-align: top;\n",
              "    }\n",
              "\n",
              "    .dataframe thead th {\n",
              "        text-align: right;\n",
              "    }\n",
              "</style>\n",
              "<table border=\"1\" class=\"dataframe\">\n",
              "  <thead>\n",
              "    <tr style=\"text-align: right;\">\n",
              "      <th></th>\n",
              "      <th>datetime</th>\n",
              "      <th>BaseStationB</th>\n",
              "      <th>BaseStationJ</th>\n",
              "    </tr>\n",
              "  </thead>\n",
              "  <tbody>\n",
              "    <tr>\n",
              "      <th>0</th>\n",
              "      <td>2023-05-19 00:00:00</td>\n",
              "      <td>0.842910</td>\n",
              "      <td>1.105314</td>\n",
              "    </tr>\n",
              "    <tr>\n",
              "      <th>1</th>\n",
              "      <td>2023-05-19 00:05:00</td>\n",
              "      <td>2.167376</td>\n",
              "      <td>1.653584</td>\n",
              "    </tr>\n",
              "    <tr>\n",
              "      <th>2</th>\n",
              "      <td>2023-05-19 00:10:00</td>\n",
              "      <td>2.249155</td>\n",
              "      <td>0.989242</td>\n",
              "    </tr>\n",
              "    <tr>\n",
              "      <th>3</th>\n",
              "      <td>2023-05-19 00:15:00</td>\n",
              "      <td>1.663399</td>\n",
              "      <td>1.062795</td>\n",
              "    </tr>\n",
              "    <tr>\n",
              "      <th>4</th>\n",
              "      <td>2023-05-19 00:20:00</td>\n",
              "      <td>1.713573</td>\n",
              "      <td>1.826275</td>\n",
              "    </tr>\n",
              "  </tbody>\n",
              "</table>\n",
              "</div>\n",
              "    <div class=\"colab-df-buttons\">\n",
              "\n",
              "  <div class=\"colab-df-container\">\n",
              "    <button class=\"colab-df-convert\" onclick=\"convertToInteractive('df-fd9a43e1-bc01-4b41-83c8-d51b46e75c4a')\"\n",
              "            title=\"Convert this dataframe to an interactive table.\"\n",
              "            style=\"display:none;\">\n",
              "\n",
              "  <svg xmlns=\"http://www.w3.org/2000/svg\" height=\"24px\" viewBox=\"0 -960 960 960\">\n",
              "    <path d=\"M120-120v-720h720v720H120Zm60-500h600v-160H180v160Zm220 220h160v-160H400v160Zm0 220h160v-160H400v160ZM180-400h160v-160H180v160Zm440 0h160v-160H620v160ZM180-180h160v-160H180v160Zm440 0h160v-160H620v160Z\"/>\n",
              "  </svg>\n",
              "    </button>\n",
              "\n",
              "  <style>\n",
              "    .colab-df-container {\n",
              "      display:flex;\n",
              "      gap: 12px;\n",
              "    }\n",
              "\n",
              "    .colab-df-convert {\n",
              "      background-color: #E8F0FE;\n",
              "      border: none;\n",
              "      border-radius: 50%;\n",
              "      cursor: pointer;\n",
              "      display: none;\n",
              "      fill: #1967D2;\n",
              "      height: 32px;\n",
              "      padding: 0 0 0 0;\n",
              "      width: 32px;\n",
              "    }\n",
              "\n",
              "    .colab-df-convert:hover {\n",
              "      background-color: #E2EBFA;\n",
              "      box-shadow: 0px 1px 2px rgba(60, 64, 67, 0.3), 0px 1px 3px 1px rgba(60, 64, 67, 0.15);\n",
              "      fill: #174EA6;\n",
              "    }\n",
              "\n",
              "    .colab-df-buttons div {\n",
              "      margin-bottom: 4px;\n",
              "    }\n",
              "\n",
              "    [theme=dark] .colab-df-convert {\n",
              "      background-color: #3B4455;\n",
              "      fill: #D2E3FC;\n",
              "    }\n",
              "\n",
              "    [theme=dark] .colab-df-convert:hover {\n",
              "      background-color: #434B5C;\n",
              "      box-shadow: 0px 1px 3px 1px rgba(0, 0, 0, 0.15);\n",
              "      filter: drop-shadow(0px 1px 2px rgba(0, 0, 0, 0.3));\n",
              "      fill: #FFFFFF;\n",
              "    }\n",
              "  </style>\n",
              "\n",
              "    <script>\n",
              "      const buttonEl =\n",
              "        document.querySelector('#df-fd9a43e1-bc01-4b41-83c8-d51b46e75c4a button.colab-df-convert');\n",
              "      buttonEl.style.display =\n",
              "        google.colab.kernel.accessAllowed ? 'block' : 'none';\n",
              "\n",
              "      async function convertToInteractive(key) {\n",
              "        const element = document.querySelector('#df-fd9a43e1-bc01-4b41-83c8-d51b46e75c4a');\n",
              "        const dataTable =\n",
              "          await google.colab.kernel.invokeFunction('convertToInteractive',\n",
              "                                                    [key], {});\n",
              "        if (!dataTable) return;\n",
              "\n",
              "        const docLinkHtml = 'Like what you see? Visit the ' +\n",
              "          '<a target=\"_blank\" href=https://colab.research.google.com/notebooks/data_table.ipynb>data table notebook</a>'\n",
              "          + ' to learn more about interactive tables.';\n",
              "        element.innerHTML = '';\n",
              "        dataTable['output_type'] = 'display_data';\n",
              "        await google.colab.output.renderOutput(dataTable, element);\n",
              "        const docLink = document.createElement('div');\n",
              "        docLink.innerHTML = docLinkHtml;\n",
              "        element.appendChild(docLink);\n",
              "      }\n",
              "    </script>\n",
              "  </div>\n",
              "\n",
              "\n",
              "<div id=\"df-c108164b-3525-4457-9833-50a5ef548ce6\">\n",
              "  <button class=\"colab-df-quickchart\" onclick=\"quickchart('df-c108164b-3525-4457-9833-50a5ef548ce6')\"\n",
              "            title=\"Suggest charts.\"\n",
              "            style=\"display:none;\">\n",
              "\n",
              "<svg xmlns=\"http://www.w3.org/2000/svg\" height=\"24px\"viewBox=\"0 0 24 24\"\n",
              "     width=\"24px\">\n",
              "    <g>\n",
              "        <path d=\"M19 3H5c-1.1 0-2 .9-2 2v14c0 1.1.9 2 2 2h14c1.1 0 2-.9 2-2V5c0-1.1-.9-2-2-2zM9 17H7v-7h2v7zm4 0h-2V7h2v10zm4 0h-2v-4h2v4z\"/>\n",
              "    </g>\n",
              "</svg>\n",
              "  </button>\n",
              "\n",
              "<style>\n",
              "  .colab-df-quickchart {\n",
              "    background-color: #E8F0FE;\n",
              "    border: none;\n",
              "    border-radius: 50%;\n",
              "    cursor: pointer;\n",
              "    display: none;\n",
              "    fill: #1967D2;\n",
              "    height: 32px;\n",
              "    padding: 0 0 0 0;\n",
              "    width: 32px;\n",
              "  }\n",
              "\n",
              "  .colab-df-quickchart:hover {\n",
              "    background-color: #E2EBFA;\n",
              "    box-shadow: 0px 1px 2px rgba(60, 64, 67, 0.3), 0px 1px 3px 1px rgba(60, 64, 67, 0.15);\n",
              "    fill: #174EA6;\n",
              "  }\n",
              "\n",
              "  [theme=dark] .colab-df-quickchart {\n",
              "    background-color: #3B4455;\n",
              "    fill: #D2E3FC;\n",
              "  }\n",
              "\n",
              "  [theme=dark] .colab-df-quickchart:hover {\n",
              "    background-color: #434B5C;\n",
              "    box-shadow: 0px 1px 3px 1px rgba(0, 0, 0, 0.15);\n",
              "    filter: drop-shadow(0px 1px 2px rgba(0, 0, 0, 0.3));\n",
              "    fill: #FFFFFF;\n",
              "  }\n",
              "</style>\n",
              "\n",
              "  <script>\n",
              "    async function quickchart(key) {\n",
              "      const charts = await google.colab.kernel.invokeFunction(\n",
              "          'suggestCharts', [key], {});\n",
              "    }\n",
              "    (() => {\n",
              "      let quickchartButtonEl =\n",
              "        document.querySelector('#df-c108164b-3525-4457-9833-50a5ef548ce6 button');\n",
              "      quickchartButtonEl.style.display =\n",
              "        google.colab.kernel.accessAllowed ? 'block' : 'none';\n",
              "    })();\n",
              "  </script>\n",
              "</div>\n",
              "    </div>\n",
              "  </div>\n"
            ]
          },
          "metadata": {},
          "execution_count": 63
        }
      ]
    },
    {
      "cell_type": "code",
      "source": [
        "label_sample.to_csv('submission.csv', index = False)"
      ],
      "metadata": {
        "id": "XsYlU2tdhrZB"
      },
      "execution_count": 65,
      "outputs": []
    }
  ]
}