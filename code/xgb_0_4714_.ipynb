{
  "nbformat": 4,
  "nbformat_minor": 0,
  "metadata": {
    "colab": {
      "provenance": [],
      "gpuType": "T4"
    },
    "kernelspec": {
      "name": "python3",
      "display_name": "Python 3"
    },
    "language_info": {
      "name": "python"
    },
    "accelerator": "GPU"
  },
  "cells": [
    {
      "cell_type": "code",
      "execution_count": null,
      "metadata": {
        "id": "evd0lcBaCWmJ"
      },
      "outputs": [],
      "source": []
    },
    {
      "cell_type": "code",
      "execution_count": 1,
      "metadata": {
        "colab": {
          "base_uri": "https://localhost:8080/"
        },
        "id": "4OaFfJsOvaEG",
        "outputId": "99598077-bae2-447a-cfd5-908560e741c6"
      },
      "outputs": [
        {
          "output_type": "stream",
          "name": "stdout",
          "text": [
            "Mounted at /content/drive\n"
          ]
        }
      ],
      "source": [
        "from google.colab import drive\n",
        "drive.mount('/content/drive')"
      ]
    },
    {
      "cell_type": "code",
      "source": [
        "%cd /content/drive/MyDrive/KT_ETRI"
      ],
      "metadata": {
        "colab": {
          "base_uri": "https://localhost:8080/"
        },
        "id": "HmPCKy-vvjIV",
        "outputId": "3a244a1f-af73-40f1-9df1-6a20eb18d65e"
      },
      "execution_count": 2,
      "outputs": [
        {
          "output_type": "stream",
          "name": "stdout",
          "text": [
            "/content/drive/MyDrive/KT_ETRI\n"
          ]
        }
      ]
    },
    {
      "cell_type": "code",
      "source": [
        "import pandas as pd\n",
        "import numpy as np\n",
        "import matplotlib.pyplot as plt\n",
        "import seaborn as sns\n",
        "\n",
        "from sklearn.preprocessing import StandardScaler\n",
        "from sklearn.model_selection import train_test_split\n",
        "from sklearn.model_selection import GridSearchCV\n",
        "from sklearn.metrics import mean_absolute_error\n",
        "\n",
        "import xgboost as xgb\n",
        "from xgboost import XGBRegressor"
      ],
      "metadata": {
        "id": "eLuXYh4_-XqY"
      },
      "execution_count": 3,
      "outputs": []
    },
    {
      "cell_type": "code",
      "source": [
        "pip install optuna"
      ],
      "metadata": {
        "colab": {
          "base_uri": "https://localhost:8080/"
        },
        "id": "jwEY6yEcwlKv",
        "outputId": "e22154de-55b9-4cce-8d99-55bba2a07318"
      },
      "execution_count": 4,
      "outputs": [
        {
          "output_type": "stream",
          "name": "stdout",
          "text": [
            "Collecting optuna\n",
            "  Downloading optuna-3.3.0-py3-none-any.whl (404 kB)\n",
            "\u001b[2K     \u001b[90m━━━━━━━━━━━━━━━━━━━━━━━━━━━━━━━━━━━━━━━\u001b[0m \u001b[32m404.2/404.2 kB\u001b[0m \u001b[31m5.4 MB/s\u001b[0m eta \u001b[36m0:00:00\u001b[0m\n",
            "\u001b[?25hCollecting alembic>=1.5.0 (from optuna)\n",
            "  Downloading alembic-1.11.3-py3-none-any.whl (225 kB)\n",
            "\u001b[2K     \u001b[90m━━━━━━━━━━━━━━━━━━━━━━━━━━━━━━━━━━━━━━\u001b[0m \u001b[32m225.4/225.4 kB\u001b[0m \u001b[31m21.4 MB/s\u001b[0m eta \u001b[36m0:00:00\u001b[0m\n",
            "\u001b[?25hCollecting cmaes>=0.10.0 (from optuna)\n",
            "  Downloading cmaes-0.10.0-py3-none-any.whl (29 kB)\n",
            "Collecting colorlog (from optuna)\n",
            "  Downloading colorlog-6.7.0-py2.py3-none-any.whl (11 kB)\n",
            "Requirement already satisfied: numpy in /usr/local/lib/python3.10/dist-packages (from optuna) (1.23.5)\n",
            "Requirement already satisfied: packaging>=20.0 in /usr/local/lib/python3.10/dist-packages (from optuna) (23.1)\n",
            "Requirement already satisfied: sqlalchemy>=1.3.0 in /usr/local/lib/python3.10/dist-packages (from optuna) (2.0.20)\n",
            "Requirement already satisfied: tqdm in /usr/local/lib/python3.10/dist-packages (from optuna) (4.66.1)\n",
            "Requirement already satisfied: PyYAML in /usr/local/lib/python3.10/dist-packages (from optuna) (6.0.1)\n",
            "Collecting Mako (from alembic>=1.5.0->optuna)\n",
            "  Downloading Mako-1.2.4-py3-none-any.whl (78 kB)\n",
            "\u001b[2K     \u001b[90m━━━━━━━━━━━━━━━━━━━━━━━━━━━━━━━━━━━━━━━━\u001b[0m \u001b[32m78.7/78.7 kB\u001b[0m \u001b[31m10.5 MB/s\u001b[0m eta \u001b[36m0:00:00\u001b[0m\n",
            "\u001b[?25hRequirement already satisfied: typing-extensions>=4 in /usr/local/lib/python3.10/dist-packages (from alembic>=1.5.0->optuna) (4.7.1)\n",
            "Requirement already satisfied: greenlet!=0.4.17 in /usr/local/lib/python3.10/dist-packages (from sqlalchemy>=1.3.0->optuna) (2.0.2)\n",
            "Requirement already satisfied: MarkupSafe>=0.9.2 in /usr/local/lib/python3.10/dist-packages (from Mako->alembic>=1.5.0->optuna) (2.1.3)\n",
            "Installing collected packages: Mako, colorlog, cmaes, alembic, optuna\n",
            "Successfully installed Mako-1.2.4 alembic-1.11.3 cmaes-0.10.0 colorlog-6.7.0 optuna-3.3.0\n"
          ]
        }
      ]
    },
    {
      "cell_type": "code",
      "source": [
        "import optuna\n",
        "from optuna import Trial, visualization\n",
        "from optuna.samplers import TPESampler"
      ],
      "metadata": {
        "id": "NKqgYDWmwjdm"
      },
      "execution_count": 5,
      "outputs": []
    },
    {
      "cell_type": "code",
      "source": [
        "import warnings\n",
        "warnings.filterwarnings('ignore')"
      ],
      "metadata": {
        "id": "iotNKFa_-dj4"
      },
      "execution_count": 6,
      "outputs": []
    },
    {
      "cell_type": "markdown",
      "source": [
        "### 전처리 마친 데이터 불러오기\n"
      ],
      "metadata": {
        "id": "98BgIJTE7jYc"
      }
    },
    {
      "cell_type": "code",
      "source": [
        "train_df = pd.read_csv('Q1_train_pre.csv')\n",
        "test_df = pd.read_csv('Q1_test_pre.csv')\n",
        "test_df.head()"
      ],
      "metadata": {
        "id": "mM78knS79V5G"
      },
      "execution_count": null,
      "outputs": []
    },
    {
      "cell_type": "code",
      "source": [
        "date = pd.to_datetime(train_df.datetime)\n",
        "train_df['hour'] = date.dt.hour\n",
        "train_df['day'] = date.dt.weekday\n",
        "#train_df['month'] = date.dt.month\n",
        "#train_df['week'] = date.dt.weekofyear\n",
        "\n",
        "date2 = pd.to_datetime(test_df.datetime)\n",
        "test_df['hour'] = date2.dt.hour\n",
        "test_df['day'] = date2.dt.weekday\n",
        "#test_df['month'] = date2.dt.month\n",
        "#test_df['week'] = date.dt.weekofyear\n",
        "\n",
        "# hoilday: 주말 및 공휴일 여부 (공휴일이면 1, 아니면 0)\n",
        "\n",
        "## 주말\n",
        "train_df['holiday'] = train_df['day'].apply(lambda x: 1 if x >= 5 else 0)\n",
        "test_df['holiday'] = test_df['day'].apply(lambda x: 1 if x >= 5 else 0)\n",
        "\n",
        "## 공휴일(5/29, 6,6)\n",
        "train_df[('2023-05-29' <= train_df.datetime) & (train_df.datetime < '2023-05-30')]['holiday'] = 1\n",
        "train_df[('2023-06-06' <= train_df.datetime) & (train_df.datetime < '2023-06-07')]['holiday'] = 1\n",
        "test_df[('2023-05-29' <= test_df.datetime) & (test_df.datetime < '2023-05-30')]['holiday'] = 1\n",
        "test_df[('2023-06-06' <= test_df.datetime) & (test_df.datetime < '2023-06-07')]['holiday'] = 1\n",
        "\n",
        "## 시간순환성 위함 (23시 -> 0시)\n",
        "train_df['cos_time'] = np.cos(2*np.pi*(train_df.hour/24))\n",
        "train_df['sin_time'] = np.sin(2*np.pi*(train_df.hour/24))\n",
        "\n",
        "test_df['cos_time'] = np.cos(2*np.pi*(test_df.hour/24))\n",
        "test_df['sin_time'] = np.sin(2*np.pi*(test_df.hour/24))\n",
        "\n",
        "uenomax_hour_mean = pd.pivot_table(train_df, values = 'uenomax', index = ['hour'], aggfunc = np.mean).reset_index()\n",
        "from tqdm import tqdm\n",
        "tqdm.pandas()\n",
        "train_df['hour_mean'] = train_df.progress_apply(lambda x : uenomax_hour_mean.loc[(uenomax_hour_mean.hour == x['hour']) ,'uenomax'].values[0], axis = 1)\n",
        "test_df['hour_mean'] = test_df.progress_apply(lambda x : uenomax_hour_mean.loc[(uenomax_hour_mean.hour == x['hour']) ,'uenomax'].values[0], axis = 1)\n",
        "\n",
        "\n",
        "train_df['hour_mean'].head()"
      ],
      "metadata": {
        "id": "l7fzyQrt09fF"
      },
      "execution_count": null,
      "outputs": []
    },
    {
      "cell_type": "code",
      "source": [
        "## 기존 hour, day 변수 드롭\n",
        "train_df.drop(['hour'], axis = 1, inplace = True)\n",
        "train_df.drop(['day'], axis = 1, inplace = True)\n",
        "test_df.drop(['hour'], axis = 1, inplace = True)\n",
        "test_df.drop(['day'], axis = 1, inplace = True)"
      ],
      "metadata": {
        "id": "5O3XIu3Amd4m"
      },
      "execution_count": null,
      "outputs": []
    },
    {
      "cell_type": "code",
      "source": [
        "power_hour_mean = pd.pivot_table(train, values = 'power', index = ['num', 'hour'], aggfunc = np.mean).reset_index()\n",
        "tqdm.pandas()\n",
        "train['hour_mean'] = train.progress_apply(lambda x : power_hour_mean.loc[(power_hour_mean.num == x['num']) & (power_hour_mean.hour == x['hour']) ,'power'].values[0], axis = 1)\n",
        "\n",
        "#######################################\n",
        "## 건물별 시간별 발전량 표준편차 넣어주기\n",
        "#######################################\n",
        "power_hour_std = pd.pivot_table(train, values = 'power', index = ['num', 'hour'], aggfunc = np.std).reset_index()\n",
        "tqdm.pandas()\n",
        "train['hour_std'] = train.progress_apply(lambda x : power_hour_std.loc[(power_hour_std.num == x['num']) & (power_hour_std.hour == x['hour']) ,'power'].values[0], axis = 1)"
      ],
      "metadata": {
        "id": "XHfHynDgmFzQ"
      },
      "execution_count": null,
      "outputs": []
    },
    {
      "cell_type": "code",
      "source": [
        "columns = list(train_df.columns)\n",
        "indx = train_df.columns.get_loc('uenomax')\n",
        "columns.append(columns.pop(indx))  # Move the 5th column to the end\n",
        "train_df = train_df[columns]\n",
        "train_df.info()"
      ],
      "metadata": {
        "id": "eMa6ZqWLt6mv"
      },
      "execution_count": null,
      "outputs": []
    },
    {
      "cell_type": "code",
      "source": [
        "indx"
      ],
      "metadata": {
        "colab": {
          "base_uri": "https://localhost:8080/"
        },
        "id": "eEzEdhoQuukn",
        "outputId": "4bd92fd5-eb84-44b3-92dd-de60405f09fd"
      },
      "execution_count": 20,
      "outputs": [
        {
          "output_type": "execute_result",
          "data": {
            "text/plain": [
              "35"
            ]
          },
          "metadata": {},
          "execution_count": 20
        }
      ]
    },
    {
      "cell_type": "code",
      "source": [
        "h0 = train_df[train_df['holiday'] == 0]['uenomax']\n",
        "h1 = train_df[train_df['holiday'] == 1]['uenomax']\n",
        "h0.hist()"
      ],
      "metadata": {
        "colab": {
          "base_uri": "https://localhost:8080/",
          "height": 448
        },
        "id": "49rHECTDx_px",
        "outputId": "34ae814a-d51a-4bdd-aaac-f92f40294c2a"
      },
      "execution_count": null,
      "outputs": [
        {
          "output_type": "execute_result",
          "data": {
            "text/plain": [
              "<Axes: >"
            ]
          },
          "metadata": {},
          "execution_count": 64
        },
        {
          "output_type": "display_data",
          "data": {
            "text/plain": [
              "<Figure size 640x480 with 1 Axes>"
            ],
            "image/png": "[encoded data removed]"
          },
          "metadata": {}
        }
      ]
    },
    {
      "cell_type": "code",
      "source": [
        "h1.hist()"
      ],
      "metadata": {
        "colab": {
          "base_uri": "https://localhost:8080/",
          "height": 450
        },
        "id": "wO_EMVLNT81Z",
        "outputId": "64db9b07-f9fc-48c4-9dc8-bf79e53e934d"
      },
      "execution_count": null,
      "outputs": [
        {
          "output_type": "execute_result",
          "data": {
            "text/plain": [
              "<Axes: >"
            ]
          },
          "metadata": {},
          "execution_count": 65
        },
        {
          "output_type": "display_data",
          "data": {
            "text/plain": [
              "<Figure size 640x480 with 1 Axes>"
            ],
            "image/png": "[encoded data removed]"
          },
          "metadata": {}
        }
      ]
    },
    {
      "cell_type": "markdown",
      "source": [
        "# 모델링"
      ],
      "metadata": {
        "id": "3bgEiHj1DZ5S"
      }
    },
    {
      "cell_type": "code",
      "source": [
        "X, y = train_df.iloc[:, 2:-1], train_df.iloc[:, [-1]]\n",
        "\n",
        "# train : valid = 7 : 3 분할\n",
        "X_train, X_valid, y_train, y_valid = train_test_split(X, y, test_size = 0.3, shuffle = False, random_state = 30)\n",
        "print(X_train.shape, X_valid.shape)"
      ],
      "metadata": {
        "colab": {
          "base_uri": "https://localhost:8080/"
        },
        "id": "p1aMnhmmDIPW",
        "outputId": "9f165218-9018-4246-c9a2-c4a1e14a3cf1"
      },
      "execution_count": 14,
      "outputs": [
        {
          "output_type": "stream",
          "name": "stdout",
          "text": [
            "(96213, 36) (41235, 36)\n"
          ]
        }
      ]
    },
    {
      "cell_type": "code",
      "source": [
        "X_train.head()"
      ],
      "metadata": {
        "colab": {
          "base_uri": "https://localhost:8080/",
          "height": 255
        },
        "id": "TsXMeU02bhIK",
        "outputId": "1b696d4d-4501-459e-94f6-a97045e247cd"
      },
      "execution_count": 21,
      "outputs": [
        {
          "output_type": "execute_result",
          "data": {
            "text/plain": [
              "   scgfailratio  erabaddatt  erabaddratio  endcaddatt  endcaddratio  \\\n",
              "0           0.0           9         100.0           5         100.0   \n",
              "1           8.3          12         100.0           9         100.0   \n",
              "2           0.0           9         100.0           8         100.0   \n",
              "3           0.0          11         100.0          10         100.0   \n",
              "4           0.0           9         100.0           8         100.0   \n",
              "\n",
              "   endcmodbymenbatt  endcmodbymenbratio  endcmodbysgnbatt  endcmodbysgnbratio  \\\n",
              "0                 2               100.0                 7               100.0   \n",
              "1                 0                 0.0                15               100.0   \n",
              "2                 4               100.0                11               100.0   \n",
              "3                 0                 0.0                 8               100.0   \n",
              "4                 0                 0.0                 9               100.0   \n",
              "\n",
              "   connestabatt  ...  bler_dl  rachpreamblea  nummsg3  attpaging  rssipathavg  \\\n",
              "0             1  ...      6.4           17.0     11.0     2083.0        -92.8   \n",
              "1             1  ...      2.4           19.0     15.0     1936.0        -92.8   \n",
              "2            10  ...      9.9           28.0     23.0     1874.0        -92.7   \n",
              "3             2  ...      5.0           16.0     14.0     1815.0        -92.6   \n",
              "4             0  ...      0.6           14.0     10.0     1784.0        -92.8   \n",
              "\n",
              "   dlreceivedcqiavg  endcrelbymenb  holiday  cos_time  sin_time  \n",
              "0              11.2              3        0       1.0       0.0  \n",
              "1              10.7             11        0       1.0       0.0  \n",
              "2              10.7              5        0       1.0       0.0  \n",
              "3               9.4              8        0       1.0       0.0  \n",
              "4               9.6              8        0       1.0       0.0  \n",
              "\n",
              "[5 rows x 36 columns]"
            ],
            "text/html": [
              "\n",
              "  <div id=\"df-69fbf1e0-efc0-4960-8522-358b82aacc39\" class=\"colab-df-container\">\n",
              "    <div>\n",
              "<style scoped>\n",
              "    .dataframe tbody tr th:only-of-type {\n",
              "        vertical-align: middle;\n",
              "    }\n",
              "\n",
              "    .dataframe tbody tr th {\n",
              "        vertical-align: top;\n",
              "    }\n",
              "\n",
              "    .dataframe thead th {\n",
              "        text-align: right;\n",
              "    }\n",
              "</style>\n",
              "<table border=\"1\" class=\"dataframe\">\n",
              "  <thead>\n",
              "    <tr style=\"text-align: right;\">\n",
              "      <th></th>\n",
              "      <th>scgfailratio</th>\n",
              "      <th>erabaddatt</th>\n",
              "      <th>erabaddratio</th>\n",
              "      <th>endcaddatt</th>\n",
              "      <th>endcaddratio</th>\n",
              "      <th>endcmodbymenbatt</th>\n",
              "      <th>endcmodbymenbratio</th>\n",
              "      <th>endcmodbysgnbatt</th>\n",
              "      <th>endcmodbysgnbratio</th>\n",
              "      <th>connestabatt</th>\n",
              "      <th>...</th>\n",
              "      <th>bler_dl</th>\n",
              "      <th>rachpreamblea</th>\n",
              "      <th>nummsg3</th>\n",
              "      <th>attpaging</th>\n",
              "      <th>rssipathavg</th>\n",
              "      <th>dlreceivedcqiavg</th>\n",
              "      <th>endcrelbymenb</th>\n",
              "      <th>holiday</th>\n",
              "      <th>cos_time</th>\n",
              "      <th>sin_time</th>\n",
              "    </tr>\n",
              "  </thead>\n",
              "  <tbody>\n",
              "    <tr>\n",
              "      <th>0</th>\n",
              "      <td>0.0</td>\n",
              "      <td>9</td>\n",
              "      <td>100.0</td>\n",
              "      <td>5</td>\n",
              "      <td>100.0</td>\n",
              "      <td>2</td>\n",
              "      <td>100.0</td>\n",
              "      <td>7</td>\n",
              "      <td>100.0</td>\n",
              "      <td>1</td>\n",
              "      <td>...</td>\n",
              "      <td>6.4</td>\n",
              "      <td>17.0</td>\n",
              "      <td>11.0</td>\n",
              "      <td>2083.0</td>\n",
              "      <td>-92.8</td>\n",
              "      <td>11.2</td>\n",
              "      <td>3</td>\n",
              "      <td>0</td>\n",
              "      <td>1.0</td>\n",
              "      <td>0.0</td>\n",
              "    </tr>\n",
              "    <tr>\n",
              "      <th>1</th>\n",
              "      <td>8.3</td>\n",
              "      <td>12</td>\n",
              "      <td>100.0</td>\n",
              "      <td>9</td>\n",
              "      <td>100.0</td>\n",
              "      <td>0</td>\n",
              "      <td>0.0</td>\n",
              "      <td>15</td>\n",
              "      <td>100.0</td>\n",
              "      <td>1</td>\n",
              "      <td>...</td>\n",
              "      <td>2.4</td>\n",
              "      <td>19.0</td>\n",
              "      <td>15.0</td>\n",
              "      <td>1936.0</td>\n",
              "      <td>-92.8</td>\n",
              "      <td>10.7</td>\n",
              "      <td>11</td>\n",
              "      <td>0</td>\n",
              "      <td>1.0</td>\n",
              "      <td>0.0</td>\n",
              "    </tr>\n",
              "    <tr>\n",
              "      <th>2</th>\n",
              "      <td>0.0</td>\n",
              "      <td>9</td>\n",
              "      <td>100.0</td>\n",
              "      <td>8</td>\n",
              "      <td>100.0</td>\n",
              "      <td>4</td>\n",
              "      <td>100.0</td>\n",
              "      <td>11</td>\n",
              "      <td>100.0</td>\n",
              "      <td>10</td>\n",
              "      <td>...</td>\n",
              "      <td>9.9</td>\n",
              "      <td>28.0</td>\n",
              "      <td>23.0</td>\n",
              "      <td>1874.0</td>\n",
              "      <td>-92.7</td>\n",
              "      <td>10.7</td>\n",
              "      <td>5</td>\n",
              "      <td>0</td>\n",
              "      <td>1.0</td>\n",
              "      <td>0.0</td>\n",
              "    </tr>\n",
              "    <tr>\n",
              "      <th>3</th>\n",
              "      <td>0.0</td>\n",
              "      <td>11</td>\n",
              "      <td>100.0</td>\n",
              "      <td>10</td>\n",
              "      <td>100.0</td>\n",
              "      <td>0</td>\n",
              "      <td>0.0</td>\n",
              "      <td>8</td>\n",
              "      <td>100.0</td>\n",
              "      <td>2</td>\n",
              "      <td>...</td>\n",
              "      <td>5.0</td>\n",
              "      <td>16.0</td>\n",
              "      <td>14.0</td>\n",
              "      <td>1815.0</td>\n",
              "      <td>-92.6</td>\n",
              "      <td>9.4</td>\n",
              "      <td>8</td>\n",
              "      <td>0</td>\n",
              "      <td>1.0</td>\n",
              "      <td>0.0</td>\n",
              "    </tr>\n",
              "    <tr>\n",
              "      <th>4</th>\n",
              "      <td>0.0</td>\n",
              "      <td>9</td>\n",
              "      <td>100.0</td>\n",
              "      <td>8</td>\n",
              "      <td>100.0</td>\n",
              "      <td>0</td>\n",
              "      <td>0.0</td>\n",
              "      <td>9</td>\n",
              "      <td>100.0</td>\n",
              "      <td>0</td>\n",
              "      <td>...</td>\n",
              "      <td>0.6</td>\n",
              "      <td>14.0</td>\n",
              "      <td>10.0</td>\n",
              "      <td>1784.0</td>\n",
              "      <td>-92.8</td>\n",
              "      <td>9.6</td>\n",
              "      <td>8</td>\n",
              "      <td>0</td>\n",
              "      <td>1.0</td>\n",
              "      <td>0.0</td>\n",
              "    </tr>\n",
              "  </tbody>\n",
              "</table>\n",
              "<p>5 rows × 36 columns</p>\n",
              "</div>\n",
              "    <div class=\"colab-df-buttons\">\n",
              "\n",
              "  <div class=\"colab-df-container\">\n",
              "    <button class=\"colab-df-convert\" onclick=\"convertToInteractive('df-69fbf1e0-efc0-4960-8522-358b82aacc39')\"\n",
              "            title=\"Convert this dataframe to an interactive table.\"\n",
              "            style=\"display:none;\">\n",
              "\n",
              "  <svg xmlns=\"http://www.w3.org/2000/svg\" height=\"24px\" viewBox=\"0 -960 960 960\">\n",
              "    <path d=\"M120-120v-720h720v720H120Zm60-500h600v-160H180v160Zm220 220h160v-160H400v160Zm0 220h160v-160H400v160ZM180-400h160v-160H180v160Zm440 0h160v-160H620v160ZM180-180h160v-160H180v160Zm440 0h160v-160H620v160Z\"/>\n",
              "  </svg>\n",
              "    </button>\n",
              "\n",
              "  <style>\n",
              "    .colab-df-container {\n",
              "      display:flex;\n",
              "      gap: 12px;\n",
              "    }\n",
              "\n",
              "    .colab-df-convert {\n",
              "      background-color: #E8F0FE;\n",
              "      border: none;\n",
              "      border-radius: 50%;\n",
              "      cursor: pointer;\n",
              "      display: none;\n",
              "      fill: #1967D2;\n",
              "      height: 32px;\n",
              "      padding: 0 0 0 0;\n",
              "      width: 32px;\n",
              "    }\n",
              "\n",
              "    .colab-df-convert:hover {\n",
              "      background-color: #E2EBFA;\n",
              "      box-shadow: 0px 1px 2px rgba(60, 64, 67, 0.3), 0px 1px 3px 1px rgba(60, 64, 67, 0.15);\n",
              "      fill: #174EA6;\n",
              "    }\n",
              "\n",
              "    .colab-df-buttons div {\n",
              "      margin-bottom: 4px;\n",
              "    }\n",
              "\n",
              "    [theme=dark] .colab-df-convert {\n",
              "      background-color: #3B4455;\n",
              "      fill: #D2E3FC;\n",
              "    }\n",
              "\n",
              "    [theme=dark] .colab-df-convert:hover {\n",
              "      background-color: #434B5C;\n",
              "      box-shadow: 0px 1px 3px 1px rgba(0, 0, 0, 0.15);\n",
              "      filter: drop-shadow(0px 1px 2px rgba(0, 0, 0, 0.3));\n",
              "      fill: #FFFFFF;\n",
              "    }\n",
              "  </style>\n",
              "\n",
              "    <script>\n",
              "      const buttonEl =\n",
              "        document.querySelector('#df-69fbf1e0-efc0-4960-8522-358b82aacc39 button.colab-df-convert');\n",
              "      buttonEl.style.display =\n",
              "        google.colab.kernel.accessAllowed ? 'block' : 'none';\n",
              "\n",
              "      async function convertToInteractive(key) {\n",
              "        const element = document.querySelector('#df-69fbf1e0-efc0-4960-8522-358b82aacc39');\n",
              "        const dataTable =\n",
              "          await google.colab.kernel.invokeFunction('convertToInteractive',\n",
              "                                                    [key], {});\n",
              "        if (!dataTable) return;\n",
              "\n",
              "        const docLinkHtml = 'Like what you see? Visit the ' +\n",
              "          '<a target=\"_blank\" href=https://colab.research.google.com/notebooks/data_table.ipynb>data table notebook</a>'\n",
              "          + ' to learn more about interactive tables.';\n",
              "        element.innerHTML = '';\n",
              "        dataTable['output_type'] = 'display_data';\n",
              "        await google.colab.output.renderOutput(dataTable, element);\n",
              "        const docLink = document.createElement('div');\n",
              "        docLink.innerHTML = docLinkHtml;\n",
              "        element.appendChild(docLink);\n",
              "      }\n",
              "    </script>\n",
              "  </div>\n",
              "\n",
              "\n",
              "<div id=\"df-3561b422-3613-4369-a129-fe2fd27cb2f6\">\n",
              "  <button class=\"colab-df-quickchart\" onclick=\"quickchart('df-3561b422-3613-4369-a129-fe2fd27cb2f6')\"\n",
              "            title=\"Suggest charts.\"\n",
              "            style=\"display:none;\">\n",
              "\n",
              "<svg xmlns=\"http://www.w3.org/2000/svg\" height=\"24px\"viewBox=\"0 0 24 24\"\n",
              "     width=\"24px\">\n",
              "    <g>\n",
              "        <path d=\"M19 3H5c-1.1 0-2 .9-2 2v14c0 1.1.9 2 2 2h14c1.1 0 2-.9 2-2V5c0-1.1-.9-2-2-2zM9 17H7v-7h2v7zm4 0h-2V7h2v10zm4 0h-2v-4h2v4z\"/>\n",
              "    </g>\n",
              "</svg>\n",
              "  </button>\n",
              "\n",
              "<style>\n",
              "  .colab-df-quickchart {\n",
              "    background-color: #E8F0FE;\n",
              "    border: none;\n",
              "    border-radius: 50%;\n",
              "    cursor: pointer;\n",
              "    display: none;\n",
              "    fill: #1967D2;\n",
              "    height: 32px;\n",
              "    padding: 0 0 0 0;\n",
              "    width: 32px;\n",
              "  }\n",
              "\n",
              "  .colab-df-quickchart:hover {\n",
              "    background-color: #E2EBFA;\n",
              "    box-shadow: 0px 1px 2px rgba(60, 64, 67, 0.3), 0px 1px 3px 1px rgba(60, 64, 67, 0.15);\n",
              "    fill: #174EA6;\n",
              "  }\n",
              "\n",
              "  [theme=dark] .colab-df-quickchart {\n",
              "    background-color: #3B4455;\n",
              "    fill: #D2E3FC;\n",
              "  }\n",
              "\n",
              "  [theme=dark] .colab-df-quickchart:hover {\n",
              "    background-color: #434B5C;\n",
              "    box-shadow: 0px 1px 3px 1px rgba(0, 0, 0, 0.15);\n",
              "    filter: drop-shadow(0px 1px 2px rgba(0, 0, 0, 0.3));\n",
              "    fill: #FFFFFF;\n",
              "  }\n",
              "</style>\n",
              "\n",
              "  <script>\n",
              "    async function quickchart(key) {\n",
              "      const charts = await google.colab.kernel.invokeFunction(\n",
              "          'suggestCharts', [key], {});\n",
              "    }\n",
              "    (() => {\n",
              "      let quickchartButtonEl =\n",
              "        document.querySelector('#df-3561b422-3613-4369-a129-fe2fd27cb2f6 button');\n",
              "      quickchartButtonEl.style.display =\n",
              "        google.colab.kernel.accessAllowed ? 'block' : 'none';\n",
              "    })();\n",
              "  </script>\n",
              "</div>\n",
              "    </div>\n",
              "  </div>\n"
            ]
          },
          "metadata": {},
          "execution_count": 21
        }
      ]
    },
    {
      "cell_type": "code",
      "source": [
        "# scaling\n",
        "ss = StandardScaler()\n",
        "\n",
        "not_hoilday = [col for col in X_train.columns if col not in ['hoilday']]\n",
        "\n",
        "selected_col = X_train[not_hoilday]\n",
        "\n",
        "X_train_scale = ss.fit_transform(X_train[not_hoilday])\n",
        "X_valid_scale = ss.transform(X_valid[not_hoilday])\n",
        "X_train_scale"
      ],
      "metadata": {
        "colab": {
          "base_uri": "https://localhost:8080/"
        },
        "id": "3Mb1It59ybGm",
        "outputId": "461b4c29-4d64-4ccf-b6f7-0c2bc0b0a15e"
      },
      "execution_count": 22,
      "outputs": [
        {
          "output_type": "execute_result",
          "data": {
            "text/plain": [
              "array([[-0.35944831, -0.73210978,  0.08853298, ..., -0.65361862,\n",
              "         1.41592072, -0.00605489],\n",
              "       [ 1.09785358, -0.60917077,  0.08853298, ..., -0.65361862,\n",
              "         1.41592072, -0.00605489],\n",
              "       [-0.35944831, -0.73210978,  0.08853298, ..., -0.65361862,\n",
              "         1.41592072, -0.00605489],\n",
              "       ...,\n",
              "       [-0.35944831,  0.53825997,  0.08853298, ..., -0.65361862,\n",
              "         0.00279977, -1.42139512],\n",
              "       [ 0.07949805,  0.53825997,  0.08853298, ..., -0.65361862,\n",
              "         0.00279977, -1.42139512],\n",
              "       [ 0.39553942,  0.78413798,  0.08853298, ..., -0.65361862,\n",
              "         0.36854238, -1.37316857]])"
            ]
          },
          "metadata": {},
          "execution_count": 22
        }
      ]
    },
    {
      "cell_type": "markdown",
      "source": [
        "### Optuna 튜닝"
      ],
      "metadata": {
        "id": "kyGj9tW5w2f-"
      }
    },
    {
      "cell_type": "markdown",
      "source": [
        "##### best였지만 지금은 아님"
      ],
      "metadata": {
        "id": "jPgjZMizgsh_"
      }
    },
    {
      "cell_type": "code",
      "source": [
        "def objectiveXGB(trial: Trial, X_train, y_train, X_valid, y_valid):\n",
        "    param = {\n",
        "        \"n_estimators\" : trial.suggest_int('n_estimators', 500, 4000),\n",
        "        'max_depth': trial.suggest_int('max_depth', 6, 20),\n",
        "        'min_child_weight': trial.suggest_int('min_child_weight', 1, 50),\n",
        "        'gamma': trial.suggest_discrete_uniform('gamma', 0.01, 0.5, 0.01),\n",
        "        'learning_rate': trial.suggest_loguniform('learning_rate', 0.001, 0.1),\n",
        "        'colsample_bytree':trial.suggest_discrete_uniform('colsample_bytree',0.5, 1, 0.1),\n",
        "        'nthread' : -1,\n",
        "        'tree_method': 'gpu_hist',\n",
        "        'predictor': 'gpu_predictor',\n",
        "        'subsample': trial.suggest_categorical('subsample', [0.6,0.7,0.8,1.0] ),\n",
        "        'random_state': 1\n",
        "    }\n",
        "\n",
        "    model = XGBRegressor(**param)\n",
        "    xgb_model = model.fit(X_train, y_train, verbose = False,\n",
        "                          eval_metric = 'mae', eval_set = [(X_valid, y_valid)], early_stopping_rounds = 100)\n",
        "\n",
        "    ## MAE로 Loss 계산\n",
        "    score = mean_absolute_error(xgb_model.predict(X_valid), y_valid)\n",
        "\n",
        "    return score"
      ],
      "metadata": {
        "id": "9p98yROtw9kB"
      },
      "execution_count": null,
      "outputs": []
    },
    {
      "cell_type": "code",
      "source": [
        "study = optuna.create_study(direction = 'minimize', sampler = TPESampler())\n",
        "\n",
        "study.optimize(lambda trial : objectiveXGB(trial, X_train_scale, y_train, X_valid_scale, y_valid), n_trials = 50)\n",
        "print('Best trial: score {},\\nparams {}'.format(study.best_trial.value,study.best_trial.params))"
      ],
      "metadata": {
        "colab": {
          "base_uri": "https://localhost:8080/",
          "height": 1000
        },
        "id": "7XOUEpVAyL97",
        "outputId": "22aacb4c-718d-42ad-c026-3d04fe5d319c"
      },
      "execution_count": null,
      "outputs": [
        {
          "output_type": "stream",
          "name": "stderr",
          "text": [
            "[I 2023-08-22 14:41:05,875] A new study created in memory with name: no-name-28a30517-3aa6-4358-b91b-46a8d5d356e8\n",
            "[W 2023-08-22 14:41:06,565] Trial 0 failed with parameters: {'n_estimators': 3692, 'max_depth': 13, 'min_child_weight': 36, 'gamma': 0.38, 'learning_rate': 0.017515106549590608, 'colsample_bytree': 0.7, 'subsample': 1.0} because of the following error: XGBoostError('[14:41:06] ../src/gbm/gbtree.cc:568: Check failed: common::AllVisibleGPUs() >= 1 (0 vs. 1) : No visible GPU is found for XGBoost.\\nStack trace:\\n  [bt] (0) /usr/local/lib/python3.10/dist-packages/xgboost/lib/libxgboost.so(+0x2a7e13) [0x7d41f32a7e13]\\n  [bt] (1) /usr/local/lib/python3.10/dist-packages/xgboost/lib/libxgboost.so(+0x2ab010) [0x7d41f32ab010]\\n  [bt] (2) /usr/local/lib/python3.10/dist-packages/xgboost/lib/libxgboost.so(+0x2ab52a) [0x7d41f32ab52a]\\n  [bt] (3) /usr/local/lib/python3.10/dist-packages/xgboost/lib/libxgboost.so(+0x2e03c7) [0x7d41f32e03c7]\\n  [bt] (4) /usr/local/lib/python3.10/dist-packages/xgboost/lib/libxgboost.so(XGBoosterUpdateOneIter+0x70) [0x7d41f313c5a0]\\n  [bt] (5) /lib/x86_64-linux-gnu/libffi.so.8(+0x7e2e) [0x7d42539a3e2e]\\n  [bt] (6) /lib/x86_64-linux-gnu/libffi.so.8(+0x4493) [0x7d42539a0493]\\n  [bt] (7) /usr/lib/python3.10/lib-dynload/_ctypes.cpython-310-x86_64-linux-gnu.so(+0xa3e9) [0x7d42539c93e9]\\n  [bt] (8) /usr/lib/python3.10/lib-dynload/_ctypes.cpython-310-x86_64-linux-gnu.so(+0x9a00) [0x7d42539c8a00]\\n\\n').\n",
            "Traceback (most recent call last):\n",
            "  File \"/usr/local/lib/python3.10/dist-packages/optuna/study/_optimize.py\", line 200, in _run_trial\n",
            "    value_or_values = func(trial)\n",
            "  File \"<ipython-input-33-6a846062db49>\", line 3, in <lambda>\n",
            "    study.optimize(lambda trial : objectiveXGB(trial, X_train_scale, y_train, X_valid_scale, y_valid), n_trials = 50)\n",
            "  File \"<ipython-input-32-97255319297d>\", line 17, in objectiveXGB\n",
            "    xgb_model = model.fit(X_train, y_train, verbose = False,\n",
            "  File \"/usr/local/lib/python3.10/dist-packages/xgboost/core.py\", line 620, in inner_f\n",
            "    return func(**kwargs)\n",
            "  File \"/usr/local/lib/python3.10/dist-packages/xgboost/sklearn.py\", line 1025, in fit\n",
            "    self._Booster = train(\n",
            "  File \"/usr/local/lib/python3.10/dist-packages/xgboost/core.py\", line 620, in inner_f\n",
            "    return func(**kwargs)\n",
            "  File \"/usr/local/lib/python3.10/dist-packages/xgboost/training.py\", line 185, in train\n",
            "    bst.update(dtrain, i, obj)\n",
            "  File \"/usr/local/lib/python3.10/dist-packages/xgboost/core.py\", line 1918, in update\n",
            "    _check_call(_LIB.XGBoosterUpdateOneIter(self.handle,\n",
            "  File \"/usr/local/lib/python3.10/dist-packages/xgboost/core.py\", line 279, in _check_call\n",
            "    raise XGBoostError(py_str(_LIB.XGBGetLastError()))\n",
            "xgboost.core.XGBoostError: [14:41:06] ../src/gbm/gbtree.cc:568: Check failed: common::AllVisibleGPUs() >= 1 (0 vs. 1) : No visible GPU is found for XGBoost.\n",
            "Stack trace:\n",
            "  [bt] (0) /usr/local/lib/python3.10/dist-packages/xgboost/lib/libxgboost.so(+0x2a7e13) [0x7d41f32a7e13]\n",
            "  [bt] (1) /usr/local/lib/python3.10/dist-packages/xgboost/lib/libxgboost.so(+0x2ab010) [0x7d41f32ab010]\n",
            "  [bt] (2) /usr/local/lib/python3.10/dist-packages/xgboost/lib/libxgboost.so(+0x2ab52a) [0x7d41f32ab52a]\n",
            "  [bt] (3) /usr/local/lib/python3.10/dist-packages/xgboost/lib/libxgboost.so(+0x2e03c7) [0x7d41f32e03c7]\n",
            "  [bt] (4) /usr/local/lib/python3.10/dist-packages/xgboost/lib/libxgboost.so(XGBoosterUpdateOneIter+0x70) [0x7d41f313c5a0]\n",
            "  [bt] (5) /lib/x86_64-linux-gnu/libffi.so.8(+0x7e2e) [0x7d42539a3e2e]\n",
            "  [bt] (6) /lib/x86_64-linux-gnu/libffi.so.8(+0x4493) [0x7d42539a0493]\n",
            "  [bt] (7) /usr/lib/python3.10/lib-dynload/_ctypes.cpython-310-x86_64-linux-gnu.so(+0xa3e9) [0x7d42539c93e9]\n",
            "  [bt] (8) /usr/lib/python3.10/lib-dynload/_ctypes.cpython-310-x86_64-linux-gnu.so(+0x9a00) [0x7d42539c8a00]\n",
            "\n",
            "\n",
            "[W 2023-08-22 14:41:06,567] Trial 0 failed with value None.\n"
          ]
        },
        {
          "output_type": "stream",
          "name": "stdout",
          "text": [
            "[14:41:06] WARNING: ../src/learner.cc:339: No visible GPU is found, setting `gpu_id` to -1\n"
          ]
        },
        {
          "output_type": "error",
          "ename": "XGBoostError",
          "evalue": "ignored",
          "traceback": [
            "\u001b[0;31m---------------------------------------------------------------------------\u001b[0m",
            "\u001b[0;31mXGBoostError\u001b[0m                              Traceback (most recent call last)",
            "\u001b[0;32m<ipython-input-33-6a846062db49>\u001b[0m in \u001b[0;36m<cell line: 3>\u001b[0;34m()\u001b[0m\n\u001b[1;32m      1\u001b[0m \u001b[0mstudy\u001b[0m \u001b[0;34m=\u001b[0m \u001b[0moptuna\u001b[0m\u001b[0;34m.\u001b[0m\u001b[0mcreate_study\u001b[0m\u001b[0;34m(\u001b[0m\u001b[0mdirection\u001b[0m \u001b[0;34m=\u001b[0m \u001b[0;34m'minimize'\u001b[0m\u001b[0;34m,\u001b[0m \u001b[0msampler\u001b[0m \u001b[0;34m=\u001b[0m \u001b[0mTPESampler\u001b[0m\u001b[0;34m(\u001b[0m\u001b[0;34m)\u001b[0m\u001b[0;34m)\u001b[0m\u001b[0;34m\u001b[0m\u001b[0;34m\u001b[0m\u001b[0m\n\u001b[1;32m      2\u001b[0m \u001b[0;34m\u001b[0m\u001b[0m\n\u001b[0;32m----> 3\u001b[0;31m \u001b[0mstudy\u001b[0m\u001b[0;34m.\u001b[0m\u001b[0moptimize\u001b[0m\u001b[0;34m(\u001b[0m\u001b[0;32mlambda\u001b[0m \u001b[0mtrial\u001b[0m \u001b[0;34m:\u001b[0m \u001b[0mobjectiveXGB\u001b[0m\u001b[0;34m(\u001b[0m\u001b[0mtrial\u001b[0m\u001b[0;34m,\u001b[0m \u001b[0mX_train_scale\u001b[0m\u001b[0;34m,\u001b[0m \u001b[0my_train\u001b[0m\u001b[0;34m,\u001b[0m \u001b[0mX_valid_scale\u001b[0m\u001b[0;34m,\u001b[0m \u001b[0my_valid\u001b[0m\u001b[0;34m)\u001b[0m\u001b[0;34m,\u001b[0m \u001b[0mn_trials\u001b[0m \u001b[0;34m=\u001b[0m \u001b[0;36m50\u001b[0m\u001b[0;34m)\u001b[0m\u001b[0;34m\u001b[0m\u001b[0;34m\u001b[0m\u001b[0m\n\u001b[0m\u001b[1;32m      4\u001b[0m \u001b[0mprint\u001b[0m\u001b[0;34m(\u001b[0m\u001b[0;34m'Best trial: score {},\\nparams {}'\u001b[0m\u001b[0;34m.\u001b[0m\u001b[0mformat\u001b[0m\u001b[0;34m(\u001b[0m\u001b[0mstudy\u001b[0m\u001b[0;34m.\u001b[0m\u001b[0mbest_trial\u001b[0m\u001b[0;34m.\u001b[0m\u001b[0mvalue\u001b[0m\u001b[0;34m,\u001b[0m\u001b[0mstudy\u001b[0m\u001b[0;34m.\u001b[0m\u001b[0mbest_trial\u001b[0m\u001b[0;34m.\u001b[0m\u001b[0mparams\u001b[0m\u001b[0;34m)\u001b[0m\u001b[0;34m)\u001b[0m\u001b[0;34m\u001b[0m\u001b[0;34m\u001b[0m\u001b[0m\n",
            "\u001b[0;32m/usr/local/lib/python3.10/dist-packages/optuna/study/study.py\u001b[0m in \u001b[0;36moptimize\u001b[0;34m(self, func, n_trials, timeout, n_jobs, catch, callbacks, gc_after_trial, show_progress_bar)\u001b[0m\n\u001b[1;32m    440\u001b[0m                 \u001b[0mIf\u001b[0m \u001b[0mnested\u001b[0m \u001b[0minvocation\u001b[0m \u001b[0mof\u001b[0m \u001b[0mthis\u001b[0m \u001b[0mmethod\u001b[0m \u001b[0moccurs\u001b[0m\u001b[0;34m.\u001b[0m\u001b[0;34m\u001b[0m\u001b[0;34m\u001b[0m\u001b[0m\n\u001b[1;32m    441\u001b[0m         \"\"\"\n\u001b[0;32m--> 442\u001b[0;31m         _optimize(\n\u001b[0m\u001b[1;32m    443\u001b[0m             \u001b[0mstudy\u001b[0m\u001b[0;34m=\u001b[0m\u001b[0mself\u001b[0m\u001b[0;34m,\u001b[0m\u001b[0;34m\u001b[0m\u001b[0;34m\u001b[0m\u001b[0m\n\u001b[1;32m    444\u001b[0m             \u001b[0mfunc\u001b[0m\u001b[0;34m=\u001b[0m\u001b[0mfunc\u001b[0m\u001b[0;34m,\u001b[0m\u001b[0;34m\u001b[0m\u001b[0;34m\u001b[0m\u001b[0m\n",
            "\u001b[0;32m/usr/local/lib/python3.10/dist-packages/optuna/study/_optimize.py\u001b[0m in \u001b[0;36m_optimize\u001b[0;34m(study, func, n_trials, timeout, n_jobs, catch, callbacks, gc_after_trial, show_progress_bar)\u001b[0m\n\u001b[1;32m     64\u001b[0m     \u001b[0;32mtry\u001b[0m\u001b[0;34m:\u001b[0m\u001b[0;34m\u001b[0m\u001b[0;34m\u001b[0m\u001b[0m\n\u001b[1;32m     65\u001b[0m         \u001b[0;32mif\u001b[0m \u001b[0mn_jobs\u001b[0m \u001b[0;34m==\u001b[0m \u001b[0;36m1\u001b[0m\u001b[0;34m:\u001b[0m\u001b[0;34m\u001b[0m\u001b[0;34m\u001b[0m\u001b[0m\n\u001b[0;32m---> 66\u001b[0;31m             _optimize_sequential(\n\u001b[0m\u001b[1;32m     67\u001b[0m                 \u001b[0mstudy\u001b[0m\u001b[0;34m,\u001b[0m\u001b[0;34m\u001b[0m\u001b[0;34m\u001b[0m\u001b[0m\n\u001b[1;32m     68\u001b[0m                 \u001b[0mfunc\u001b[0m\u001b[0;34m,\u001b[0m\u001b[0;34m\u001b[0m\u001b[0;34m\u001b[0m\u001b[0m\n",
            "\u001b[0;32m/usr/local/lib/python3.10/dist-packages/optuna/study/_optimize.py\u001b[0m in \u001b[0;36m_optimize_sequential\u001b[0;34m(study, func, n_trials, timeout, catch, callbacks, gc_after_trial, reseed_sampler_rng, time_start, progress_bar)\u001b[0m\n\u001b[1;32m    161\u001b[0m \u001b[0;34m\u001b[0m\u001b[0m\n\u001b[1;32m    162\u001b[0m         \u001b[0;32mtry\u001b[0m\u001b[0;34m:\u001b[0m\u001b[0;34m\u001b[0m\u001b[0;34m\u001b[0m\u001b[0m\n\u001b[0;32m--> 163\u001b[0;31m             \u001b[0mfrozen_trial\u001b[0m \u001b[0;34m=\u001b[0m \u001b[0m_run_trial\u001b[0m\u001b[0;34m(\u001b[0m\u001b[0mstudy\u001b[0m\u001b[0;34m,\u001b[0m \u001b[0mfunc\u001b[0m\u001b[0;34m,\u001b[0m \u001b[0mcatch\u001b[0m\u001b[0;34m)\u001b[0m\u001b[0;34m\u001b[0m\u001b[0;34m\u001b[0m\u001b[0m\n\u001b[0m\u001b[1;32m    164\u001b[0m         \u001b[0;32mfinally\u001b[0m\u001b[0;34m:\u001b[0m\u001b[0;34m\u001b[0m\u001b[0;34m\u001b[0m\u001b[0m\n\u001b[1;32m    165\u001b[0m             \u001b[0;31m# The following line mitigates memory problems that can be occurred in some\u001b[0m\u001b[0;34m\u001b[0m\u001b[0;34m\u001b[0m\u001b[0m\n",
            "\u001b[0;32m/usr/local/lib/python3.10/dist-packages/optuna/study/_optimize.py\u001b[0m in \u001b[0;36m_run_trial\u001b[0;34m(study, func, catch)\u001b[0m\n\u001b[1;32m    249\u001b[0m         \u001b[0;32mand\u001b[0m \u001b[0;32mnot\u001b[0m \u001b[0misinstance\u001b[0m\u001b[0;34m(\u001b[0m\u001b[0mfunc_err\u001b[0m\u001b[0;34m,\u001b[0m \u001b[0mcatch\u001b[0m\u001b[0;34m)\u001b[0m\u001b[0;34m\u001b[0m\u001b[0;34m\u001b[0m\u001b[0m\n\u001b[1;32m    250\u001b[0m     ):\n\u001b[0;32m--> 251\u001b[0;31m         \u001b[0;32mraise\u001b[0m \u001b[0mfunc_err\u001b[0m\u001b[0;34m\u001b[0m\u001b[0;34m\u001b[0m\u001b[0m\n\u001b[0m\u001b[1;32m    252\u001b[0m     \u001b[0;32mreturn\u001b[0m \u001b[0mfrozen_trial\u001b[0m\u001b[0;34m\u001b[0m\u001b[0;34m\u001b[0m\u001b[0m\n\u001b[1;32m    253\u001b[0m \u001b[0;34m\u001b[0m\u001b[0m\n",
            "\u001b[0;32m/usr/local/lib/python3.10/dist-packages/optuna/study/_optimize.py\u001b[0m in \u001b[0;36m_run_trial\u001b[0;34m(study, func, catch)\u001b[0m\n\u001b[1;32m    198\u001b[0m     \u001b[0;32mwith\u001b[0m \u001b[0mget_heartbeat_thread\u001b[0m\u001b[0;34m(\u001b[0m\u001b[0mtrial\u001b[0m\u001b[0;34m.\u001b[0m\u001b[0m_trial_id\u001b[0m\u001b[0;34m,\u001b[0m \u001b[0mstudy\u001b[0m\u001b[0;34m.\u001b[0m\u001b[0m_storage\u001b[0m\u001b[0;34m)\u001b[0m\u001b[0;34m:\u001b[0m\u001b[0;34m\u001b[0m\u001b[0;34m\u001b[0m\u001b[0m\n\u001b[1;32m    199\u001b[0m         \u001b[0;32mtry\u001b[0m\u001b[0;34m:\u001b[0m\u001b[0;34m\u001b[0m\u001b[0;34m\u001b[0m\u001b[0m\n\u001b[0;32m--> 200\u001b[0;31m             \u001b[0mvalue_or_values\u001b[0m \u001b[0;34m=\u001b[0m \u001b[0mfunc\u001b[0m\u001b[0;34m(\u001b[0m\u001b[0mtrial\u001b[0m\u001b[0;34m)\u001b[0m\u001b[0;34m\u001b[0m\u001b[0;34m\u001b[0m\u001b[0m\n\u001b[0m\u001b[1;32m    201\u001b[0m         \u001b[0;32mexcept\u001b[0m \u001b[0mexceptions\u001b[0m\u001b[0;34m.\u001b[0m\u001b[0mTrialPruned\u001b[0m \u001b[0;32mas\u001b[0m \u001b[0me\u001b[0m\u001b[0;34m:\u001b[0m\u001b[0;34m\u001b[0m\u001b[0;34m\u001b[0m\u001b[0m\n\u001b[1;32m    202\u001b[0m             \u001b[0;31m# TODO(mamu): Handle multi-objective cases.\u001b[0m\u001b[0;34m\u001b[0m\u001b[0;34m\u001b[0m\u001b[0m\n",
            "\u001b[0;32m<ipython-input-33-6a846062db49>\u001b[0m in \u001b[0;36m<lambda>\u001b[0;34m(trial)\u001b[0m\n\u001b[1;32m      1\u001b[0m \u001b[0mstudy\u001b[0m \u001b[0;34m=\u001b[0m \u001b[0moptuna\u001b[0m\u001b[0;34m.\u001b[0m\u001b[0mcreate_study\u001b[0m\u001b[0;34m(\u001b[0m\u001b[0mdirection\u001b[0m \u001b[0;34m=\u001b[0m \u001b[0;34m'minimize'\u001b[0m\u001b[0;34m,\u001b[0m \u001b[0msampler\u001b[0m \u001b[0;34m=\u001b[0m \u001b[0mTPESampler\u001b[0m\u001b[0;34m(\u001b[0m\u001b[0;34m)\u001b[0m\u001b[0;34m)\u001b[0m\u001b[0;34m\u001b[0m\u001b[0;34m\u001b[0m\u001b[0m\n\u001b[1;32m      2\u001b[0m \u001b[0;34m\u001b[0m\u001b[0m\n\u001b[0;32m----> 3\u001b[0;31m \u001b[0mstudy\u001b[0m\u001b[0;34m.\u001b[0m\u001b[0moptimize\u001b[0m\u001b[0;34m(\u001b[0m\u001b[0;32mlambda\u001b[0m \u001b[0mtrial\u001b[0m \u001b[0;34m:\u001b[0m \u001b[0mobjectiveXGB\u001b[0m\u001b[0;34m(\u001b[0m\u001b[0mtrial\u001b[0m\u001b[0;34m,\u001b[0m \u001b[0mX_train_scale\u001b[0m\u001b[0;34m,\u001b[0m \u001b[0my_train\u001b[0m\u001b[0;34m,\u001b[0m \u001b[0mX_valid_scale\u001b[0m\u001b[0;34m,\u001b[0m \u001b[0my_valid\u001b[0m\u001b[0;34m)\u001b[0m\u001b[0;34m,\u001b[0m \u001b[0mn_trials\u001b[0m \u001b[0;34m=\u001b[0m \u001b[0;36m50\u001b[0m\u001b[0;34m)\u001b[0m\u001b[0;34m\u001b[0m\u001b[0;34m\u001b[0m\u001b[0m\n\u001b[0m\u001b[1;32m      4\u001b[0m \u001b[0mprint\u001b[0m\u001b[0;34m(\u001b[0m\u001b[0;34m'Best trial: score {},\\nparams {}'\u001b[0m\u001b[0;34m.\u001b[0m\u001b[0mformat\u001b[0m\u001b[0;34m(\u001b[0m\u001b[0mstudy\u001b[0m\u001b[0;34m.\u001b[0m\u001b[0mbest_trial\u001b[0m\u001b[0;34m.\u001b[0m\u001b[0mvalue\u001b[0m\u001b[0;34m,\u001b[0m\u001b[0mstudy\u001b[0m\u001b[0;34m.\u001b[0m\u001b[0mbest_trial\u001b[0m\u001b[0;34m.\u001b[0m\u001b[0mparams\u001b[0m\u001b[0;34m)\u001b[0m\u001b[0;34m)\u001b[0m\u001b[0;34m\u001b[0m\u001b[0;34m\u001b[0m\u001b[0m\n",
            "\u001b[0;32m<ipython-input-32-97255319297d>\u001b[0m in \u001b[0;36mobjectiveXGB\u001b[0;34m(trial, X_train, y_train, X_valid, y_valid)\u001b[0m\n\u001b[1;32m     15\u001b[0m \u001b[0;34m\u001b[0m\u001b[0m\n\u001b[1;32m     16\u001b[0m     \u001b[0mmodel\u001b[0m \u001b[0;34m=\u001b[0m \u001b[0mXGBRegressor\u001b[0m\u001b[0;34m(\u001b[0m\u001b[0;34m**\u001b[0m\u001b[0mparam\u001b[0m\u001b[0;34m)\u001b[0m\u001b[0;34m\u001b[0m\u001b[0;34m\u001b[0m\u001b[0m\n\u001b[0;32m---> 17\u001b[0;31m     xgb_model = model.fit(X_train, y_train, verbose = False,\n\u001b[0m\u001b[1;32m     18\u001b[0m                           eval_metric = 'mae', eval_set = [(X_valid, y_valid)], early_stopping_rounds = 100)\n\u001b[1;32m     19\u001b[0m \u001b[0;34m\u001b[0m\u001b[0m\n",
            "\u001b[0;32m/usr/local/lib/python3.10/dist-packages/xgboost/core.py\u001b[0m in \u001b[0;36minner_f\u001b[0;34m(*args, **kwargs)\u001b[0m\n\u001b[1;32m    618\u001b[0m             \u001b[0;32mfor\u001b[0m \u001b[0mk\u001b[0m\u001b[0;34m,\u001b[0m \u001b[0marg\u001b[0m \u001b[0;32min\u001b[0m \u001b[0mzip\u001b[0m\u001b[0;34m(\u001b[0m\u001b[0msig\u001b[0m\u001b[0;34m.\u001b[0m\u001b[0mparameters\u001b[0m\u001b[0;34m,\u001b[0m \u001b[0margs\u001b[0m\u001b[0;34m)\u001b[0m\u001b[0;34m:\u001b[0m\u001b[0;34m\u001b[0m\u001b[0;34m\u001b[0m\u001b[0m\n\u001b[1;32m    619\u001b[0m                 \u001b[0mkwargs\u001b[0m\u001b[0;34m[\u001b[0m\u001b[0mk\u001b[0m\u001b[0;34m]\u001b[0m \u001b[0;34m=\u001b[0m \u001b[0marg\u001b[0m\u001b[0;34m\u001b[0m\u001b[0;34m\u001b[0m\u001b[0m\n\u001b[0;32m--> 620\u001b[0;31m             \u001b[0;32mreturn\u001b[0m \u001b[0mfunc\u001b[0m\u001b[0;34m(\u001b[0m\u001b[0;34m**\u001b[0m\u001b[0mkwargs\u001b[0m\u001b[0;34m)\u001b[0m\u001b[0;34m\u001b[0m\u001b[0;34m\u001b[0m\u001b[0m\n\u001b[0m\u001b[1;32m    621\u001b[0m \u001b[0;34m\u001b[0m\u001b[0m\n\u001b[1;32m    622\u001b[0m         \u001b[0;32mreturn\u001b[0m \u001b[0minner_f\u001b[0m\u001b[0;34m\u001b[0m\u001b[0;34m\u001b[0m\u001b[0m\n",
            "\u001b[0;32m/usr/local/lib/python3.10/dist-packages/xgboost/sklearn.py\u001b[0m in \u001b[0;36mfit\u001b[0;34m(self, X, y, sample_weight, base_margin, eval_set, eval_metric, early_stopping_rounds, verbose, xgb_model, sample_weight_eval_set, base_margin_eval_set, feature_weights, callbacks)\u001b[0m\n\u001b[1;32m   1023\u001b[0m                 \u001b[0mxgb_model\u001b[0m\u001b[0;34m,\u001b[0m \u001b[0meval_metric\u001b[0m\u001b[0;34m,\u001b[0m \u001b[0mparams\u001b[0m\u001b[0;34m,\u001b[0m \u001b[0mearly_stopping_rounds\u001b[0m\u001b[0;34m,\u001b[0m \u001b[0mcallbacks\u001b[0m\u001b[0;34m\u001b[0m\u001b[0;34m\u001b[0m\u001b[0m\n\u001b[1;32m   1024\u001b[0m             )\n\u001b[0;32m-> 1025\u001b[0;31m             self._Booster = train(\n\u001b[0m\u001b[1;32m   1026\u001b[0m                 \u001b[0mparams\u001b[0m\u001b[0;34m,\u001b[0m\u001b[0;34m\u001b[0m\u001b[0;34m\u001b[0m\u001b[0m\n\u001b[1;32m   1027\u001b[0m                 \u001b[0mtrain_dmatrix\u001b[0m\u001b[0;34m,\u001b[0m\u001b[0;34m\u001b[0m\u001b[0;34m\u001b[0m\u001b[0m\n",
            "\u001b[0;32m/usr/local/lib/python3.10/dist-packages/xgboost/core.py\u001b[0m in \u001b[0;36minner_f\u001b[0;34m(*args, **kwargs)\u001b[0m\n\u001b[1;32m    618\u001b[0m             \u001b[0;32mfor\u001b[0m \u001b[0mk\u001b[0m\u001b[0;34m,\u001b[0m \u001b[0marg\u001b[0m \u001b[0;32min\u001b[0m \u001b[0mzip\u001b[0m\u001b[0;34m(\u001b[0m\u001b[0msig\u001b[0m\u001b[0;34m.\u001b[0m\u001b[0mparameters\u001b[0m\u001b[0;34m,\u001b[0m \u001b[0margs\u001b[0m\u001b[0;34m)\u001b[0m\u001b[0;34m:\u001b[0m\u001b[0;34m\u001b[0m\u001b[0;34m\u001b[0m\u001b[0m\n\u001b[1;32m    619\u001b[0m                 \u001b[0mkwargs\u001b[0m\u001b[0;34m[\u001b[0m\u001b[0mk\u001b[0m\u001b[0;34m]\u001b[0m \u001b[0;34m=\u001b[0m \u001b[0marg\u001b[0m\u001b[0;34m\u001b[0m\u001b[0;34m\u001b[0m\u001b[0m\n\u001b[0;32m--> 620\u001b[0;31m             \u001b[0;32mreturn\u001b[0m \u001b[0mfunc\u001b[0m\u001b[0;34m(\u001b[0m\u001b[0;34m**\u001b[0m\u001b[0mkwargs\u001b[0m\u001b[0;34m)\u001b[0m\u001b[0;34m\u001b[0m\u001b[0;34m\u001b[0m\u001b[0m\n\u001b[0m\u001b[1;32m    621\u001b[0m \u001b[0;34m\u001b[0m\u001b[0m\n\u001b[1;32m    622\u001b[0m         \u001b[0;32mreturn\u001b[0m \u001b[0minner_f\u001b[0m\u001b[0;34m\u001b[0m\u001b[0;34m\u001b[0m\u001b[0m\n",
            "\u001b[0;32m/usr/local/lib/python3.10/dist-packages/xgboost/training.py\u001b[0m in \u001b[0;36mtrain\u001b[0;34m(params, dtrain, num_boost_round, evals, obj, feval, maximize, early_stopping_rounds, evals_result, verbose_eval, xgb_model, callbacks, custom_metric)\u001b[0m\n\u001b[1;32m    183\u001b[0m         \u001b[0;32mif\u001b[0m \u001b[0mcb_container\u001b[0m\u001b[0;34m.\u001b[0m\u001b[0mbefore_iteration\u001b[0m\u001b[0;34m(\u001b[0m\u001b[0mbst\u001b[0m\u001b[0;34m,\u001b[0m \u001b[0mi\u001b[0m\u001b[0;34m,\u001b[0m \u001b[0mdtrain\u001b[0m\u001b[0;34m,\u001b[0m \u001b[0mevals\u001b[0m\u001b[0;34m)\u001b[0m\u001b[0;34m:\u001b[0m\u001b[0;34m\u001b[0m\u001b[0;34m\u001b[0m\u001b[0m\n\u001b[1;32m    184\u001b[0m             \u001b[0;32mbreak\u001b[0m\u001b[0;34m\u001b[0m\u001b[0;34m\u001b[0m\u001b[0m\n\u001b[0;32m--> 185\u001b[0;31m         \u001b[0mbst\u001b[0m\u001b[0;34m.\u001b[0m\u001b[0mupdate\u001b[0m\u001b[0;34m(\u001b[0m\u001b[0mdtrain\u001b[0m\u001b[0;34m,\u001b[0m \u001b[0mi\u001b[0m\u001b[0;34m,\u001b[0m \u001b[0mobj\u001b[0m\u001b[0;34m)\u001b[0m\u001b[0;34m\u001b[0m\u001b[0;34m\u001b[0m\u001b[0m\n\u001b[0m\u001b[1;32m    186\u001b[0m         \u001b[0;32mif\u001b[0m \u001b[0mcb_container\u001b[0m\u001b[0;34m.\u001b[0m\u001b[0mafter_iteration\u001b[0m\u001b[0;34m(\u001b[0m\u001b[0mbst\u001b[0m\u001b[0;34m,\u001b[0m \u001b[0mi\u001b[0m\u001b[0;34m,\u001b[0m \u001b[0mdtrain\u001b[0m\u001b[0;34m,\u001b[0m \u001b[0mevals\u001b[0m\u001b[0;34m)\u001b[0m\u001b[0;34m:\u001b[0m\u001b[0;34m\u001b[0m\u001b[0;34m\u001b[0m\u001b[0m\n\u001b[1;32m    187\u001b[0m             \u001b[0;32mbreak\u001b[0m\u001b[0;34m\u001b[0m\u001b[0;34m\u001b[0m\u001b[0m\n",
            "\u001b[0;32m/usr/local/lib/python3.10/dist-packages/xgboost/core.py\u001b[0m in \u001b[0;36mupdate\u001b[0;34m(self, dtrain, iteration, fobj)\u001b[0m\n\u001b[1;32m   1916\u001b[0m \u001b[0;34m\u001b[0m\u001b[0m\n\u001b[1;32m   1917\u001b[0m         \u001b[0;32mif\u001b[0m \u001b[0mfobj\u001b[0m \u001b[0;32mis\u001b[0m \u001b[0;32mNone\u001b[0m\u001b[0;34m:\u001b[0m\u001b[0;34m\u001b[0m\u001b[0;34m\u001b[0m\u001b[0m\n\u001b[0;32m-> 1918\u001b[0;31m             _check_call(_LIB.XGBoosterUpdateOneIter(self.handle,\n\u001b[0m\u001b[1;32m   1919\u001b[0m                                                     \u001b[0mctypes\u001b[0m\u001b[0;34m.\u001b[0m\u001b[0mc_int\u001b[0m\u001b[0;34m(\u001b[0m\u001b[0miteration\u001b[0m\u001b[0;34m)\u001b[0m\u001b[0;34m,\u001b[0m\u001b[0;34m\u001b[0m\u001b[0;34m\u001b[0m\u001b[0m\n\u001b[1;32m   1920\u001b[0m                                                     dtrain.handle))\n",
            "\u001b[0;32m/usr/local/lib/python3.10/dist-packages/xgboost/core.py\u001b[0m in \u001b[0;36m_check_call\u001b[0;34m(ret)\u001b[0m\n\u001b[1;32m    277\u001b[0m     \"\"\"\n\u001b[1;32m    278\u001b[0m     \u001b[0;32mif\u001b[0m \u001b[0mret\u001b[0m \u001b[0;34m!=\u001b[0m \u001b[0;36m0\u001b[0m\u001b[0;34m:\u001b[0m\u001b[0;34m\u001b[0m\u001b[0;34m\u001b[0m\u001b[0m\n\u001b[0;32m--> 279\u001b[0;31m         \u001b[0;32mraise\u001b[0m \u001b[0mXGBoostError\u001b[0m\u001b[0;34m(\u001b[0m\u001b[0mpy_str\u001b[0m\u001b[0;34m(\u001b[0m\u001b[0m_LIB\u001b[0m\u001b[0;34m.\u001b[0m\u001b[0mXGBGetLastError\u001b[0m\u001b[0;34m(\u001b[0m\u001b[0;34m)\u001b[0m\u001b[0;34m)\u001b[0m\u001b[0;34m)\u001b[0m\u001b[0;34m\u001b[0m\u001b[0;34m\u001b[0m\u001b[0m\n\u001b[0m\u001b[1;32m    280\u001b[0m \u001b[0;34m\u001b[0m\u001b[0m\n\u001b[1;32m    281\u001b[0m \u001b[0;34m\u001b[0m\u001b[0m\n",
            "\u001b[0;31mXGBoostError\u001b[0m: [14:41:06] ../src/gbm/gbtree.cc:568: Check failed: common::AllVisibleGPUs() >= 1 (0 vs. 1) : No visible GPU is found for XGBoost.\nStack trace:\n  [bt] (0) /usr/local/lib/python3.10/dist-packages/xgboost/lib/libxgboost.so(+0x2a7e13) [0x7d41f32a7e13]\n  [bt] (1) /usr/local/lib/python3.10/dist-packages/xgboost/lib/libxgboost.so(+0x2ab010) [0x7d41f32ab010]\n  [bt] (2) /usr/local/lib/python3.10/dist-packages/xgboost/lib/libxgboost.so(+0x2ab52a) [0x7d41f32ab52a]\n  [bt] (3) /usr/local/lib/python3.10/dist-packages/xgboost/lib/libxgboost.so(+0x2e03c7) [0x7d41f32e03c7]\n  [bt] (4) /usr/local/lib/python3.10/dist-packages/xgboost/lib/libxgboost.so(XGBoosterUpdateOneIter+0x70) [0x7d41f313c5a0]\n  [bt] (5) /lib/x86_64-linux-gnu/libffi.so.8(+0x7e2e) [0x7d42539a3e2e]\n  [bt] (6) /lib/x86_64-linux-gnu/libffi.so.8(+0x4493) [0x7d42539a0493]\n  [bt] (7) /usr/lib/python3.10/lib-dynload/_ctypes.cpython-310-x86_64-linux-gnu.so(+0xa3e9) [0x7d42539c93e9]\n  [bt] (8) /usr/lib/python3.10/lib-dynload/_ctypes.cpython-310-x86_64-linux-gnu.so(+0x9a00) [0x7d42539c8a00]\n\n"
          ]
        }
      ]
    },
    {
      "cell_type": "code",
      "source": [
        "xgboost1 = XGBRegressor(random_state = 1,\n",
        "                        **study.best_trial.params)"
      ],
      "metadata": {
        "id": "cNIennbOyuzx"
      },
      "execution_count": null,
      "outputs": []
    },
    {
      "cell_type": "code",
      "source": [
        "xgboost1.fit(X_train_scale, y_train,\n",
        "             eval_metric = 'mae', eval_set = [(X_valid_scale, y_valid)], early_stopping_rounds = 100,\n",
        "             verbose = 100)"
      ],
      "metadata": {
        "id": "eTDZ71fL09Js",
        "colab": {
          "base_uri": "https://localhost:8080/",
          "height": 647
        },
        "outputId": "e42dc6ce-a625-4860-8fe9-7e481c25b218"
      },
      "execution_count": null,
      "outputs": [
        {
          "output_type": "stream",
          "name": "stdout",
          "text": [
            "[0]\tvalidation_0-mae:1.81564\n",
            "[100]\tvalidation_0-mae:1.56868\n",
            "[200]\tvalidation_0-mae:1.35534\n",
            "[300]\tvalidation_0-mae:1.17606\n",
            "[400]\tvalidation_0-mae:1.02951\n",
            "[500]\tvalidation_0-mae:0.90856\n",
            "[600]\tvalidation_0-mae:0.81002\n",
            "[700]\tvalidation_0-mae:0.73072\n",
            "[800]\tvalidation_0-mae:0.66827\n",
            "[900]\tvalidation_0-mae:0.62009\n",
            "[1000]\tvalidation_0-mae:0.58360\n",
            "[1100]\tvalidation_0-mae:0.55676\n",
            "[1200]\tvalidation_0-mae:0.53720\n",
            "[1300]\tvalidation_0-mae:0.52334\n",
            "[1400]\tvalidation_0-mae:0.51373\n",
            "[1500]\tvalidation_0-mae:0.50715\n",
            "[1600]\tvalidation_0-mae:0.50289\n",
            "[1700]\tvalidation_0-mae:0.50026\n",
            "[1800]\tvalidation_0-mae:0.49883\n",
            "[1900]\tvalidation_0-mae:0.49840\n",
            "[2000]\tvalidation_0-mae:0.49846\n",
            "[2049]\tvalidation_0-mae:0.49868\n"
          ]
        },
        {
          "output_type": "execute_result",
          "data": {
            "text/plain": [
              "XGBRegressor(base_score=None, booster=None, callbacks=None,\n",
              "             colsample_bylevel=None, colsample_bynode=None,\n",
              "             colsample_bytree=0.8, early_stopping_rounds=None,\n",
              "             enable_categorical=False, eval_metric=None, feature_types=None,\n",
              "             gamma=0.5, gpu_id=None, grow_policy=None, importance_type=None,\n",
              "             interaction_constraints=None, learning_rate=0.001413461234193065,\n",
              "             max_bin=None, max_cat_threshold=None, max_cat_to_onehot=None,\n",
              "             max_delta_step=None, max_depth=14, max_leaves=None,\n",
              "             min_child_weight=1, missing=nan, monotone_constraints=None,\n",
              "             n_estimators=3009, n_jobs=None, num_parallel_tree=None,\n",
              "             predictor=None, random_state=1, ...)"
            ],
            "text/html": [
              "<style>#sk-container-id-1 {color: black;background-color: white;}#sk-container-id-1 pre{padding: 0;}#sk-container-id-1 div.sk-toggleable {background-color: white;}#sk-container-id-1 label.sk-toggleable__label {cursor: pointer;display: block;width: 100%;margin-bottom: 0;padding: 0.3em;box-sizing: border-box;text-align: center;}#sk-container-id-1 label.sk-toggleable__label-arrow:before {content: \"▸\";float: left;margin-right: 0.25em;color: #696969;}#sk-container-id-1 label.sk-toggleable__label-arrow:hover:before {color: black;}#sk-container-id-1 div.sk-estimator:hover label.sk-toggleable__label-arrow:before {color: black;}#sk-container-id-1 div.sk-toggleable__content {max-height: 0;max-width: 0;overflow: hidden;text-align: left;background-color: #f0f8ff;}#sk-container-id-1 div.sk-toggleable__content pre {margin: 0.2em;color: black;border-radius: 0.25em;background-color: #f0f8ff;}#sk-container-id-1 input.sk-toggleable__control:checked~div.sk-toggleable__content {max-height: 200px;max-width: 100%;overflow: auto;}#sk-container-id-1 input.sk-toggleable__control:checked~label.sk-toggleable__label-arrow:before {content: \"▾\";}#sk-container-id-1 div.sk-estimator input.sk-toggleable__control:checked~label.sk-toggleable__label {background-color: #d4ebff;}#sk-container-id-1 div.sk-label input.sk-toggleable__control:checked~label.sk-toggleable__label {background-color: #d4ebff;}#sk-container-id-1 input.sk-hidden--visually {border: 0;clip: rect(1px 1px 1px 1px);clip: rect(1px, 1px, 1px, 1px);height: 1px;margin: -1px;overflow: hidden;padding: 0;position: absolute;width: 1px;}#sk-container-id-1 div.sk-estimator {font-family: monospace;background-color: #f0f8ff;border: 1px dotted black;border-radius: 0.25em;box-sizing: border-box;margin-bottom: 0.5em;}#sk-container-id-1 div.sk-estimator:hover {background-color: #d4ebff;}#sk-container-id-1 div.sk-parallel-item::after {content: \"\";width: 100%;border-bottom: 1px solid gray;flex-grow: 1;}#sk-container-id-1 div.sk-label:hover label.sk-toggleable__label {background-color: #d4ebff;}#sk-container-id-1 div.sk-serial::before {content: \"\";position: absolute;border-left: 1px solid gray;box-sizing: border-box;top: 0;bottom: 0;left: 50%;z-index: 0;}#sk-container-id-1 div.sk-serial {display: flex;flex-direction: column;align-items: center;background-color: white;padding-right: 0.2em;padding-left: 0.2em;position: relative;}#sk-container-id-1 div.sk-item {position: relative;z-index: 1;}#sk-container-id-1 div.sk-parallel {display: flex;align-items: stretch;justify-content: center;background-color: white;position: relative;}#sk-container-id-1 div.sk-item::before, #sk-container-id-1 div.sk-parallel-item::before {content: \"\";position: absolute;border-left: 1px solid gray;box-sizing: border-box;top: 0;bottom: 0;left: 50%;z-index: -1;}#sk-container-id-1 div.sk-parallel-item {display: flex;flex-direction: column;z-index: 1;position: relative;background-color: white;}#sk-container-id-1 div.sk-parallel-item:first-child::after {align-self: flex-end;width: 50%;}#sk-container-id-1 div.sk-parallel-item:last-child::after {align-self: flex-start;width: 50%;}#sk-container-id-1 div.sk-parallel-item:only-child::after {width: 0;}#sk-container-id-1 div.sk-dashed-wrapped {border: 1px dashed gray;margin: 0 0.4em 0.5em 0.4em;box-sizing: border-box;padding-bottom: 0.4em;background-color: white;}#sk-container-id-1 div.sk-label label {font-family: monospace;font-weight: bold;display: inline-block;line-height: 1.2em;}#sk-container-id-1 div.sk-label-container {text-align: center;}#sk-container-id-1 div.sk-container {/* jupyter's `normalize.less` sets `[hidden] { display: none; }` but bootstrap.min.css set `[hidden] { display: none !important; }` so we also need the `!important` here to be able to override the default hidden behavior on the sphinx rendered scikit-learn.org. See: https://github.com/scikit-learn/scikit-learn/issues/21755 */display: inline-block !important;position: relative;}#sk-container-id-1 div.sk-text-repr-fallback {display: none;}</style><div id=\"sk-container-id-1\" class=\"sk-top-container\"><div class=\"sk-text-repr-fallback\"><pre>XGBRegressor(base_score=None, booster=None, callbacks=None,\n",
              "             colsample_bylevel=None, colsample_bynode=None,\n",
              "             colsample_bytree=0.8, early_stopping_rounds=None,\n",
              "             enable_categorical=False, eval_metric=None, feature_types=None,\n",
              "             gamma=0.5, gpu_id=None, grow_policy=None, importance_type=None,\n",
              "             interaction_constraints=None, learning_rate=0.001413461234193065,\n",
              "             max_bin=None, max_cat_threshold=None, max_cat_to_onehot=None,\n",
              "             max_delta_step=None, max_depth=14, max_leaves=None,\n",
              "             min_child_weight=1, missing=nan, monotone_constraints=None,\n",
              "             n_estimators=3009, n_jobs=None, num_parallel_tree=None,\n",
              "             predictor=None, random_state=1, ...)</pre><b>In a Jupyter environment, please rerun this cell to show the HTML representation or trust the notebook. <br />On GitHub, the HTML representation is unable to render, please try loading this page with nbviewer.org.</b></div><div class=\"sk-container\" hidden><div class=\"sk-item\"><div class=\"sk-estimator sk-toggleable\"><input class=\"sk-toggleable__control sk-hidden--visually\" id=\"sk-estimator-id-1\" type=\"checkbox\" checked><label for=\"sk-estimator-id-1\" class=\"sk-toggleable__label sk-toggleable__label-arrow\">XGBRegressor</label><div class=\"sk-toggleable__content\"><pre>XGBRegressor(base_score=None, booster=None, callbacks=None,\n",
              "             colsample_bylevel=None, colsample_bynode=None,\n",
              "             colsample_bytree=0.8, early_stopping_rounds=None,\n",
              "             enable_categorical=False, eval_metric=None, feature_types=None,\n",
              "             gamma=0.5, gpu_id=None, grow_policy=None, importance_type=None,\n",
              "             interaction_constraints=None, learning_rate=0.001413461234193065,\n",
              "             max_bin=None, max_cat_threshold=None, max_cat_to_onehot=None,\n",
              "             max_delta_step=None, max_depth=14, max_leaves=None,\n",
              "             min_child_weight=1, missing=nan, monotone_constraints=None,\n",
              "             n_estimators=3009, n_jobs=None, num_parallel_tree=None,\n",
              "             predictor=None, random_state=1, ...)</pre></div></div></div></div></div>"
            ]
          },
          "metadata": {},
          "execution_count": 50
        }
      ]
    },
    {
      "cell_type": "code",
      "source": [
        "y_pred = xgboost1.predict(X_valid_scale)\n",
        "valid_mae = mean_absolute_error(y_valid, y_pred)\n",
        "print('valid set에서의 mae :', valid_mae)"
      ],
      "metadata": {
        "id": "ZOpQxvE-09GV",
        "colab": {
          "base_uri": "https://localhost:8080/"
        },
        "outputId": "eea8e960-e18b-4e3f-94b3-4789a7f130af"
      },
      "execution_count": null,
      "outputs": [
        {
          "output_type": "stream",
          "name": "stdout",
          "text": [
            "valid set에서의 mae : 0.49835057730801297\n"
          ]
        }
      ]
    },
    {
      "cell_type": "code",
      "source": [],
      "metadata": {
        "id": "wwamRKHF26Qu"
      },
      "execution_count": null,
      "outputs": []
    },
    {
      "cell_type": "markdown",
      "source": [
        "##### trials 더 많이\n",
        "\n",
        "best score"
      ],
      "metadata": {
        "id": "vQtPEb3PgnUU"
      }
    },
    {
      "cell_type": "code",
      "source": [
        "def objectiveXGB(trial: Trial, X_train, y_train, X_valid, y_valid):\n",
        "    param = {\n",
        "        \"n_estimators\" : trial.suggest_int('n_estimators', 500, 4000),\n",
        "        'max_depth': trial.suggest_int('max_depth', 4, 20),\n",
        "        'min_child_weight': trial.suggest_int('min_child_weight', 1, 50),\n",
        "        'gamma': trial.suggest_discrete_uniform('gamma', 0.01, 0.5, 0.01),\n",
        "        'learning_rate': trial.suggest_loguniform('learning_rate', 0.001, 0.1),\n",
        "        'colsample_bytree': trial.suggest_discrete_uniform('colsample_bytree', 0.5, 1, 0.1),\n",
        "        'subsample': trial.suggest_discrete_uniform('subsample', 0.5, 1, 0.1),\n",
        "        'lambda': trial.suggest_loguniform('lambda', 1e-3, 10),\n",
        "        'alpha': trial.suggest_loguniform('alpha', 1e-3, 10),\n",
        "        'nthread' : 1,\n",
        "        'tree_method': 'hist',\n",
        "        'predictor': 'cpu_predictor',\n",
        "        'random_state': 1\n",
        "    }\n",
        "\n",
        "    model = XGBRegressor(**param)\n",
        "    xgb_model = model.fit(X_train, y_train, verbose = False,\n",
        "                          eval_metric = 'mae', eval_set = [(X_valid, y_valid)], early_stopping_rounds = 100)\n",
        "\n",
        "    ## MAE로 Loss 계산\n",
        "    score = mean_absolute_error(xgb_model.predict(X_valid), y_valid)\n",
        "\n",
        "    return score"
      ],
      "metadata": {
        "id": "_4rGc7jHfuEp"
      },
      "execution_count": 25,
      "outputs": []
    },
    {
      "cell_type": "code",
      "source": [
        "study = optuna.create_study(direction = 'minimize', sampler = TPESampler())\n",
        "\n",
        "study.optimize(lambda trial : objectiveXGB(trial, X_train_scale, y_train, X_valid_scale, y_valid), n_trials = 50)\n",
        "print('Best trial: score {},\\nparams {}'.format(study.best_trial.value,study.best_trial.params))"
      ],
      "metadata": {
        "colab": {
          "base_uri": "https://localhost:8080/"
        },
        "outputId": "02dcd61e-f38a-49a1-e238-6f5fb7cb67d8",
        "id": "uZEZfIvWgkOM"
      },
      "execution_count": 26,
      "outputs": [
        {
          "output_type": "stream",
          "name": "stderr",
          "text": [
            "[I 2023-08-22 14:55:08,645] A new study created in memory with name: no-name-80d28414-c78d-45eb-8c43-047621b78a60\n",
            "[I 2023-08-22 14:55:58,553] Trial 0 finished with value: 0.5255197222961054 and parameters: {'n_estimators': 3078, 'max_depth': 5, 'min_child_weight': 5, 'gamma': 0.39, 'learning_rate': 0.003778636982734191, 'colsample_bytree': 1.0, 'subsample': 0.9, 'lambda': 0.0023939357865410756, 'alpha': 9.200710777421886}. Best is trial 0 with value: 0.5255197222961054.\n",
            "[I 2023-08-22 14:58:54,967] Trial 1 finished with value: 0.5033506620197186 and parameters: {'n_estimators': 3290, 'max_depth': 11, 'min_child_weight': 30, 'gamma': 0.04, 'learning_rate': 0.0015371786741807485, 'colsample_bytree': 0.8, 'subsample': 0.6, 'lambda': 1.9746817299111212, 'alpha': 0.005270021338442792}. Best is trial 1 with value: 0.5033506620197186.\n",
            "[I 2023-08-22 14:59:45,725] Trial 2 finished with value: 0.5293518898901801 and parameters: {'n_estimators': 2092, 'max_depth': 5, 'min_child_weight': 16, 'gamma': 0.11, 'learning_rate': 0.002488444620974044, 'colsample_bytree': 0.5, 'subsample': 0.6, 'lambda': 2.1758561191880115, 'alpha': 5.334608824755808}. Best is trial 1 with value: 0.5033506620197186.\n",
            "[I 2023-08-22 15:00:28,107] Trial 3 finished with value: 0.5078162220683086 and parameters: {'n_estimators': 1937, 'max_depth': 8, 'min_child_weight': 43, 'gamma': 0.31, 'learning_rate': 0.004281389413947243, 'colsample_bytree': 0.7, 'subsample': 1.0, 'lambda': 0.0026451384748498214, 'alpha': 0.7009911044070063}. Best is trial 1 with value: 0.5033506620197186.\n",
            "[I 2023-08-22 15:00:36,019] Trial 4 finished with value: 0.5089322372786751 and parameters: {'n_estimators': 997, 'max_depth': 8, 'min_child_weight': 28, 'gamma': 0.21000000000000002, 'learning_rate': 0.05422482231116435, 'colsample_bytree': 0.7, 'subsample': 0.9, 'lambda': 0.030767913857683737, 'alpha': 0.0323242940569068}. Best is trial 1 with value: 0.5033506620197186.\n",
            "[I 2023-08-22 15:02:13,775] Trial 5 finished with value: 0.5087013858597582 and parameters: {'n_estimators': 2828, 'max_depth': 9, 'min_child_weight': 16, 'gamma': 0.33, 'learning_rate': 0.0019096110816064415, 'colsample_bytree': 0.5, 'subsample': 0.9, 'lambda': 0.09693141167454475, 'alpha': 2.0299399787415116}. Best is trial 1 with value: 0.5033506620197186.\n",
            "[I 2023-08-22 15:02:25,721] Trial 6 finished with value: 0.5076943513280162 and parameters: {'n_estimators': 3232, 'max_depth': 13, 'min_child_weight': 48, 'gamma': 0.37, 'learning_rate': 0.06701344795742228, 'colsample_bytree': 0.8, 'subsample': 1.0, 'lambda': 0.0013675432314058612, 'alpha': 0.07292696994456686}. Best is trial 1 with value: 0.5033506620197186.\n",
            "[I 2023-08-22 15:03:00,054] Trial 7 finished with value: 0.5024184459235194 and parameters: {'n_estimators': 2936, 'max_depth': 9, 'min_child_weight': 11, 'gamma': 0.45, 'learning_rate': 0.007392781313405911, 'colsample_bytree': 1.0, 'subsample': 0.6, 'lambda': 0.020193672078942602, 'alpha': 3.4504579062533436}. Best is trial 7 with value: 0.5024184459235194.\n",
            "[I 2023-08-22 15:05:20,755] Trial 8 finished with value: 0.5037691390253601 and parameters: {'n_estimators': 1063, 'max_depth': 13, 'min_child_weight': 47, 'gamma': 0.13, 'learning_rate': 0.002702916560699583, 'colsample_bytree': 0.9, 'subsample': 0.9, 'lambda': 0.29805528262122094, 'alpha': 0.0016796458885440112}. Best is trial 7 with value: 0.5024184459235194.\n",
            "[I 2023-08-22 15:10:49,917] Trial 9 finished with value: 0.5014147201929039 and parameters: {'n_estimators': 3950, 'max_depth': 19, 'min_child_weight': 3, 'gamma': 0.26, 'learning_rate': 0.0048177016142166035, 'colsample_bytree': 0.9, 'subsample': 0.6, 'lambda': 0.5443068814212624, 'alpha': 0.12135386021368948}. Best is trial 9 with value: 0.5014147201929039.\n",
            "[I 2023-08-22 15:12:58,351] Trial 10 finished with value: 0.4980332219077005 and parameters: {'n_estimators': 3973, 'max_depth': 20, 'min_child_weight': 1, 'gamma': 0.23, 'learning_rate': 0.016869725927928958, 'colsample_bytree': 0.9, 'subsample': 0.5, 'lambda': 6.180446969926181, 'alpha': 0.4895951838594758}. Best is trial 10 with value: 0.4980332219077005.\n",
            "[I 2023-08-22 15:14:55,558] Trial 11 finished with value: 0.4981711116086893 and parameters: {'n_estimators': 3985, 'max_depth': 20, 'min_child_weight': 1, 'gamma': 0.24000000000000002, 'learning_rate': 0.018257342204106457, 'colsample_bytree': 0.9, 'subsample': 0.5, 'lambda': 7.194385228073883, 'alpha': 0.37562610405280594}. Best is trial 10 with value: 0.4980332219077005.\n",
            "[I 2023-08-22 15:16:49,009] Trial 12 finished with value: 0.49791442019106263 and parameters: {'n_estimators': 3981, 'max_depth': 20, 'min_child_weight': 1, 'gamma': 0.2, 'learning_rate': 0.017680251381479658, 'colsample_bytree': 0.9, 'subsample': 0.5, 'lambda': 9.350871038321932, 'alpha': 0.6171264052867302}. Best is trial 12 with value: 0.49791442019106263.\n",
            "[I 2023-08-22 15:17:31,083] Trial 13 finished with value: 0.4985105914781187 and parameters: {'n_estimators': 3740, 'max_depth': 17, 'min_child_weight': 11, 'gamma': 0.17, 'learning_rate': 0.01797736256281581, 'colsample_bytree': 0.9, 'subsample': 0.5, 'lambda': 8.99592825341472, 'alpha': 0.7339081132436512}. Best is trial 12 with value: 0.49791442019106263.\n",
            "[I 2023-08-22 15:18:25,242] Trial 14 finished with value: 0.500879722166782 and parameters: {'n_estimators': 3499, 'max_depth': 16, 'min_child_weight': 18, 'gamma': 0.01, 'learning_rate': 0.014333823282805108, 'colsample_bytree': 1.0, 'subsample': 0.7, 'lambda': 2.7048095246302575, 'alpha': 0.276809880919396}. Best is trial 12 with value: 0.49791442019106263.\n",
            "[I 2023-08-22 15:18:56,655] Trial 15 finished with value: 0.49940973272414096 and parameters: {'n_estimators': 2482, 'max_depth': 17, 'min_child_weight': 8, 'gamma': 0.09999999999999999, 'learning_rate': 0.0303918278676154, 'colsample_bytree': 0.8, 'subsample': 0.5, 'lambda': 9.264095608771814, 'alpha': 1.3400340053950968}. Best is trial 12 with value: 0.49791442019106263.\n",
            "[I 2023-08-22 15:19:46,274] Trial 16 finished with value: 0.5032530359002342 and parameters: {'n_estimators': 1504, 'max_depth': 15, 'min_child_weight': 23, 'gamma': 0.19, 'learning_rate': 0.008731675182152116, 'colsample_bytree': 0.6, 'subsample': 0.7, 'lambda': 1.1277977423330465, 'alpha': 1.7497193128441544}. Best is trial 12 with value: 0.49791442019106263.\n",
            "[I 2023-08-22 15:20:08,387] Trial 17 finished with value: 0.5043018750190497 and parameters: {'n_estimators': 2535, 'max_depth': 19, 'min_child_weight': 33, 'gamma': 0.27, 'learning_rate': 0.029839123086382816, 'colsample_bytree': 0.9, 'subsample': 0.5, 'lambda': 3.6641589164871617, 'alpha': 0.19274645195628048}. Best is trial 12 with value: 0.49791442019106263.\n",
            "[I 2023-08-22 15:20:22,421] Trial 18 finished with value: 0.5071617753128507 and parameters: {'n_estimators': 597, 'max_depth': 20, 'min_child_weight': 38, 'gamma': 0.46, 'learning_rate': 0.09165313712047467, 'colsample_bytree': 0.8, 'subsample': 0.8, 'lambda': 1.0754802038527413, 'alpha': 0.0409082326523421}. Best is trial 12 with value: 0.49791442019106263.\n",
            "[I 2023-08-22 15:33:36,813] Trial 19 finished with value: 0.4959152315642648 and parameters: {'n_estimators': 3567, 'max_depth': 18, 'min_child_weight': 8, 'gamma': 0.15000000000000002, 'learning_rate': 0.0010347326004413705, 'colsample_bytree': 1.0, 'subsample': 0.7, 'lambda': 4.479021942680246, 'alpha': 0.49064017720085473}. Best is trial 19 with value: 0.4959152315642648.\n",
            "[I 2023-08-22 15:39:51,444] Trial 20 finished with value: 0.4986887057789408 and parameters: {'n_estimators': 3623, 'max_depth': 15, 'min_child_weight': 22, 'gamma': 0.060000000000000005, 'learning_rate': 0.0012024786970793034, 'colsample_bytree': 1.0, 'subsample': 0.8, 'lambda': 3.553164689192436, 'alpha': 1.1053746213414297}. Best is trial 19 with value: 0.4959152315642648.\n",
            "[I 2023-08-22 15:42:59,149] Trial 21 finished with value: 0.49634611325830175 and parameters: {'n_estimators': 3549, 'max_depth': 18, 'min_child_weight': 1, 'gamma': 0.16, 'learning_rate': 0.011174798518246248, 'colsample_bytree': 1.0, 'subsample': 0.7, 'lambda': 9.381996575103566, 'alpha': 0.34960907020094495}. Best is trial 19 with value: 0.4959152315642648.\n",
            "[I 2023-08-22 15:45:34,499] Trial 22 finished with value: 0.4953036375714657 and parameters: {'n_estimators': 3556, 'max_depth': 18, 'min_child_weight': 7, 'gamma': 0.14, 'learning_rate': 0.006637054092246076, 'colsample_bytree': 1.0, 'subsample': 0.7, 'lambda': 9.249845210190674, 'alpha': 0.24824769411464093}. Best is trial 22 with value: 0.4953036375714657.\n",
            "[I 2023-08-22 15:59:53,134] Trial 23 finished with value: 0.4963414373320096 and parameters: {'n_estimators': 3448, 'max_depth': 18, 'min_child_weight': 8, 'gamma': 0.15000000000000002, 'learning_rate': 0.0010200450998663004, 'colsample_bytree': 1.0, 'subsample': 0.7, 'lambda': 4.070347906780882, 'alpha': 0.3236219613631456}. Best is trial 22 with value: 0.4953036375714657.\n",
            "[I 2023-08-22 16:11:53,730] Trial 24 finished with value: 0.5025325944079614 and parameters: {'n_estimators': 2685, 'max_depth': 15, 'min_child_weight': 10, 'gamma': 0.08, 'learning_rate': 0.0010185405821179542, 'colsample_bytree': 1.0, 'subsample': 0.8, 'lambda': 0.9810723737868912, 'alpha': 0.144928307417779}. Best is trial 22 with value: 0.4953036375714657.\n",
            "[I 2023-08-22 16:23:11,554] Trial 25 finished with value: 0.4963270830865703 and parameters: {'n_estimators': 3307, 'max_depth': 17, 'min_child_weight': 6, 'gamma': 0.14, 'learning_rate': 0.001407383552463618, 'colsample_bytree': 1.0, 'subsample': 0.7, 'lambda': 4.027002596849976, 'alpha': 0.1700705387091246}. Best is trial 22 with value: 0.4953036375714657.\n",
            "[I 2023-08-22 16:30:03,798] Trial 26 finished with value: 0.4978535867496156 and parameters: {'n_estimators': 3105, 'max_depth': 17, 'min_child_weight': 13, 'gamma': 0.14, 'learning_rate': 0.0016249321267712597, 'colsample_bytree': 1.0, 'subsample': 0.7, 'lambda': 3.98547342586075, 'alpha': 0.09404161389051646}. Best is trial 22 with value: 0.4953036375714657.\n",
            "[I 2023-08-22 16:34:37,018] Trial 27 finished with value: 0.5008770239565756 and parameters: {'n_estimators': 3298, 'max_depth': 14, 'min_child_weight': 6, 'gamma': 0.03, 'learning_rate': 0.0020911662818949082, 'colsample_bytree': 0.6, 'subsample': 0.8, 'lambda': 1.8373847204727878, 'alpha': 0.19015760998293285}. Best is trial 22 with value: 0.4953036375714657.\n",
            "[I 2023-08-22 16:38:29,529] Trial 28 finished with value: 0.5032476202728844 and parameters: {'n_estimators': 2381, 'max_depth': 11, 'min_child_weight': 20, 'gamma': 0.09, 'learning_rate': 0.0013146815432650805, 'colsample_bytree': 1.0, 'subsample': 0.6, 'lambda': 0.525518794275511, 'alpha': 0.05119891826382782}. Best is trial 22 with value: 0.4953036375714657.\n",
            "[I 2023-08-22 16:43:39,003] Trial 29 finished with value: 0.4950132458867706 and parameters: {'n_estimators': 3709, 'max_depth': 18, 'min_child_weight': 6, 'gamma': 0.29000000000000004, 'learning_rate': 0.0033380994920258755, 'colsample_bytree': 1.0, 'subsample': 0.7, 'lambda': 5.0382563163568745, 'alpha': 0.03069375779561656}. Best is trial 29 with value: 0.4950132458867706.\n",
            "[I 2023-08-22 16:47:24,847] Trial 30 finished with value: 0.4972303282610446 and parameters: {'n_estimators': 3672, 'max_depth': 18, 'min_child_weight': 14, 'gamma': 0.3, 'learning_rate': 0.0029893839039809955, 'colsample_bytree': 0.9, 'subsample': 0.8, 'lambda': 4.842884717853938, 'alpha': 0.026195471855255722}. Best is trial 29 with value: 0.4950132458867706.\n",
            "[I 2023-08-22 16:51:24,376] Trial 31 finished with value: 0.49528606854215657 and parameters: {'n_estimators': 3746, 'max_depth': 16, 'min_child_weight': 6, 'gamma': 0.39, 'learning_rate': 0.0034108375081105145, 'colsample_bytree': 1.0, 'subsample': 0.7, 'lambda': 4.722013872870004, 'alpha': 0.18360374666831222}. Best is trial 29 with value: 0.4950132458867706.\n",
            "[I 2023-08-22 16:54:42,746] Trial 32 finished with value: 0.4973659018717044 and parameters: {'n_estimators': 2984, 'max_depth': 16, 'min_child_weight': 5, 'gamma': 0.41000000000000003, 'learning_rate': 0.005208093061522562, 'colsample_bytree': 1.0, 'subsample': 0.7, 'lambda': 2.024057985889396, 'alpha': 0.024605291992997547}. Best is trial 29 with value: 0.4950132458867706.\n",
            "[I 2023-08-22 16:58:39,738] Trial 33 finished with value: 0.49531769647456214 and parameters: {'n_estimators': 3671, 'max_depth': 19, 'min_child_weight': 9, 'gamma': 0.49, 'learning_rate': 0.003063773322700211, 'colsample_bytree': 1.0, 'subsample': 0.6, 'lambda': 5.2893120266150175, 'alpha': 0.015943418827808916}. Best is trial 29 with value: 0.4950132458867706.\n",
            "[I 2023-08-22 16:59:13,413] Trial 34 finished with value: 0.5393760945307814 and parameters: {'n_estimators': 3789, 'max_depth': 4, 'min_child_weight': 13, 'gamma': 0.5, 'learning_rate': 0.003519715876096437, 'colsample_bytree': 0.9, 'subsample': 0.6, 'lambda': 2.271338787257998, 'alpha': 0.015727426259576606}. Best is trial 29 with value: 0.4950132458867706.\n",
            "[I 2023-08-22 17:02:37,880] Trial 35 finished with value: 0.4949010814899992 and parameters: {'n_estimators': 2092, 'max_depth': 19, 'min_child_weight': 4, 'gamma': 0.36000000000000004, 'learning_rate': 0.005889952696122644, 'colsample_bytree': 1.0, 'subsample': 0.6, 'lambda': 6.458649197641297, 'alpha': 0.011487103061345974}. Best is trial 35 with value: 0.4949010814899992.\n",
            "[I 2023-08-22 17:05:10,376] Trial 36 finished with value: 0.49742349135549746 and parameters: {'n_estimators': 1821, 'max_depth': 16, 'min_child_weight': 4, 'gamma': 0.36000000000000004, 'learning_rate': 0.006356102399057167, 'colsample_bytree': 0.8, 'subsample': 0.6, 'lambda': 1.689713398158475, 'alpha': 0.007537645236071711}. Best is trial 35 with value: 0.4949010814899992.\n",
            "[I 2023-08-22 17:06:57,779] Trial 37 finished with value: 0.4989401882102168 and parameters: {'n_estimators': 1816, 'max_depth': 19, 'min_child_weight': 17, 'gamma': 0.41000000000000003, 'learning_rate': 0.004789549252155902, 'colsample_bytree': 0.7, 'subsample': 0.7, 'lambda': 5.920529761253014, 'alpha': 0.07205421478078537}. Best is trial 35 with value: 0.4949010814899992.\n",
            "[I 2023-08-22 17:08:31,793] Trial 38 finished with value: 0.5002143691460014 and parameters: {'n_estimators': 2125, 'max_depth': 14, 'min_child_weight': 28, 'gamma': 0.34, 'learning_rate': 0.003976800199182966, 'colsample_bytree': 0.9, 'subsample': 0.6, 'lambda': 2.9367490423093283, 'alpha': 0.056390012282820964}. Best is trial 35 with value: 0.4949010814899992.\n",
            "[I 2023-08-22 17:09:47,531] Trial 39 finished with value: 0.4956120886530163 and parameters: {'n_estimators': 1452, 'max_depth': 12, 'min_child_weight': 4, 'gamma': 0.31, 'learning_rate': 0.0063465685479278675, 'colsample_bytree': 1.0, 'subsample': 0.8, 'lambda': 9.660665245742356, 'alpha': 0.10680209109323223}. Best is trial 35 with value: 0.4949010814899992.\n",
            "[I 2023-08-22 17:10:55,285] Trial 40 finished with value: 0.5124137477803132 and parameters: {'n_estimators': 2770, 'max_depth': 7, 'min_child_weight': 13, 'gamma': 0.29000000000000004, 'learning_rate': 0.0021579522039604135, 'colsample_bytree': 0.6, 'subsample': 0.6, 'lambda': 1.6201233649708655, 'alpha': 9.517773159702783}. Best is trial 35 with value: 0.4949010814899992.\n",
            "[I 2023-08-22 17:15:02,668] Trial 41 finished with value: 0.4955260486745959 and parameters: {'n_estimators': 3158, 'max_depth': 19, 'min_child_weight': 8, 'gamma': 0.38, 'learning_rate': 0.0032246008267100006, 'colsample_bytree': 1.0, 'subsample': 0.6, 'lambda': 5.970106691880111, 'alpha': 0.011756138179410605}. Best is trial 35 with value: 0.4949010814899992.\n",
            "[I 2023-08-22 17:19:05,027] Trial 42 finished with value: 0.4954069089904252 and parameters: {'n_estimators': 3747, 'max_depth': 19, 'min_child_weight': 10, 'gamma': 0.45, 'learning_rate': 0.002772396419908575, 'colsample_bytree': 1.0, 'subsample': 0.6, 'lambda': 5.842453558854159, 'alpha': 0.004119514514776849}. Best is trial 35 with value: 0.4949010814899992.\n",
            "[I 2023-08-22 17:23:41,335] Trial 43 finished with value: 0.496668300949777 and parameters: {'n_estimators': 3394, 'max_depth': 18, 'min_child_weight': 6, 'gamma': 0.34, 'learning_rate': 0.003969098905993016, 'colsample_bytree': 1.0, 'subsample': 0.7, 'lambda': 2.6812141991859355, 'alpha': 0.036216750192003586}. Best is trial 35 with value: 0.4949010814899992.\n",
            "[I 2023-08-22 17:31:17,769] Trial 44 finished with value: 0.4943159680420559 and parameters: {'n_estimators': 2207, 'max_depth': 20, 'min_child_weight': 3, 'gamma': 0.42000000000000004, 'learning_rate': 0.0025552073969437893, 'colsample_bytree': 0.9, 'subsample': 0.6, 'lambda': 5.603492581784868, 'alpha': 0.019236752964887305}. Best is trial 44 with value: 0.4943159680420559.\n",
            "[I 2023-08-22 17:39:52,008] Trial 45 finished with value: 0.4954857617044331 and parameters: {'n_estimators': 2191, 'max_depth': 20, 'min_child_weight': 3, 'gamma': 0.41000000000000003, 'learning_rate': 0.0024383628417132324, 'colsample_bytree': 0.9, 'subsample': 0.6, 'lambda': 2.8472974272884155, 'alpha': 0.07422013560908841}. Best is trial 44 with value: 0.4943159680420559.\n",
            "[I 2023-08-22 17:48:44,963] Trial 46 finished with value: 0.4941761515029538 and parameters: {'n_estimators': 1986, 'max_depth': 17, 'min_child_weight': 3, 'gamma': 0.4, 'learning_rate': 0.0017418519496536352, 'colsample_bytree': 0.9, 'subsample': 0.7, 'lambda': 6.931130557249856, 'alpha': 0.022000014997788992}. Best is trial 46 with value: 0.4941761515029538.\n",
            "[I 2023-08-22 17:55:26,839] Trial 47 finished with value: 0.49475802785449424 and parameters: {'n_estimators': 1970, 'max_depth': 16, 'min_child_weight': 3, 'gamma': 0.39, 'learning_rate': 0.0023358303261269355, 'colsample_bytree': 0.8, 'subsample': 1.0, 'lambda': 6.710006294816096, 'alpha': 0.024764598977032114}. Best is trial 46 with value: 0.4941761515029538.\n",
            "[I 2023-08-22 18:05:15,266] Trial 48 finished with value: 0.49446618642007073 and parameters: {'n_estimators': 1957, 'max_depth': 17, 'min_child_weight': 2, 'gamma': 0.43, 'learning_rate': 0.0019330025632758856, 'colsample_bytree': 0.8, 'subsample': 1.0, 'lambda': 6.654836481136335, 'alpha': 0.021481980903756755}. Best is trial 46 with value: 0.4941761515029538.\n",
            "[I 2023-08-22 18:11:36,522] Trial 49 finished with value: 0.4950737699661216 and parameters: {'n_estimators': 1967, 'max_depth': 14, 'min_child_weight': 2, 'gamma': 0.43, 'learning_rate': 0.0018666574999302555, 'colsample_bytree': 0.8, 'subsample': 1.0, 'lambda': 6.714744279026657, 'alpha': 0.008333757832150535}. Best is trial 46 with value: 0.4941761515029538.\n"
          ]
        },
        {
          "output_type": "stream",
          "name": "stdout",
          "text": [
            "Best trial: score 0.4941761515029538,\n",
            "params {'n_estimators': 1986, 'max_depth': 17, 'min_child_weight': 3, 'gamma': 0.4, 'learning_rate': 0.0017418519496536352, 'colsample_bytree': 0.9, 'subsample': 0.7, 'lambda': 6.931130557249856, 'alpha': 0.022000014997788992}\n"
          ]
        }
      ]
    },
    {
      "cell_type": "code",
      "source": [
        "xgboost1 = XGBRegressor(random_state = 1,\n",
        "                        **study.best_trial.params)"
      ],
      "metadata": {
        "id": "XRp5h_8dgkON"
      },
      "execution_count": 27,
      "outputs": []
    },
    {
      "cell_type": "code",
      "source": [
        "xgboost1.fit(X_train_scale, y_train,\n",
        "             eval_metric = 'mae', eval_set = [(X_valid_scale, y_valid)], early_stopping_rounds = 100,\n",
        "             verbose = 100)"
      ],
      "metadata": {
        "colab": {
          "base_uri": "https://localhost:8080/",
          "height": 629
        },
        "outputId": "a7c59343-dbfb-4e33-ed65-3b9e18b42ede",
        "id": "B3sS2vrYgkON"
      },
      "execution_count": 28,
      "outputs": [
        {
          "output_type": "stream",
          "name": "stdout",
          "text": [
            "[0]\tvalidation_0-mae:1.81504\n",
            "[100]\tvalidation_0-mae:1.51178\n",
            "[200]\tvalidation_0-mae:1.26141\n",
            "[300]\tvalidation_0-mae:1.06373\n",
            "[400]\tvalidation_0-mae:0.90973\n",
            "[500]\tvalidation_0-mae:0.79072\n",
            "[600]\tvalidation_0-mae:0.70115\n",
            "[700]\tvalidation_0-mae:0.63595\n",
            "[800]\tvalidation_0-mae:0.58965\n",
            "[900]\tvalidation_0-mae:0.55739\n",
            "[1000]\tvalidation_0-mae:0.53530\n",
            "[1100]\tvalidation_0-mae:0.52027\n",
            "[1200]\tvalidation_0-mae:0.51033\n",
            "[1300]\tvalidation_0-mae:0.50366\n",
            "[1400]\tvalidation_0-mae:0.49937\n",
            "[1500]\tvalidation_0-mae:0.49665\n",
            "[1600]\tvalidation_0-mae:0.49510\n",
            "[1700]\tvalidation_0-mae:0.49429\n",
            "[1800]\tvalidation_0-mae:0.49409\n",
            "[1900]\tvalidation_0-mae:0.49419\n",
            "[1911]\tvalidation_0-mae:0.49423\n"
          ]
        },
        {
          "output_type": "execute_result",
          "data": {
            "text/plain": [
              "XGBRegressor(alpha=0.022000014997788992, base_score=None, booster=None,\n",
              "             callbacks=None, colsample_bylevel=None, colsample_bynode=None,\n",
              "             colsample_bytree=0.9, early_stopping_rounds=None,\n",
              "             enable_categorical=False, eval_metric=None, feature_types=None,\n",
              "             gamma=0.4, gpu_id=None, grow_policy=None, importance_type=None,\n",
              "             interaction_constraints=None, lambda=6.931130557249856,\n",
              "             learning_rate=0.0017418519496536352, max_bin=None,\n",
              "             max_cat_threshold=None, max_cat_to_onehot=None,\n",
              "             max_delta_step=None, max_depth=17, max_leaves=None,\n",
              "             min_child_weight=3, missing=nan, monotone_constraints=None,\n",
              "             n_estimators=1986, n_jobs=None, num_parallel_tree=None, ...)"
            ],
            "text/html": [
              "<style>#sk-container-id-1 {color: black;background-color: white;}#sk-container-id-1 pre{padding: 0;}#sk-container-id-1 div.sk-toggleable {background-color: white;}#sk-container-id-1 label.sk-toggleable__label {cursor: pointer;display: block;width: 100%;margin-bottom: 0;padding: 0.3em;box-sizing: border-box;text-align: center;}#sk-container-id-1 label.sk-toggleable__label-arrow:before {content: \"▸\";float: left;margin-right: 0.25em;color: #696969;}#sk-container-id-1 label.sk-toggleable__label-arrow:hover:before {color: black;}#sk-container-id-1 div.sk-estimator:hover label.sk-toggleable__label-arrow:before {color: black;}#sk-container-id-1 div.sk-toggleable__content {max-height: 0;max-width: 0;overflow: hidden;text-align: left;background-color: #f0f8ff;}#sk-container-id-1 div.sk-toggleable__content pre {margin: 0.2em;color: black;border-radius: 0.25em;background-color: #f0f8ff;}#sk-container-id-1 input.sk-toggleable__control:checked~div.sk-toggleable__content {max-height: 200px;max-width: 100%;overflow: auto;}#sk-container-id-1 input.sk-toggleable__control:checked~label.sk-toggleable__label-arrow:before {content: \"▾\";}#sk-container-id-1 div.sk-estimator input.sk-toggleable__control:checked~label.sk-toggleable__label {background-color: #d4ebff;}#sk-container-id-1 div.sk-label input.sk-toggleable__control:checked~label.sk-toggleable__label {background-color: #d4ebff;}#sk-container-id-1 input.sk-hidden--visually {border: 0;clip: rect(1px 1px 1px 1px);clip: rect(1px, 1px, 1px, 1px);height: 1px;margin: -1px;overflow: hidden;padding: 0;position: absolute;width: 1px;}#sk-container-id-1 div.sk-estimator {font-family: monospace;background-color: #f0f8ff;border: 1px dotted black;border-radius: 0.25em;box-sizing: border-box;margin-bottom: 0.5em;}#sk-container-id-1 div.sk-estimator:hover {background-color: #d4ebff;}#sk-container-id-1 div.sk-parallel-item::after {content: \"\";width: 100%;border-bottom: 1px solid gray;flex-grow: 1;}#sk-container-id-1 div.sk-label:hover label.sk-toggleable__label {background-color: #d4ebff;}#sk-container-id-1 div.sk-serial::before {content: \"\";position: absolute;border-left: 1px solid gray;box-sizing: border-box;top: 0;bottom: 0;left: 50%;z-index: 0;}#sk-container-id-1 div.sk-serial {display: flex;flex-direction: column;align-items: center;background-color: white;padding-right: 0.2em;padding-left: 0.2em;position: relative;}#sk-container-id-1 div.sk-item {position: relative;z-index: 1;}#sk-container-id-1 div.sk-parallel {display: flex;align-items: stretch;justify-content: center;background-color: white;position: relative;}#sk-container-id-1 div.sk-item::before, #sk-container-id-1 div.sk-parallel-item::before {content: \"\";position: absolute;border-left: 1px solid gray;box-sizing: border-box;top: 0;bottom: 0;left: 50%;z-index: -1;}#sk-container-id-1 div.sk-parallel-item {display: flex;flex-direction: column;z-index: 1;position: relative;background-color: white;}#sk-container-id-1 div.sk-parallel-item:first-child::after {align-self: flex-end;width: 50%;}#sk-container-id-1 div.sk-parallel-item:last-child::after {align-self: flex-start;width: 50%;}#sk-container-id-1 div.sk-parallel-item:only-child::after {width: 0;}#sk-container-id-1 div.sk-dashed-wrapped {border: 1px dashed gray;margin: 0 0.4em 0.5em 0.4em;box-sizing: border-box;padding-bottom: 0.4em;background-color: white;}#sk-container-id-1 div.sk-label label {font-family: monospace;font-weight: bold;display: inline-block;line-height: 1.2em;}#sk-container-id-1 div.sk-label-container {text-align: center;}#sk-container-id-1 div.sk-container {/* jupyter's `normalize.less` sets `[hidden] { display: none; }` but bootstrap.min.css set `[hidden] { display: none !important; }` so we also need the `!important` here to be able to override the default hidden behavior on the sphinx rendered scikit-learn.org. See: https://github.com/scikit-learn/scikit-learn/issues/21755 */display: inline-block !important;position: relative;}#sk-container-id-1 div.sk-text-repr-fallback {display: none;}</style><div id=\"sk-container-id-1\" class=\"sk-top-container\"><div class=\"sk-text-repr-fallback\"><pre>XGBRegressor(alpha=0.022000014997788992, base_score=None, booster=None,\n",
              "             callbacks=None, colsample_bylevel=None, colsample_bynode=None,\n",
              "             colsample_bytree=0.9, early_stopping_rounds=None,\n",
              "             enable_categorical=False, eval_metric=None, feature_types=None,\n",
              "             gamma=0.4, gpu_id=None, grow_policy=None, importance_type=None,\n",
              "             interaction_constraints=None, lambda=6.931130557249856,\n",
              "             learning_rate=0.0017418519496536352, max_bin=None,\n",
              "             max_cat_threshold=None, max_cat_to_onehot=None,\n",
              "             max_delta_step=None, max_depth=17, max_leaves=None,\n",
              "             min_child_weight=3, missing=nan, monotone_constraints=None,\n",
              "             n_estimators=1986, n_jobs=None, num_parallel_tree=None, ...)</pre><b>In a Jupyter environment, please rerun this cell to show the HTML representation or trust the notebook. <br />On GitHub, the HTML representation is unable to render, please try loading this page with nbviewer.org.</b></div><div class=\"sk-container\" hidden><div class=\"sk-item\"><div class=\"sk-estimator sk-toggleable\"><input class=\"sk-toggleable__control sk-hidden--visually\" id=\"sk-estimator-id-1\" type=\"checkbox\" checked><label for=\"sk-estimator-id-1\" class=\"sk-toggleable__label sk-toggleable__label-arrow\">XGBRegressor</label><div class=\"sk-toggleable__content\"><pre>XGBRegressor(alpha=0.022000014997788992, base_score=None, booster=None,\n",
              "             callbacks=None, colsample_bylevel=None, colsample_bynode=None,\n",
              "             colsample_bytree=0.9, early_stopping_rounds=None,\n",
              "             enable_categorical=False, eval_metric=None, feature_types=None,\n",
              "             gamma=0.4, gpu_id=None, grow_policy=None, importance_type=None,\n",
              "             interaction_constraints=None, lambda=6.931130557249856,\n",
              "             learning_rate=0.0017418519496536352, max_bin=None,\n",
              "             max_cat_threshold=None, max_cat_to_onehot=None,\n",
              "             max_delta_step=None, max_depth=17, max_leaves=None,\n",
              "             min_child_weight=3, missing=nan, monotone_constraints=None,\n",
              "             n_estimators=1986, n_jobs=None, num_parallel_tree=None, ...)</pre></div></div></div></div></div>"
            ]
          },
          "metadata": {},
          "execution_count": 28
        }
      ]
    },
    {
      "cell_type": "code",
      "source": [
        "y_pred = xgboost1.predict(X_valid_scale)\n",
        "valid_mae = mean_absolute_error(y_valid, y_pred)\n",
        "print('valid set에서의 mae :', valid_mae)"
      ],
      "metadata": {
        "colab": {
          "base_uri": "https://localhost:8080/"
        },
        "outputId": "9e67ce64-a6c9-41ce-86dd-7468b0b2d220",
        "id": "esiyAft7gkON"
      },
      "execution_count": 29,
      "outputs": [
        {
          "output_type": "stream",
          "name": "stdout",
          "text": [
            "valid set에서의 mae : 0.49406503902440385\n"
          ]
        }
      ]
    },
    {
      "cell_type": "code",
      "source": [
        "def predict_df(model) :\n",
        "  label_sample = pd.read_csv('Q1_label_sample.csv')\n",
        "\n",
        "  StationB = test_df[test_df['ru_id'] == 'BaseStationB'].iloc[:, 2:]\n",
        "  StationJ = test_df[test_df['ru_id'] == 'BaseStationJ'].iloc[:, 2:]\n",
        "\n",
        "  B_scale = ss.transform(StationB)\n",
        "  B_pred = model.predict(B_scale)\n",
        "\n",
        "  J_scale = ss.transform(StationJ)\n",
        "  J_pred = model.predict(J_scale)\n",
        "\n",
        "  label_sample['BaseStationB'] = B_pred\n",
        "  label_sample['BaseStationJ'] = J_pred\n",
        "\n",
        "  return label_sample"
      ],
      "metadata": {
        "id": "ZUHn_DyQ26dd"
      },
      "execution_count": 30,
      "outputs": []
    },
    {
      "cell_type": "code",
      "source": [
        "label_sample = predict_df(xgboost1)"
      ],
      "metadata": {
        "id": "_cesjHLn26de"
      },
      "execution_count": 31,
      "outputs": []
    },
    {
      "cell_type": "code",
      "source": [
        "label_sample.to_csv('xgb_preprocessing_time_Variable_holiday56.csv', index = False)"
      ],
      "metadata": {
        "id": "6TXzIpya26de"
      },
      "execution_count": 32,
      "outputs": []
    },
    {
      "cell_type": "markdown",
      "source": [
        "### 변수 drop 버전"
      ],
      "metadata": {
        "id": "QS8tpS3916BL"
      }
    },
    {
      "cell_type": "markdown",
      "source": [
        "##### 1."
      ],
      "metadata": {
        "id": "syhK0ZNFesF_"
      }
    },
    {
      "cell_type": "code",
      "source": [
        "drop_list = ['reestabatt', 'handoverratio', 'redirectiontolte_epsfallback', 'redirectiontolte_coverageout', 'endcaddratio', 'reestabratio',\n",
        "             'connestabratio', 'handoveratt', 'endcmodbysgnbratio', 'endcaddatt', 'rssipathavg',\n",
        "             'airmacdlbyte',\n",
        "             'endcmodbysgnbatt',\n",
        "             'scgfailratio',\n",
        "             'connestabatt']"
      ],
      "metadata": {
        "id": "9otXAL-ZEX3h"
      },
      "execution_count": null,
      "outputs": []
    },
    {
      "cell_type": "code",
      "source": [
        "X_train_drop = X_train.drop(drop_list, axis = 1)\n",
        "X_valid_drop = X_valid.drop(drop_list, axis = 1)"
      ],
      "metadata": {
        "id": "vvLb1bmpEX3h"
      },
      "execution_count": null,
      "outputs": []
    },
    {
      "cell_type": "code",
      "source": [
        "# scaling\n",
        "ss = StandardScaler()\n",
        "\n",
        "X_train_scale2 = ss.fit_transform(X_train_drop)\n",
        "X_valid_scale2 = ss.transform(X_valid_drop)"
      ],
      "metadata": {
        "id": "l2bwCG6_EX3h"
      },
      "execution_count": null,
      "outputs": []
    },
    {
      "cell_type": "code",
      "source": [
        "study2 = optuna.create_study(direction = 'minimize', sampler = TPESampler())\n",
        "\n",
        "study2.optimize(lambda trial : objectiveXGB(trial, X_train_scale2, y_train, X_valid_scale2, y_valid), n_trials = 50)\n",
        "print('Best trial: score {},\\nparams {}'.format(study2.best_trial.value,study2.best_trial.params))"
      ],
      "metadata": {
        "id": "efOfDJco24L9"
      },
      "execution_count": null,
      "outputs": []
    },
    {
      "cell_type": "code",
      "source": [
        "xgboost3 = XGBRegressor(random_state = 1,\n",
        "                        **study2.best_trial.params)"
      ],
      "metadata": {
        "id": "LIDH6F6uB1is"
      },
      "execution_count": null,
      "outputs": []
    },
    {
      "cell_type": "code",
      "source": [
        "xgboost3.fit(X_train_scale2, y_train,\n",
        "             eval_metric = 'mae', eval_set = [(X_valid_scale2, y_valid)], early_stopping_rounds = 100,\n",
        "             verbose = 100)"
      ],
      "metadata": {
        "id": "gImnuk9TB1is"
      },
      "execution_count": null,
      "outputs": []
    },
    {
      "cell_type": "code",
      "source": [
        "y_pred = xgboost3.predict(X_valid_scale2)\n",
        "valid_mae = mean_absolute_error(y_valid, y_pred)\n",
        "print('valid set에서의 mae :', valid_mae)"
      ],
      "metadata": {
        "id": "WjQPil4RB1is"
      },
      "execution_count": null,
      "outputs": []
    },
    {
      "cell_type": "code",
      "source": [],
      "metadata": {
        "id": "Pg94jqC0B5Tz"
      },
      "execution_count": null,
      "outputs": []
    },
    {
      "cell_type": "markdown",
      "source": [
        "##### 2."
      ],
      "metadata": {
        "id": "R-ApRlwbevKJ"
      }
    },
    {
      "cell_type": "code",
      "source": [
        "drop_list = ['reestabatt', 'handoverratio', 'redirectiontolte_epsfallback', 'redirectiontolte_coverageout', 'endcaddratio', 'reestabratio',\n",
        "             'connestabratio', 'handoveratt', 'endcmodbysgnbratio', 'endcaddatt', 'rssipathavg',\n",
        "             'airmacdlbyte',\n",
        "             'endcmodbysgnbatt']"
      ],
      "metadata": {
        "id": "QvhKVVGdewZA"
      },
      "execution_count": null,
      "outputs": []
    },
    {
      "cell_type": "code",
      "source": [
        "X_train_drop = X_train.drop(drop_list, axis = 1)\n",
        "X_valid_drop = X_valid.drop(drop_list, axis = 1)"
      ],
      "metadata": {
        "id": "-mERKSjHewZA"
      },
      "execution_count": null,
      "outputs": []
    },
    {
      "cell_type": "code",
      "source": [
        "# scaling\n",
        "ss = StandardScaler()\n",
        "\n",
        "X_train_scale2 = ss.fit_transform(X_train_drop)\n",
        "X_valid_scale2 = ss.transform(X_valid_drop)"
      ],
      "metadata": {
        "id": "0BpTMsS7ewZA"
      },
      "execution_count": null,
      "outputs": []
    },
    {
      "cell_type": "code",
      "source": [
        "study2 = optuna.create_study(direction = 'minimize', sampler = TPESampler())\n",
        "\n",
        "study2.optimize(lambda trial : objectiveXGB(trial, X_train_scale2, y_train, X_valid_scale2, y_valid), n_trials = 50)\n",
        "print('Best trial: score {},\\nparams {}'.format(study2.best_trial.value,study2.best_trial.params))"
      ],
      "metadata": {
        "id": "83Ib1MODewZA"
      },
      "execution_count": null,
      "outputs": []
    },
    {
      "cell_type": "code",
      "source": [
        "xgboost4 = XGBRegressor(random_state = 1,\n",
        "                        **study2.best_trial.params)"
      ],
      "metadata": {
        "id": "2gpIVl9SewZB"
      },
      "execution_count": null,
      "outputs": []
    },
    {
      "cell_type": "code",
      "source": [
        "xgboost4.fit(X_train_scale2, y_train,\n",
        "             eval_metric = 'mae', eval_set = [(X_valid_scale2, y_valid)], early_stopping_rounds = 100,\n",
        "             verbose = 100)"
      ],
      "metadata": {
        "id": "ZGi7xOs4ewZB"
      },
      "execution_count": null,
      "outputs": []
    },
    {
      "cell_type": "code",
      "source": [
        "y_pred = xgboost4.predict(X_valid_scale2)\n",
        "valid_mae = mean_absolute_error(y_valid, y_pred)\n",
        "print('valid set에서의 mae :', valid_mae)"
      ],
      "metadata": {
        "id": "E-JkfbY9ewZB"
      },
      "execution_count": null,
      "outputs": []
    },
    {
      "cell_type": "code",
      "source": [
        "def predict_df(model) :\n",
        "  label_sample = pd.read_csv('Q1_data/Q1_label_sample.csv')\n",
        "\n",
        "  StationB = test_df[test_df['ru_id'] == 'BaseStationB'].iloc[:, 2:]\n",
        "  StationJ = test_df[test_df['ru_id'] == 'BaseStationJ'].iloc[:, 2:]\n",
        "\n",
        "  B_scale = ss.transform(StationB.drop(drop_list, axis = 1))\n",
        "  B_pred = model.predict(B_scale)\n",
        "\n",
        "  J_scale = ss.transform(StationJ.drop(drop_list, axis = 1))\n",
        "  J_pred = model.predict(J_scale)\n",
        "\n",
        "  label_sample['BaseStationB'] = B_pred\n",
        "  label_sample['BaseStationJ'] = J_pred\n",
        "\n",
        "  return label_sample"
      ],
      "metadata": {
        "id": "iS01Q2E3AoAC"
      },
      "execution_count": null,
      "outputs": []
    },
    {
      "cell_type": "code",
      "source": [
        "label_sample = predict_df(xgboost4)"
      ],
      "metadata": {
        "id": "lcZpr986BDRY"
      },
      "execution_count": null,
      "outputs": []
    },
    {
      "cell_type": "code",
      "source": [
        "label_sample.to_csv('Q1_data/xgb_drop_optuna.csv', index = False)"
      ],
      "metadata": {
        "id": "FI0acdFIH-pC"
      },
      "execution_count": null,
      "outputs": []
    }
  ]
}